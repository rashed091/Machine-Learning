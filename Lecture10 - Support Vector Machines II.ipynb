{
 "cells": [
  {
   "cell_type": "markdown",
   "metadata": {},
   "source": [
    "$$ \\LaTeX \\text{ command declarations here.}\n",
    "\\newcommand{\\N}{\\mathcal{N}}\n",
    "\\newcommand{\\R}{\\mathbb{R}}\n",
    "\\renewcommand{\\vec}[1]{\\mathbf{#1}}\n",
    "\\newcommand{\\norm}[1]{\\|#1\\|_2}\n",
    "\\newcommand{\\d}{\\mathop{}\\!\\mathrm{d}}\n",
    "\\newcommand{\\qed}{\\qquad \\mathbf{Q.E.D.}}\n",
    "\\newcommand{\\vx}{\\mathbf{x}}\n",
    "\\newcommand{\\vy}{\\mathbf{y}}\n",
    "\\newcommand{\\vt}{\\mathbf{t}}\n",
    "\\newcommand{\\vb}{\\mathbf{b}}\n",
    "\\newcommand{\\vw}{\\mathbf{w}}\n",
    "\\newcommand{\\vm}{\\mathbf{m}}\n",
    "\\newcommand{\\I}{\\mathbb{I}}\n",
    "\\newcommand{\\th}{\\text{th}}\n",
    "$$"
   ]
  },
  {
   "cell_type": "code",
   "execution_count": 1,
   "metadata": {
    "collapsed": false,
    "slideshow": {
     "slide_type": "skip"
    }
   },
   "outputs": [],
   "source": [
    "%matplotlib inline\n",
    "from __future__ import division\n",
    "# plotting\n",
    "from matplotlib import pyplot as plt;\n",
    "import matplotlib as mpl;\n",
    "from matplotlib import gridspec;\n",
    "from mpl_toolkits.mplot3d import Axes3D\n",
    "if \"bmh\" in plt.style.available: plt.style.use(\"bmh\");\n",
    "    \n",
    "# scientific\n",
    "import numpy as np;\n",
    "import scipy as scp;\n",
    "import scipy.stats;\n",
    "\n",
    "# scikit-learn\n",
    "import sklearn;\n",
    "from sklearn.kernel_ridge import KernelRidge;\n",
    "\n",
    "# python\n",
    "import random;\n",
    "\n",
    "from IPython.display import Image\n",
    "from IPython.core.display import HTML \n",
    "\n",
    "# warnings\n",
    "import warnings\n",
    "warnings.filterwarnings(\"ignore\")\n",
    "\n",
    "# rise config\n",
    "from notebook.services.config import ConfigManager\n",
    "cm = ConfigManager()\n",
    "cm.update('livereveal', {\n",
    "              'theme': 'simple',\n",
    "              'start_slideshow_at': 'selected',\n",
    "              'transition':'fade',\n",
    "              'scroll': False\n",
    "});"
   ]
  },
  {
   "cell_type": "markdown",
   "metadata": {
    "slideshow": {
     "slide_type": "slide"
    }
   },
   "source": [
    "## Outline\n",
    "\n",
    "- Prerequisite\n",
    "\n",
    "- Maximum Margin Classifier\n",
    "    - Problem Formulation\n",
    "    - Linear Separability\n",
    "    - Optimal Soft Margin Hyperplane (OSMH)\n",
    "\n",
    "- Duality\n",
    "    - Concepts\n",
    "    - KKT Conditions\n",
    "\n",
    "- Optimal Soft Margin Hyperplane\n",
    "    - Dual Problem Formulation    \n",
    "    - Support Vectors\n",
    "    - Kernelization and SVM\n",
    "    "
   ]
  },
  {
   "cell_type": "markdown",
   "metadata": {
    "slideshow": {
     "slide_type": "slide"
    }
   },
   "source": [
    "## Reading List\n",
    "\n",
    "- Required:\n",
    "    - **[PRML]**, §7.1: Maximum Margin Classifiers\n",
    "\n",
    "- Optional:    \n",
    "    - **[CS229]**, Lecture Notes 03: [Support Vector Machines & Kernels](http://cs229.stanford.edu/notes/cs229-notes3.pdf)"
   ]
  },
  {
   "cell_type": "markdown",
   "metadata": {
    "slideshow": {
     "slide_type": "skip"
    }
   },
   "source": [
    "> In this lecture, we will introduce a classifier with heuristical idea, which is finding a separating hyperplane such that the distance from any datapoint to it is maximized. This classifier is called *maximum margin classifier*. The parameter of this classifier can be obtained by solving a simple optimization problem. The disadvantage of maximum margin classifier is that it doesn't work for dataset that is not linearly separable. To deal with this, we will do some slackness and convert original optimal hard margin hyperplane problem into *optimal soft margin hyperplane (OSMH)* problem. Instead of solving OSMH problem directly, we will show how to solve it by solving its dual problem. This can be advantageous because sometimes dual problem can be easier to solve than original problem. Don't be afraid if you don't have much knowledge about convex duality, some basics of duality will be reviewed. With these knowledge, we will show how to formulate the dual problem and how to obtain primal solution out of dual solution. Then, some analysis about support vectors will be proposed both analytically and geometrically. Finally, how to apply kernel trick to our classifier is shown. This is critical because kernel can map original feature into some higher dimensional feature space just like we talked about in last lecture."
   ]
  },
  {
   "cell_type": "markdown",
   "metadata": {
    "collapsed": true,
    "slideshow": {
     "slide_type": "slide"
    }
   },
   "source": [
    "## Preliminaries"
   ]
  },
  {
   "cell_type": "markdown",
   "metadata": {
    "slideshow": {
     "slide_type": "slide"
    }
   },
   "source": [
    "### Vapnik's Principle:\n",
    "\n",
    "> \"When solving a problem of interest, do not solve a more general problem as an intermediate step.\"\n",
    "\n",
    "> \"Don't solve a harder problem than you have to\" "
   ]
  },
  {
   "cell_type": "markdown",
   "metadata": {
    "slideshow": {
     "slide_type": "slide"
    }
   },
   "source": [
    "### Review:  Linear Classifiers\n",
    "\n",
    "- Linear classifiers make decisions based on a linear (or more generally affine) combination of features.\n",
    "    - *Generative*: Require estimation of (conditional) densities or mass functions.\n",
    "        - GDA, Naive Bayes\n",
    "    - *Discriminative*: Often much easier to just determine the \"decision boundary.\"\n",
    "        - Logistic Regression, Perceptron\n",
    "\n",
    "- Based on *Vapnik's Principle*, we will focus on a discriminative classifier **Support Vector Machine (SVM)**  in this lecture."
   ]
  },
  {
   "cell_type": "markdown",
   "metadata": {
    "slideshow": {
     "slide_type": "slide"
    }
   },
   "source": [
    "### Preliminaries: Hyperplane\n",
    "\n",
    "- **Hyperplane** is an affine subspace one dimension fewer than its ambient space.\n",
    "    - The hyperplanes of a 2-D space are 1-D lines.\n",
    "    - The hyperplanes of a 3-D space are 2-D planes.\n",
    "    \n",
    "- Mathematically, a **hyperplane** is of the form \n",
    "    $$\n",
    "    \\mathbb{H} = \\{\\mathbf{x} : \\mathbf{w^T}\\mathbf{x} + b = 0\\}\n",
    "    $$ \n",
    "    where $\\mathbf{w} \\in \\mathbb{R}^d$, $b \\in \\mathbb{R}$ and $d$ is the number of features.\n",
    "       "
   ]
  },
  {
   "cell_type": "markdown",
   "metadata": {
    "slideshow": {
     "slide_type": "slide"
    }
   },
   "source": [
    "### Preliminaries: Point-Plane Distance\n",
    "\n",
    "- Given a hyperplane $\\mathbb{H} = \\{\\mathbf{x} : \\mathbf{w}^T\\mathbf{x} + b = 0\\}$ and a point $\\mathbf{z} \\not \\in \\mathbb{H}$, what is the point-plane distance from $\\mathbf{z}$ to $\\mathbb{H}$?\n",
    "\n",
    "- We can write $\\mathbf{z}$ as:        \n",
    "    $$\n",
    "    \\mathbf{z} = \\mathbf{z}_0 + r \\cdot \\frac{\\mathbf{w}}{\\| \\mathbf{w} \\|}\n",
    "    $$\n",
    "    \n",
    "- We have decomposed $\\mathbf{z}$ into two components:\n",
    "    $$\n",
    "    \\mathbf{z}_0 \\in \\mathbb{H} \\qquad r \\frac{\\mathbf{w}}{\\| \\mathbf{w} \\|} \\perp \\mathbb{H}\n",
    "    $$\n",
    "    <center>\n",
    "    <div class=\"image\"   style=\"width:300px\">\n",
    "        <img src=\"images/pointplanedistance.png\">\n",
    "    </div>\n",
    "    </center>\n",
    "- So the distance is then given by $|r|$!\n"
   ]
  },
  {
   "cell_type": "markdown",
   "metadata": {
    "slideshow": {
     "slide_type": "slide"
    }
   },
   "source": [
    "### Preliminaries: Point-Plane Distance\n",
    "\n",
    "- Calculating $|r|$:\n",
    "    $$\\begin{split}\n",
    "    \\vw^T\\mathbf{z} + b \n",
    "    &= \\vw^T \\left(\\mathbf{z}_0 + r \\cdot \\frac{\\mathbf{w}}{\\| \\mathbf{w} \\|} \\right) + b \\\\\n",
    "    &= \\underbrace{\\mathbf{w}^T\\mathbf{z}_0 +b}_{=0}+ \\vw^T \\left(r \\cdot \\frac{\\vw}{\\| \\vw \\| }\\right) \\\\\n",
    "    &= r \\frac{\\vw^T\\vw}{\\| \\vw \\|} \\\\\n",
    "    &= r \\|\\vw \\|  \\\\\n",
    "    \\end{split}\n",
    "    $$\n",
    "    Therefore, point-plane distance from point $\\mathbf{z}$ to plane $\\{\\mathbf{x} : \\mathbf{w}^T\\mathbf{x} + b = 0\\}$ is\n",
    "    $$\n",
    "    \\boxed{|r| = \\frac{|\\vw^T \\mathbf{z} + b|}{\\|\\vw\\|}}\n",
    "    $$\n"
   ]
  },
  {
   "cell_type": "markdown",
   "metadata": {
    "slideshow": {
     "slide_type": "slide"
    }
   },
   "source": [
    "### Preliminaries\n",
    "\n",
    "- **Separating Hyperplanes**\n",
    "    - Provide a way of solving 2-class classification problems.\n",
    "\n",
    "    - **Idea:** divide the vector space $\\mathbb{R}^d$ where $d$ is the number of features into 2 \"decision regions\" with a $\\mathbb{R}^{d - 1}$  subspace (a hyperplane).\n",
    "        - Eg. Logistic Regression, Perceptron, LDA\n",
    "    \n",
    "    - As with other linear classifiers, classification could be achieved by\n",
    "        $$\n",
    "        y = \\text{sign}(\\vw^T\\vx + b)\n",
    "        $$\n",
    "        **Note:** We may use $\\vx$ and $\\phi(\\vx)$ interchangeably to denote features.\n",
    "    \n",
    "- **(Functional) Margin**\n",
    "    - The distance from a separating hyperplane to the *closest* datapoint of *any* class.    \n",
    "        $$\n",
    "        \\rho\n",
    "        = \\rho(\\vw, b) \n",
    "        = \\min_{i = 1, ..., n} \\frac{| \\vw^T\\vx_i + b |}{\\| \\vw \\|}\n",
    "        $$\n",
    "        where $\\mathbf{x}_i$ is the $i$th datapoint from the training set."
   ]
  },
  {
   "cell_type": "markdown",
   "metadata": {
    "slideshow": {
     "slide_type": "slide"
    }
   },
   "source": [
    "## Maximum Margin Classifier"
   ]
  },
  {
   "cell_type": "markdown",
   "metadata": {
    "slideshow": {
     "slide_type": "slide"
    }
   },
   "source": [
    "### Maximum Margin Classifier\n",
    "- **Max. Margin Classifiers:** separate data by looking for the hyperplane that maximizes the margin."
   ]
  },
  {
   "cell_type": "code",
   "execution_count": 2,
   "metadata": {
    "collapsed": true,
    "slideshow": {
     "slide_type": "skip"
    }
   },
   "outputs": [],
   "source": [
    "# ADAPTED FROM SCIKIT-LEARN EXAMPLE\n",
    "# (http://scikit-learn.org/stable/modules/svm.html)\n",
    "def max_margin_classifier(fig, X, Y):\n",
    "    ax = fig.add_subplot(122, adjustable=\"box-forced\", aspect='equal')\n",
    "    clf = sklearn.svm.SVC(kernel='linear')\n",
    "    clf.fit(X, Y)\n",
    "\n",
    "    # get the separating hyperplane\n",
    "    w = clf.coef_[0]\n",
    "    m = -w[0] / w[1]\n",
    "    xx = np.linspace(-5, 5)\n",
    "    yy = m * xx - (clf.intercept_[0]) / w[1]\n",
    "\n",
    "    # plot the parallel lines to the separating hyperplane that pass through the\n",
    "    # support vectors\n",
    "    t = clf.support_vectors_[0]\n",
    "    yy_down = m * xx + (t[1] - m * t[0])\n",
    "    t = clf.support_vectors_[-1]\n",
    "    yy_up = m * xx + (t[1] - m * t[0])\n",
    "\n",
    "    ax.plot(xx, yy, 'g-')\n",
    "    ax.plot(xx, yy_down, 'g--')\n",
    "    ax.plot(xx, yy_up, 'g--')\n",
    "\n",
    "    ax.scatter(clf.support_vectors_[:, 0], clf.support_vectors_[:, 1], s=120, facecolors='none', edgecolors='k', linewidth=3);\n",
    "    ax.scatter(X[:, 0], X[:, 1], c=Y, cmap=plt.cm.Paired, s=40)\n",
    "    plt.xlim([-5, 5]); plt.ylim([-5, 5]);\n",
    "    ax.quiver(0, -clf.intercept_[0]/ w[1], w[0]/np.sqrt(w[0]**2+w[1]**2), w[1]/np.sqrt(w[0]**2+w[1]**2), angles='xy', scale_units='xy', scale=0.75, color='r')\n",
    "    plt.title(\"Maximum Margin Classifier\");\n",
    "\n",
    "\n",
    "    ax = fig.add_subplot(121, adjustable=\"box-forced\", aspect='equal')\n",
    "    ax.scatter(X[:, 0], X[:, 1], c=Y, cmap=plt.cm.Paired, s=40)\n",
    "    xx = np.linspace(-5, 5)\n",
    "\n",
    "    # Maximum Margin Classifier\n",
    "    line1, = ax.plot(xx, yy, 'g')\n",
    "    sv = clf.support_vectors_[[0, -1], :]\n",
    "    proj_x = ( sv[:,0]+m*sv[:,1]-m*(- clf.intercept_[0]/w[1]) )/(m**2+1)\n",
    "    proj_y = proj_x*m - clf.intercept_[0]/w[1]\n",
    "    proj = np.array([proj_x, proj_y])\n",
    "    proj = proj.T\n",
    "    ax.plot(np.array([sv[0,0], proj[0,0]]), np.array([sv[0,1], proj[0,1]]), 'g--')\n",
    "\n",
    "    # Non-maximum Margin Classifier\n",
    "    X_new = np.concatenate((X[0:30,:], np.array([[1, -4]]), X[30:60,:]))\n",
    "    Y_new = [0] * 30 + [1] * 31\n",
    "    clf = sklearn.svm.SVC(kernel='linear')\n",
    "    clf.fit(X_new, Y_new)\n",
    "    w = clf.coef_[0]\n",
    "    m = -w[0] / w[1]\n",
    "    xx = np.linspace(-5, 5)\n",
    "    yy = m * xx - (clf.intercept_[0]) / w[1]\n",
    "    line2, = ax.plot(xx, yy, 'b')\n",
    "    sv = clf.support_vectors_[[0, -1], :]\n",
    "    proj_x = ( sv[:,0]+m*sv[:,1]-m*(- clf.intercept_[0]/w[1]) )/(m**2+1)\n",
    "    proj_y = proj_x*m - clf.intercept_[0]/w[1]\n",
    "    proj = np.array([proj_x, proj_y])\n",
    "    proj = proj.T\n",
    "    ax.plot(np.array([sv[0,0], proj[0,0]]), np.array([sv[0,1], proj[0,1]]), 'b--')\n",
    "\n",
    "    # Misclassify\n",
    "    X_new = X[30:60, :]\n",
    "    Y_new = [0] * 15 + [1] * 15\n",
    "    clf = sklearn.svm.SVC(kernel='linear')\n",
    "    clf.fit(X_new, Y_new)\n",
    "    w = clf.coef_[0]\n",
    "    m = -w[0] / w[1]\n",
    "    xx = np.linspace(-5, 5)\n",
    "    yy = m * xx - (clf.intercept_[0]) / w[1]\n",
    "    line3, = ax.plot(xx, yy, 'r')\n",
    "    plt.xlim([-5, 5]); plt.ylim([-5, 5]);\n",
    "\n",
    "    plt.legend((line1, line2, line3), ('Max Margin', 'Non-max Margin', 'Misclassify'), fontsize='small')\n",
    "    plt.title(\"Different Classifiers\");\n",
    "\n",
    "def plot_svc():\n",
    "    # Create 30 random points\n",
    "    np.random.seed()\n",
    "    X = np.r_[np.random.randn(30, 2) - [3, 3], np.random.randn(30, 2) + [3, 3]]\n",
    "    Y = [0] * 30 + [1] * 30\n",
    "\n",
    "    fig = plt.figure(figsize=(11,4))\n",
    "    max_margin_classifier(fig, X, Y)"
   ]
  },
  {
   "cell_type": "code",
   "execution_count": 3,
   "metadata": {
    "collapsed": false,
    "slideshow": {
     "slide_type": "-"
    }
   },
   "outputs": [
    {
     "data": {
      "image/png": "[encoded data removed]",
      "text/plain": [
       "<matplotlib.figure.Figure at 0x7fbd25f78f28>"
      ]
     },
     "metadata": {},
     "output_type": "display_data"
    }
   ],
   "source": [
    "plot_svc();"
   ]
  },
  {
   "cell_type": "markdown",
   "metadata": {
    "slideshow": {
     "slide_type": "-"
    }
   },
   "source": [
    "- The length of dotted segment in left plot is margin $\\rho$.\n",
    "- Properties  \n",
    "    - tends to guarantee better generalization performance.\n",
    "    - more robust to noise\n",
    "    - misclassification unlikely with a wide margin between classes."
   ]
  },
  {
   "cell_type": "markdown",
   "metadata": {
    "slideshow": {
     "slide_type": "slide"
    }
   },
   "source": [
    "### Finding the Max-Margin Hyperplane\n",
    "\n",
    "- For dataset $\\{\\vx_i, t_i \\}_{i=1}^n $, maximum margin separating hyperplane is the solution of\n",
    "    $$\n",
    "    \\begin{split}\n",
    "    \\underset{\\vw, b}{\\text{maximize}} \\quad & \\min_{i = 1, ..., n} \\frac{| \\vw^T\\vx_i + b |}{\\| \\vw \\|}\\\\\n",
    "    \\text{subject to} \\quad & t_i(\\vw^T \\vx_i + b) > 0  \\quad \\forall i \\\\\n",
    "    \\end{split}\n",
    "    $$\n",
    "    of which the constraint ensures every training data is correctly classified\n",
    "    -  Note that $t_i \\in \\{+1, -1\\}$ is the label of $i$th training data\n",
    "    \n",
    "- This problem guarantees optimal hyperplane, but the solution $\\vw$ and $b$ is **not** unique :\n",
    "    - we could scale both $\\vw$ and $b$ by arbitrary scalar without affecting $\\mathbb{H} = \\{\\vx : \\vw^T\\vx + b = 0\\}$\n",
    "    - we have infinite sets of solutions"
   ]
  },
  {
   "cell_type": "markdown",
   "metadata": {
    "slideshow": {
     "slide_type": "slide"
    }
   },
   "source": [
    "### Ensuring Uniqueness of Solution\n",
    "- For the optimal hyperplane $\\mathbf{H}$ and *one* set of $\\vw$ and $b$, let \n",
    "    $$\n",
    "    m=\\underset{i = 1, ..., n}{\\min} \\left| \\vw^T\\vx_i + b \\right|\n",
    "    $$\n",
    "- If we scale $\\vw$ and $b$ by $\\frac{1}{m}$, we could get a new and unique set of $\\vw$ and $b$ such that\n",
    "    - $\\underset{i = 1, ..., n}{\\min} \\left| \\vw^T\\vx_i + b \\right|=1$ and margin becomes $\\frac{1}{\\| \\vw \\|}$\n",
    "    - $t_i(\\vw^T \\vx_i + b) = 1$ for some $i$ and $t_i(\\vw^T \\vx_i + b) > 1$ for other $i$'s\n",
    "- So, conversely, if we restrict $t_i(\\vw^T \\vx_i + b) = 1$ for some $i$ and $t_i(\\vw^T \\vx_i + b) > 1$ for other $i$'s, we have\n",
    "    - $\\underset{i = 1, ..., n}{\\min} \\left| \\vw^T\\vx_i + b \\right|=1$ and margin becomes $\\frac{1}{\\| \\vw \\|}$\n",
    "    - problem will have *unique* solution $\\vw$ and $b$\n",
    "- Original problem can be converted into\n",
    "    $$\n",
    "    \\begin{split}\n",
    "    \\underset{\\vw, b}{\\text{maximize}} \\quad & \\min_{i = 1, ..., n} \\frac{| \\vw^T\\vx_i + b |}{\\| \\vw \\|}\\\\\n",
    "    \\text{subject to} \\quad & t_i(\\vw^Tx_i + b) > 0  \\quad \\forall i \\\\\n",
    "    \\quad\n",
    "    \\end{split}\n",
    "    \\Longrightarrow\n",
    "    \\begin{split}\n",
    "    \\underset{\\vw, b}{\\text{maximize}} \\quad & \\frac{1}{\\| \\vw \\|}\\\\\n",
    "    \\text{subject to} \\quad & t_i(\\vw^T \\vx_i + b) = 1 \\quad \\text{ for some } i\\\\\n",
    "     \\quad & t_i(\\vw^T \\vx_i + b) > 1 \\quad \\text{ for other } i\\\\\n",
    "    \\end{split}\n",
    "    $$"
   ]
  },
  {
   "cell_type": "markdown",
   "metadata": {
    "slideshow": {
     "slide_type": "slide"
    }
   },
   "source": [
    "### Restatement of Optimization Problem\n",
    "\n",
    "- Simplifying further, we have \n",
    "    $$\n",
    "    \\begin{split}\n",
    "    \\underset{\\vw, b}{\\text{maximize}} \\quad & \\frac{1}{\\| \\vw \\|}\\\\\n",
    "    \\text{subject to} \\quad & t_i(\\vw^T \\vx_i + b) = 1 \\text{ for some } i\\\\\n",
    "     \\quad & t_i(\\vw^T \\vx_i + b) > 1  \\text{ for other } i\\\\\n",
    "    \\end{split}\n",
    "    \\Longrightarrow\n",
    "    \\begin{split}\n",
    "    \\underset{\\vw, b}{\\text{minimize}} \\quad & \\frac{1}{2}{\\| \\vw \\|}^2\\\\\\\n",
    "    \\text{subject to} \\quad & t_i(\\vw^T \\vx_i + b) \\geq 1 \\quad \\forall i \\\\\n",
    "    \\quad\n",
    "    \\end{split}\n",
    "    $$\n"
   ]
  },
  {
   "cell_type": "markdown",
   "metadata": {
    "slideshow": {
     "slide_type": "slide"
    }
   },
   "source": [
    "### Linear Separability\n",
    "\n",
    "- Two classes of data are said to be **linearly separable** if there exists a hyperplane that separates them without any errors.\n",
    "- So far, we have looked at primarily linearly separable data where a single hyperplane will do for classification.\n",
    "- We can extend on this notion to a multiclass scenario by considering data to be linearly separable if there exists a set of hyperplanes that can classify each class of examples from the rest (again without errors).\n",
    "- **BUT**, how to deal with data that **aren't** linearly separable?\n",
    "    - Use \"slack\" variables that allow for misclassification and penalize misclassification.\n",
    "        - This is the protagonist of this lecture.\n",
    "        - Hyperplane obtained in this way is called **optimal soft-margin hyperplane (OSMH)**\n",
    "    - Extend linear classifiers with kernels."
   ]
  },
  {
   "cell_type": "markdown",
   "metadata": {
    "slideshow": {
     "slide_type": "slide"
    }
   },
   "source": [
    "### Optimal Soft-Margin Hyperplane (OSMH)\n",
    "\n",
    "- To deal with non-linearly separable case, we could introduce slack variables:\n",
    "    $$\n",
    "    \\begin{split}\n",
    "    \\underset{\\vw, b}{\\text{minimize}} \\quad & \\frac{1}{2}{\\| \\vw \\|}^2\\\\\\\n",
    "    \\text{subject to} \\quad & t_i(\\vw^T \\vx_i + b) \\geq 1 \\quad \\forall i \\\\\n",
    "    & \\\\\n",
    "    \\end{split}\n",
    "    \\quad\n",
    "    \\Longrightarrow\n",
    "    \\quad\n",
    "    \\begin{split}\n",
    "    \\underset{\\vw, b, \\xi}{\\text{minimize}} \\quad & \\frac{1}{2}{\\| \\vw \\|}^2 + \\frac{C}{n} \\sum \\nolimits_{i = 1}^n \\xi_i\\\\\n",
    "    \\text{subject to} \\quad & t_i(\\vw^T\\vx_i + b) \\geq 1 - \\xi_i \\quad \\forall i\\\\\n",
    "     \\quad & \\xi_i \\geq 0 \\quad \\forall i\\\\\n",
    "    \\end{split}\n",
    "    $$\n",
    "\n",
    "- New term $\\frac{C}{n} \\sum_{i = 1}^n \\xi_i$ penalizes errors and accounts for the influence of outliers through a constant $C \\geq 0$ (0 would lead us back to the hard margin case) and $\\mathbf{\\xi} = [\\xi_1, ..., \\xi_n]$ are the slack variables.\n",
    "\n",
    "- **Motivation:**\n",
    "    - The **objective function** ensures margin is large *and* the margin violations are small\n",
    "    - The **first set of constraints** ensures classifier is doing well\n",
    "        * similar to the prev. max-margin constraint, except we now allow for slack\n",
    "    - The **second set of constraints** ensure slack variables are non-negative.\n",
    "        - keeps the optimization problem from *\"diverging\"*\n",
    "        \n",
    "- Instead of solving this problem directly, we prefer to solve its **dual problem**.\n",
    "    - Sometimes, dual problem is easier to solve than original problem\n",
    "\n",
    "- Next, we will review basics of duality"
   ]
  },
  {
   "cell_type": "markdown",
   "metadata": {
    "slideshow": {
     "slide_type": "slide"
    }
   },
   "source": [
    "## Review: Duality"
   ]
  },
  {
   "cell_type": "markdown",
   "metadata": {
    "slideshow": {
     "slide_type": "slide"
    }
   },
   "source": [
    "###  Lagrangian \n",
    "\n",
    "- Consider a ** constrained optimization problem ** \n",
    "    $$\n",
    "    \\begin{split}\n",
    "    \\underset{\\vx}{\\text{minimize}} \\quad & f(\\vx)\\\\\n",
    "    \\text{subject to} \\quad & g_i(\\vx) \\leq 0, \\quad i = 1, \\dots, m\\\\\n",
    "    \\quad & h_j(\\vx) = 0, \\quad j = 1, \\dots, n\n",
    "    \\end{split}\n",
    "    $$\n",
    "    - **Feasible set** is defined as $C \\triangleq \\{ \\vx \\left| g_i(\\vx) \\leq 0, h_j(\\vx)=0,\\ i=1,\\dots,m,\\ j=1,\\dots,n \\right. \\}$. $C$ is convex if $g_i(\\vx)$ is convex and $h_j(\\vx)$ is affine\n",
    "\n",
    "- The Lagrangian is then given by \n",
    "    $$\n",
    "    L(\\vx, \\alpha, \\beta) = f(\\vx) + \\sum \\limits_{i = 1}^m \\alpha_i g_i(\\vx) + \\sum \\limits_{j = 1}^n \\beta_j h_j(\\vx)\n",
    "    $$\n",
    "    Here, $\\alpha \\in \\R^m$ and $\\beta \\in R^n$ are the ** Lagrange Multipliers / Dual Variables**"
   ]
  },
  {
   "cell_type": "markdown",
   "metadata": {
    "slideshow": {
     "slide_type": "slide"
    }
   },
   "source": [
    "###  Lagrangian Primal\n",
    "\n",
    "- For better visualization, we reiterate the original problem and Lagrangian in this slide\n",
    "    $$\n",
    "    \\begin{split}\n",
    "    \\underset{\\vx}{\\text{minimize}} \\quad & f(\\vx)\\\\\n",
    "    \\text{subject to} \\quad & g_i(\\vx) \\leq 0 \\quad h_j(\\vx) = 0\n",
    "    \\end{split} \\qquad\n",
    "    L(\\vx, \\alpha, \\beta) = f(\\vx) + \\sum \\limits_{i = 1}^m \\alpha_i g_i(\\vx) + \\sum \\limits_{j = 1}^n \\beta_j h_j(\\vx)\n",
    "    $$\n",
    "    \n",
    "\n",
    "- The **primal objective** is defined as\n",
    "    $$\n",
    "    L_P(\\vx) \\triangleq \\max_{\\alpha, \\beta: \\alpha_i \\geq 0} L(\\vx, \\alpha, \\beta) = \\begin{cases} f(x) & \\text{ if } x \\in C \\\\ +\\infty & \\text{ if } x \\notin C\\end{cases}\n",
    "    $$\n",
    "    The second equality holds because to maximize $L(\\vx, \\alpha, \\beta)$:\n",
    "    - for $\\vx \\in C$ (i.e. $g_i(\\vx)\\leq 0$ and $h_j(\\vx)=0$), letting $\\alpha=0, \\beta=0$ gives maxima $f(\\vx)$\n",
    "    - for $\\vx \\notin C$ (i.e. $g_i(\\vx) > 0$ or $h_j(\\vx) \\neq 0$), letting $\\alpha \\rightarrow +\\infty, \\beta=0$ then $L(\\vx, \\alpha, \\beta) \\rightarrow +\\infty$\n",
    "    \n",
    "- The **primal optimization problem** is defined as\n",
    "    $$\n",
    "    \\min_{\\vx} \\ L_P(\\vx) = \\min_{\\vx} \\max_{\\alpha, \\beta: \\alpha_i \\geq 0} L(\\vx, \\alpha, \\beta) = \\min_{\\vx} \\begin{cases} f(x) & \\text{ if } x \\in C \\\\ +\\infty & \\text{ if } x \\notin C\\end{cases} = \\min_{\\vx \\in C} \\ f(\\vx)\n",
    "    $$\n",
    "    which is equivalent to the original optimization problem!"
   ]
  },
  {
   "cell_type": "markdown",
   "metadata": {
    "slideshow": {
     "slide_type": "slide"
    }
   },
   "source": [
    "###  Lagrangian Dual\n",
    " \n",
    "- The **primal optimization problem** \n",
    "    $$\n",
    "    \\min_{\\vx} \\ L_P(\\vx) = \\min_{\\vx} \\max_{\\alpha, \\beta: \\alpha_i \\geq 0} L(\\vx, \\alpha, \\beta)\n",
    "    $$\n",
    "    is just original problem and of no interest to us.\n",
    "    \n",
    "- **BUT**, swapping the inner and outer optimization, we get **dual optimization problem**\n",
    "    $$\n",
    "    \\max_{\\alpha, \\beta: \\alpha_i \\geq 0} \\min_{\\vx}  L(\\vx, \\alpha, \\beta)\n",
    "    $$\n",
    "    \n",
    "- The **dual objective** is defined as \n",
    "    $$\n",
    "    L_D (\\alpha, \\beta) \\triangleq \\min_{\\vx} L(\\vx, \\alpha, \\beta)\n",
    "    $$"
   ]
  },
  {
   "cell_type": "markdown",
   "metadata": {
    "slideshow": {
     "slide_type": "skip"
    }
   },
   "source": [
    "> **Remark** \n",
    "> - Lagrangian$L(\\vx, \\alpha, \\beta) = f(\\vx) + \\sum_{i = 1}^m \\alpha_i g_i(\\vx) + \\sum_{j = 1}^n \\beta_j h_j(\\vx)$ is affine respect to $\\alpha$ and $\\beta$\n",
    "> - Therefore, dual objective $L_D (\\alpha, \\beta) = \\min_{\\vx} L(\\vx, \\alpha, \\beta)$ is a piece-wise minimum of affine functions and it's concave.\n",
    "> - Why Concave? Bold lines in the plots are piece-wise minimum of affine functions (1D case) and it's obviously concave\n",
    "    <center> <img src=\"images/piecewise_minimum.png\"  style=\"width:300px;height:225px;\"> </center>\n",
    "\n",
    "> - Since $L_D (\\alpha, \\beta)$ is concave, the maximization in dual problem $\\max_{\\alpha, \\beta: \\alpha_i \\geq 0} L_D (\\alpha, \\beta)$ can be achieved."
   ]
  },
  {
   "cell_type": "markdown",
   "metadata": {
    "slideshow": {
     "slide_type": "slide"
    }
   },
   "source": [
    "###  Strong and Weak Duality \n",
    "\n",
    "- Let $\\vx^*$ and $p^*$ denote the solution and optimal value of **primal**/original problem\n",
    "    $$\n",
    "    p^* = \\min \\limits_{\\vx} L_p(\\vx) = L_p(\\vx^*)\n",
    "    $$\n",
    "- Let $\\alpha^*$, $\\beta^*$ and $d^*$ denote the solution and optimal value of **dual** problem\n",
    "    $$\n",
    "    d^* = \\max \\limits_{\\alpha, \\beta: \\alpha_i \\geq 0} L_D(\\alpha, \\beta) = L_D(\\alpha^*, \\beta^*)\n",
    "    $$\n",
    "\n",
    "- **Weak duality** (always true): $d^* \\leq p^*$ \n",
    "\n",
    "- **Strong duality** (under some conditions): $p^* = d^*$\n",
    "\n",
    "- Strong duality is surely interesting, which allows us to solve original problem by solving its dual!\n",
    "\n",
    "- So here come the questions\n",
    "    - When does problem have strong duality? (**Sufficient** conditions of strong duality)\n",
    "    - If strong duality holds, is there any property (**Necessary** conditions of strong duality) we can use to \n",
    "        - Make dual problem easier to solve\n",
    "        - Obtain $\\vx^*$ out of $\\alpha^*$ and $\\beta^*$?"
   ]
  },
  {
   "cell_type": "markdown",
   "metadata": {
    "slideshow": {
     "slide_type": "slide"
    }
   },
   "source": [
    "### A Quick Summary\n",
    "- Let's do a quick summary before we move on. Here is a table summarizing all the concepts we just covered\n",
    "<center>\n",
    "<div class=\"image\"   style=\"width:768px\">\n",
    "    <img src=\"images/PrimalvsDual.png\">\n",
    "</div>\n",
    "</center>\n",
    "\n",
    "- Next we will cover **sufficient** and **necessary** conditions for strong duality."
   ]
  },
  {
   "cell_type": "markdown",
   "metadata": {
    "slideshow": {
     "slide_type": "slide"
    }
   },
   "source": [
    "### Sufficient Conditions of Strong Duality\n",
    "\n",
    "- Here we only consider strong duality for **convex problem**\n",
    "\n",
    "- A problem \n",
    "    $$\n",
    "    \\begin{split}\n",
    "    \\underset{\\vx}{\\text{minimize}} \\quad & f(\\vx)\\\\\n",
    "    \\text{subject to} \\quad & g_i(\\vx) \\leq 0, \\quad i = 1, \\dots, m\\\\\n",
    "    \\quad & h_j(\\vx) = 0, \\quad j = 1, \\dots, n\n",
    "    \\end{split}\n",
    "    $$\n",
    "    is **convex** , if $f(\\vx), g_i(\\vx)$ are convex and $h_j(\\vx)$ are affine.\n",
    "    \n",
    "- For convex problem, **Strong duality** holds if **ANY** of the conditions below holds\n",
    "    - **Slater's Condition**: $\\exists \\vx$ s.t. $g_i(\\vx)<0$ and $h_j(\\vx)=0$    \n",
    "    - $g_i(x)$ are also affine and problem is feasible, i.e. feasible set is nonempty"
   ]
  },
  {
   "cell_type": "markdown",
   "metadata": {
    "slideshow": {
     "slide_type": "slide"
    }
   },
   "source": [
    "### Necessary Conditions of Strong Duality—KKT Conditions\n",
    "\n",
    "- If **strong duality** holds, i.e. $p^*=d^*$, then primal optimal $\\vx^*$ and dual optimal $\\alpha^*$ and $\\beta^*$ satisfy **Karush-Kuhn-Tucker (KKT) Conditions**:\n",
    "    - Stationarity\n",
    "    $$\n",
    "    \\nabla_{\\vx} L(\\vx, \\alpha^*, \\beta^*) \\left|_{\\vx = \\vx^*} \\right. = \\nabla_{\\vx} f(\\vx^*)+ \\sum_i \\alpha_i^* \\nabla_{\\vx} g_i(\\vx^*) + \\sum_j \\beta_j^* \\nabla_{\\vx} h_j (x^*) = 0\n",
    "    $$\n",
    "\n",
    "    - Primal Feasibility\n",
    "    $$\n",
    "    \\forall\\, i, g_i(\\vx^*) \\leq 0\\quad\\quad \\forall\\, j, h_j(\\vx^*) = 0\\quad\\quad\n",
    "    $$\n",
    "\n",
    "    - Dual Feasibility\n",
    "    $$\n",
    "    \\forall\\, i, \\alpha_i^* \\geq 0\n",
    "    $$\n",
    "\n",
    "    - Complementary Slackness\n",
    "    $$\n",
    "    \\forall\\, i, \\alpha_i^* g_i(\\vx^*) = 0\n",
    "    $$\n",
    "- Proof for Stationarity and Complementary Slackness is in the notes!\n",
    "- KKT conditions enable us to simplify dual problem and obtain $\\vx^*$ out of $\\alpha^*$ and $\\beta^*$"
   ]
  },
  {
   "cell_type": "markdown",
   "metadata": {
    "slideshow": {
     "slide_type": "skip"
    }
   },
   "source": [
    "> **Remark** \n",
    "> - Proof for KKT conditions\n",
    ">    - We have        \n",
    "        $$\n",
    "        \\begin{split} \n",
    "        f(\\vx^*) = p^* \n",
    "        &= d^*  \\qquad \\text{ (By Strong duality) }\\\\\n",
    "        &= L_D(\\alpha^*, \\beta^*) \\\\\n",
    "        & = \\min \\limits_{\\vx} \\ f(\\vx) + \\sum \\nolimits_i \\alpha_i^* g_i(\\vx) + \\sum \\nolimits_j \\beta_j^* h_j(\\vx)\\\\\n",
    "        & \\leq f(\\vx^*) + \\sum_i \\alpha_i^* g_i(\\mathbf{x^*}) + \\sum_j \\beta_j^* h_j(\\vx^*)\\\\\n",
    "        & \\leq f(\\vx^*) \\qquad (\\text{Since } g_i(\\mathbf{x^*}) \\leq 0, h_j(\\vx^*)=0)\\\\\n",
    "        \\end{split}\n",
    "        $$\n",
    "        The first and last term form $f(\\vx^*) \\leq f(\\vx^*)$ which indicates all inequalities are actually **equalities**!        "
   ]
  },
  {
   "cell_type": "markdown",
   "metadata": {
    "slideshow": {
     "slide_type": "skip"
    }
   },
   "source": [
    "> -  - Therefore, we have \n",
    "        $$\n",
    "        \\begin{split}\n",
    "        & \\quad \\min \\limits_{\\vx} \\ f(\\vx) + \\sum \\nolimits_i \\alpha_i^* g_i(\\vx) + \\sum \\nolimits_j \\beta_j^* h_j(\\vx)\\\\\n",
    "        & = f(\\vx^*) + \\sum \\nolimits_i \\alpha_i^* g_i(\\mathbf{x^*}) + \\sum \\nolimits_j \\beta_j^* h_j(\\vx^*)\\\\\n",
    "        & = f(\\vx^*)\n",
    "        \\end{split}\n",
    "        $$\n",
    "\n",
    ">    - The equality of the last two lines indicates $\\forall i, \\alpha_i^* g_i(\\mathbf{x}^*) = 0$. So complementary slackness condition is proved.\n",
    "\n",
    ">    - The first equality implies $\\vx^*$ is a minimizer of $L(\\vx, \\alpha^*, \\beta^*) \\text { w.r.t. } \\vx$. Therefore, $\\nabla_{\\vx} L(\\vx, \\alpha^*, \\beta^*) = 0$. So stationarity condition is proved."
   ]
  },
  {
   "cell_type": "markdown",
   "metadata": {
    "slideshow": {
     "slide_type": "slide"
    }
   },
   "source": [
    "## Back to SVM"
   ]
  },
  {
   "cell_type": "markdown",
   "metadata": {
    "slideshow": {
     "slide_type": "slide"
    }
   },
   "source": [
    "### The OSMH Optimization Problem and Lagrangian\n",
    "\n",
    "- Recall the OSMH problem is\n",
    "    $$\n",
    "    \\begin{split}\n",
    "    \\underset{\\vw, b, \\xi}{\\text{minimize}} \\quad & \\frac{1}{2}{\\| \\vw \\|}^2 + \\frac{C}{n} \\sum_{i = 1}^n \\xi_i\\\\\n",
    "    \\text{subject to} \\quad & - \\left( t_i(\\vw^T\\vx_i + b) -1 + \\xi_i \\right) \\leq 0 \\quad \\forall i\\\\\n",
    "     \\quad & -\\xi_i \\leq 0 \\quad \\forall i\\\\\n",
    "    \\end{split}\n",
    "    $$\n",
    "    \n",
    "- OSMH problem has quadratic objective and affine inequalities, so\n",
    "    - It's convex problem\n",
    "    - And it has *strong duality*!\n",
    "    \n",
    "- So **KKT conditions** hold !\n",
    "- Next we will show how to formulate its **dual problem** and solve for $\\vw^*$ and $b^*$ by solving for dual variable $\\alpha^*$ and $\\beta^*$\n",
    "\n",
    "- The **Lagrangian** is given by (Note that **primal variables** are $\\{ \\vw, b, \\xi \\}$.)\n",
    "    $$\n",
    "    \\begin{split}\n",
    "     &L(\\vw, b, \\xi, \\alpha, \\beta) \\\\\n",
    "    =& 0.5 {\\|\\vw\\|}^2 + C/n \\sum \\nolimits_{i=1}^n \\xi_i - \\sum \\nolimits_{i = 1}^n \\alpha_i \\left[ t_i \\left(\\vw^T \\vx_i + b \\right) - 1 + \\xi_i \\right] - \\sum \\nolimits_{i = 1}^n \\beta_i \\xi_i \\\\\n",
    "    =& 0.5 {\\|\\vw\\|}^2  - \\vw^T \\sum \\nolimits_{i = 1}^n \\alpha_i t_i \\vx_i - \\sum \\nolimits_{i = 1}^n \\alpha_i t_i b + \\sum \\nolimits_{i = 1}^n \\left( C/n - \\alpha_i - \\beta_i \\right) \\xi_i + \\sum \\nolimits_{i = 1}^n \\alpha_i\n",
    "    \\end{split}\n",
    "    $$\n"
   ]
  },
  {
   "cell_type": "markdown",
   "metadata": {
    "slideshow": {
     "slide_type": "slide"
    }
   },
   "source": [
    "### OSMH: Dual Objective\n",
    "\n",
    "- **Stationarity KKT condition** $\\nabla_{\\vx} L(\\vx, \\alpha^*, \\beta^*) \\left|_{\\vx = \\vx^*} \\right. = 0$ says optimal solution $\\{\\alpha^*, \\beta^* \\}$ should satisfy\n",
    "    $$\n",
    "    \\begin{split}\n",
    "    \\partial L \\, / \\,\\partial b =0 & \\Rightarrow \\boxed{ \\sum \\nolimits_{i=1}^n \\alpha_i t_i = 0 }\\\\\n",
    "    \\partial L \\, / \\,\\partial \\xi_i = 0 & \\Rightarrow  \\boxed{ C / n- \\alpha_i - \\beta_i = 0 }\n",
    "    \\end{split}\n",
    "    $$\n",
    "\n",
    "- **Dual objective** is given by\n",
    "    $$\n",
    "    \\begin{split}\n",
    "    & L_D(\\alpha, \\beta) = \\underset{\\vw, b, \\xi}{\\min} \\ L(\\vw, b, \\xi, \\alpha, \\beta) \\\\\n",
    "    &= \\underset{\\vw, b, \\xi}{\\min} 0.5 {\\|\\vw\\|}^2  - \\vw^T \\sum \\nolimits_{i = 1}^n \\alpha_i t_i \\vx_i - \\sum \\nolimits_{i = 1}^n \\alpha_i t_i b + \\sum \\nolimits_{i = 1}^n \\left( C/n - \\alpha_i - \\beta_i \\right) \\xi_i + \\sum \\nolimits_{i = 1}^n \\alpha_i \\\\\n",
    "    &= \\underset{\\vw}{\\min} 0.5 {\\|\\vw\\|}^2  - \\vw^T \\sum \\nolimits_{i = 1}^n \\alpha_i t_i \\vx_i + \\sum \\nolimits_{i = 1}^n \\alpha_i \\\\\n",
    "    &= -0.5 \\left\\| \\sum \\nolimits_{i = 1}^n \\alpha_i t_i \\vx_i \\right\\|^2 + \\sum \\nolimits_{i = 1}^n \\alpha_i \\\\\n",
    "    &= \\boxed{-0.5 \\sum \\nolimits_{i,j = 1}^n \\alpha_i \\alpha_j t_i t_j \\vx_i^T \\vx_j + \\sum \\nolimits_{i = 1}^n \\alpha_i }\\\\\n",
    "    \\end{split}\n",
    "    $$\n",
    "- 3rd equality holds because we plug in stationarity conditions\n",
    "- 4th equality holds because $\\vw = \\sum \\nolimits_{i=1}^n \\alpha_i t_i \\vx_i$ is the solution to quadratic minimization in the 3rd line."
   ]
  },
  {
   "cell_type": "markdown",
   "metadata": {
    "slideshow": {
     "slide_type": "slide"
    }
   },
   "source": [
    "### OSMH: Dual Problem\n",
    "\n",
    "- Let's wrap it up! **Dual problem** is given by\n",
    "    $$\n",
    "    \\begin{split}\n",
    "    \\underset{\\alpha, \\beta}{\\text{maximize}} \\quad &  -0.5 \\sum \\nolimits_{i,j = 1}^n \\alpha_i \\alpha_j t_i t_j \\vx_i^T \\vx_j + \\sum \\nolimits_{i = 1}^n \\alpha_i\\\\\n",
    "    \\text{subject to} \\quad & \\alpha_i \\geq 0, \\beta_i \\geq 0 \\quad \\forall i \\\\\n",
    "    \\quad & \\sum \\nolimits_{i=1}^n \\alpha_i t_i = 0 \\\\\n",
    "    \\quad & C / n- \\alpha_i - \\beta_i = 0 \\quad \\forall i\\\n",
    "    \\end{split} \n",
    "    $$\n",
    "    - Inequality constraints are due to non-negativeness of dual variables\n",
    "    - Equality constraints are due to stationarity conditions\n",
    "\n",
    "- NOTE: **Dual variable** $\\alpha$ and $\\beta$ are both for *inequality* constraints! This is why $\\beta_i \\geq 0$ is also required. \n",
    "    - Remember $\\beta$ was for equality constraints in previous slides? Sorry for this misnomer!\n",
    "    \n",
    "- Eliminating $\\beta$, we get the final quadratic programming problem\n",
    "    $$\n",
    "    \\boxed{\n",
    "    \\begin{split}\n",
    "    \\underset{\\alpha, \\beta}{\\text{maximize}} \\quad &  -0.5 \\sum \\nolimits_{i,j = 1}^n \\alpha_i \\alpha_j t_i t_j \\vx_i^T \\vx_j + \\sum \\nolimits_{i = 1}^n \\alpha_i\\\\\n",
    "    \\text{subject to} \\quad & 0 \\leq \\alpha_i \\leq C/n \\quad \\forall i\\ \\\\\n",
    "    \\quad & \\sum \\nolimits_{i=1}^n \\alpha_i t_i = 0    \n",
    "    \\end{split}}\n",
    "    $$"
   ]
  },
  {
   "cell_type": "markdown",
   "metadata": {
    "slideshow": {
     "slide_type": "slide"
    }
   },
   "source": [
    "### OSMH: Solution $\\vw^*$ and $b^*$\n",
    "\n",
    "- Obtain $\\vw^*$\n",
    "    - Applying **stationarity KKT condition** to $\\vw$, we have\n",
    "    $$\n",
    "    \\partial L \\, / \\,\\partial \\vw =0 \\Rightarrow \\boxed{ \\vw^* = \\sum \\nolimits_{i=1}^n \\alpha_i^* t_i \\vx_i }\n",
    "    $$\n",
    "    \n",
    "- Obtain $b^*$\n",
    "    - Recall we have constraints in last slide\n",
    "        $$\n",
    "        \\alpha_i \\geq 0, \\ \\beta_i \\geq 0, \\ \\alpha_i + \\beta_i = C/n\n",
    "        $$\n",
    "        So for any $0<\\alpha_i^* < C/n$, we must have $\\beta_i^* > 0$\n",
    "    - Applying **complementary slackness KKT condition**, we have\n",
    "        $$\n",
    "        \\beta_i^*\\xi_i^* = 0 \\qquad  \\alpha_i^* (1 - \\xi_i^* - t_i({\\vw^*}^T\\vx_i + b^*)) = 0 \n",
    "        $$\n",
    "        So for any $0<\\alpha_i^* < C/n$, we further have \n",
    "        $$\n",
    "        \\xi_i^*=0 \\qquad 1 - \\xi_i^* - t_i({\\vw^*}^T\\vx_i + b^*)=0\n",
    "        $$\n",
    "        which implies $t_i({\\vw^*}^T\\vx_i + b^*) = 1$\n",
    "    - Since $t_i \\in \\{ \\pm 1 \\}$, we have ${\\vw^*}^T\\vx_i + b^* = t_i$. Therefore, for any $0<\\alpha_i^* < C/n$, we could solve for $b^*$:\n",
    "        $$\n",
    "        \\boxed{b^* = t_i - {\\vw^*}^T\\vx_i}\n",
    "        $$"
   ]
  },
  {
   "cell_type": "markdown",
   "metadata": {
    "collapsed": true,
    "slideshow": {
     "slide_type": "slide"
    }
   },
   "source": [
    "### OSMH:  Support Vectors\n",
    "\n",
    "- Applying **stationarity KKT condition** to $\\vw$, we know optimal $\\vw^*$ and $\\alpha^*$ should satisfy\n",
    "    $$\n",
    "    \\partial L \\, / \\,\\partial \\vw =0 \\Rightarrow \\boxed{ \\vw^* = \\sum_{i=1}^n \\alpha_i^* t_i \\vx_i }\n",
    "    $$\n",
    "\n",
    "- So, the optimal normal vector of separating hyperplane is a *linear combination* of datapoints!\n",
    "\n",
    "- Applying **complementary slackness KKT condition**, we have\n",
    "    $$\n",
    "    \\alpha_i^* (1 - \\xi_i^* - t_i({\\vw^*}^T\\vx_i + b^*)) = 0\n",
    "    $$ \n",
    "\n",
    "    - If $\\vx_i$ satisfies $t_i({\\vw^*}^T\\vx_i + b^*) = 1 - \\xi_i^*$, \n",
    "        - then $\\alpha^*$ could be nonzero and $\\vx_i$ will contribute to $\\vw^*$\n",
    "        - we call $\\vx_i$ **support vector (SV)**\n",
    "\n",
    "    - If $\\vx_i$ cannot satisfy $t_i({\\vw^*}^T\\vx_i + b^*) = 1 - \\xi_i^*$\n",
    "        - then $\\alpha^*$ must be $0$ and $\\vx_i$ has no effect on $\\vw^*$\n",
    "        - $\\vx_i$ is **NOT** a SV\n",
    "\n",
    "- The above means $\\vw^*$ depends **ONLY** on support vectors! This is why we call **support vector machine**.\n",
    "\n",
    "- Now let's analyze what datapoints can be support vectors geometrically"
   ]
  },
  {
   "cell_type": "markdown",
   "metadata": {
    "slideshow": {
     "slide_type": "slide"
    }
   },
   "source": [
    "### OSMH:  Geometric Interpretation of SV\n",
    "\n",
    "- Recall original OSMH problem is\n",
    "    $$\n",
    "    \\begin{split}\n",
    "    \\underset{\\vw, b, \\xi}{\\text{minimize}} \\quad & 0.5{\\| \\vw \\|}^2 + C/n \\sum \\nolimits_{i = 1}^n \\xi_i\\\\\n",
    "    \\text{subject to} \\quad & t_i(\\vw^T\\vx_i + b) \\geq 1 - \\xi_i \\quad \\forall i\\\\\n",
    "     \\quad & \\xi_i \\geq 0 \\quad \\forall i\\\\\n",
    "    \\end{split}\n",
    "    $$\n",
    "    - For optimal $\\xi_i^*$, at least one of \n",
    "    $$\n",
    "    \\begin{split}\n",
    "    t_i(\\vw^T\\vx_i + b) &= 1 - \\xi_i^* \\\\\n",
    "    \\xi_i^* &= 0\n",
    "    \\end{split}\n",
    "    $$\n",
    "    mush hold\n",
    "    - Because if $t_i(\\vw^T\\vx_i + b) > 1 - \\xi_i$ and $\\xi > 0$ we can reduce $\\xi_i$ to get lower objective value without violating constraints!\n"
   ]
  },
  {
   "cell_type": "markdown",
   "metadata": {
    "slideshow": {
     "slide_type": "skip"
    }
   },
   "source": [
    "> **Remark** \n",
    "> - Since for each $i$, at least one equality in $$t_i(\\vw^T\\vx_i + b) \\geq 1 - \\xi_i^*  \\qquad  \\xi_i^*  \\geq 0$$ must hold\n",
    "> - So if $\\xi>0$, we have\n",
    "$$\n",
    "\\xi_i = 1- t_i(\\vw^T\\vx_i + b)\n",
    "$$\n",
    "> - Therefore, $\\xi_i$ could take the value of either $1- t_i(\\vw^T\\vx_i + b)$ or $0$, which has provided another approach to solve original problem:\n",
    "$$\n",
    "\\begin{split}\n",
    "\\underset{\\vw, b, \\xi}{\\text{minimize}} \\quad & 0.5{\\| \\vw \\|}^2 + C/n \\sum \\nolimits_{i = 1}^n \\xi_i\\\\\n",
    "\\text{subject to} \\quad & t_i(\\vw^T\\vx_i + b) \\geq 1 - \\xi_i \\quad \\forall i\\\\\n",
    " \\quad & \\xi_i \\geq 0 \\quad \\forall i\\\\\n",
    "\\end{split}\n",
    "\\quad\n",
    "\\Longrightarrow\n",
    "\\quad\n",
    "\\begin{split}\n",
    "\\underset{\\vw, b, \\xi}{\\text{minimize}} \\quad & 0.5{\\| \\vw \\|}^2 + C/n \\sum \\nolimits_{i = 1}^n \\max \\left(0, 1- t_i(\\vw^T\\vx_i + b) \\right)\\\\\n",
    "\\end{split}\n",
    "$$\n",
    "> - This is an unconstrained problem! And we could obtain solution using gradient descent! (More precisely, using subgradient due to the $\\max(\\cdot)$)\n",
    "> - You encounter this in your HW :)"
   ]
  },
  {
   "cell_type": "markdown",
   "metadata": {
    "slideshow": {
     "slide_type": "slide"
    }
   },
   "source": [
    "- We already know  \n",
    "    - For particular $i$, **at least one equality** of the following two inequalities must hold\n",
    "    $$\n",
    "    t_i(\\vw^T\\vx_i + b) \\geq 1 - \\xi_i^*  \\qquad  \\xi_i^*  \\geq 0\n",
    "    $$    \n",
    "    - If first equality holds, then $\\vx_i$ is SV. Otherwise, it's not SV\n",
    "\n",
    "- Based on above results, for data $\\vx_i$, we have\n",
    "\n",
    "<center>\n",
    "<div class=\"image\"   style=\"width:843px\">\n",
    "    <img src=\"images/geometric_interpretation_svm.png\">\n",
    "</div>\n",
    "</center>\n",
    "\n",
    "<center> <img src=\"images/SVM.jpg\" style=\"width:400px;height:275px;\"> </center>"
   ]
  },
  {
   "cell_type": "markdown",
   "metadata": {
    "slideshow": {
     "slide_type": "slide"
    }
   },
   "source": [
    "### OSMH: Support Vector Machines\n",
    "\n",
    "- The dual problem and final classifier only involve the data via inner products. \n",
    "    - We can apply the **kernel trick** and kernelize the OSMH problem.\n",
    "    - The resulting classifier is known as a **Support Vector Machine**.\n",
    "- Let $k(\\cdot, \\cdot)$ be an inner product kernel\n",
    "- The dual problem is given by\n",
    "    $$\n",
    "    \\begin{split}\n",
    "    \\underset{\\alpha, \\beta}{\\text{maximize}} \\quad &  -0.5 \\sum \\nolimits_{i,j = 1}^n \\alpha_i \\alpha_j t_i t_j \\vx_i^T \\vx_j + \\sum \\nolimits_{i = 1}^n \\alpha_i\\\\\n",
    "    \\text{subject to} \\quad & 0 \\leq \\alpha_i \\leq C/n \\quad \\forall i\\ \\\\\n",
    "    \\quad & \\sum \\nolimits_{i=1}^n \\alpha_i t_i = 0    \n",
    "    \\end{split}\n",
    "    $$\n",
    "    $$\n",
    "    \\overset{\\text{Kernelization}}{\\Longrightarrow}\n",
    "    \\boxed{\n",
    "    \\begin{split}\n",
    "    \\underset{\\alpha, \\beta}{\\text{maximize}} \\quad &  -0.5 \\sum \\nolimits_{i,j = 1}^n \\alpha_i \\alpha_j t_i t_j k(\\vx_i, \\vx_j) + \\sum \\nolimits_{i = 1}^n \\alpha_i\\\\\n",
    "    \\text{subject to} \\quad & 0 \\leq \\alpha_i \\leq C/n \\quad \\forall i\\ \\\\\n",
    "    \\quad & \\sum \\nolimits_{i=1}^n \\alpha_i t_i = 0    \n",
    "    \\end{split}}\n",
    "    $$\n"
   ]
  },
  {
   "cell_type": "markdown",
   "metadata": {
    "slideshow": {
     "slide_type": "slide"
    }
   },
   "source": [
    "- The solution and final classifier is given by \n",
    "    $$\n",
    "    \\begin{split}\n",
    "    \\vw^* &= \\sum \\nolimits_{i=1}^n \\alpha_i^* t_i \\vx_i \\\\\n",
    "    b^* &= t_j - {\\vw^*}^T\\vx_j \\\\\n",
    "    & = t_j - \\sum \\nolimits_{i=1}^n \\alpha_i^* t_i \\vx_i^T \\vx_j \\\\\n",
    "    y &= \\text{sign}\\left( \\vw^{*T} \\vx + b^* \\right)\\\\\n",
    "    &= \\text{sign}\\left( \\sum \\nolimits_{i=1}^n \\alpha_i^* t_i \\vx_i^T \\vx + b^* \\right)\n",
    "    \\end{split}\n",
    "    \\quad \\overset{\\text{Kernelization}}{\\Longrightarrow} \\quad\n",
    "    \\boxed{\n",
    "    \\begin{split}\n",
    "    \\vw^* &= \\sum \\nolimits_{i=1}^n \\alpha_i^* t_i \\vx_i \\\\\n",
    "    b^* &= t_j - {\\vw^*}^T\\vx_j \\\\\n",
    "    & = t_j - \\sum \\nolimits_{i=1}^n \\alpha_i^* t_i k(\\vx_i, \\vx_j) \\\\\n",
    "    y &= \\text{sign}\\left( \\vw^{*T} \\vx + b^* \\right)\\\\\n",
    "    &= \\text{sign}\\left( \\sum \\nolimits_{i=1}^n \\alpha_i^* t_i k(\\vx_i, \\vx) + b^* \\right)\n",
    "    \\end{split}}\n",
    "    $$\n",
    "    of which index $j$ satisfies $0<\\alpha_j^* < C/n $"
   ]
  },
  {
   "cell_type": "markdown",
   "metadata": {
    "slideshow": {
     "slide_type": "slide"
    }
   },
   "source": [
    "### SVM:  Kernels\n",
    "\n",
    "- Choice of kernels\n",
    "    - Gaussian or polynomial kernels are used quite often\n",
    "    \n",
    "- Choice of Kernel Parameters\n",
    "    - Ex: Gaussian Kernel: $k(\\vx, \\mathbf{z}) = \\exp \\left(- \\frac{{\\|\\vx - \\mathbf{z}\\|}^2}{2\\sigma^2} \\right)$. As a heuristic, the Bandwidth ($\\sigma$) can be chosen to be the distance between neighboring points whose labels will likely affect the prediction of the query point.\n",
    "\n",
    "- Example of SVM using Gaussian Kernel\n",
    "\n",
    "<center><div class=\"image\"   style=\"width:330px\"><img src=\"images/GaussianKernal_SVM.png\"></div></center>\n",
    "\n",
    "- Bold line is the separating hyperplane\n",
    "- Different contours indicate different values of $\\vw^{*T} \\vx + b^*$ "
   ]
  },
  {
   "cell_type": "markdown",
   "metadata": {
    "slideshow": {
     "slide_type": "skip"
    }
   },
   "source": [
    "> **Remark**\n",
    "> - How to solve for the SVM dual?\n",
    "\n",
    ">    - \"Chunking Algorithm\" \n",
    ">        - Start with a random subset of the data and keep iteratively adding examples which violate the optimality conditions. \n",
    ">        - Problem: QP problem scales with the number of SVs.\n",
    ">        - Most SVM problems were solved with such algorithms in expensive QP solver softwares prior to SMO (see below).\n",
    "    \n",
    ">    -  Sequential Minimal Optimization \n",
    ">        - Divide the Dual problem into smaller sub-problems each of which consists of 2 of the linear equality constraint Lagrange multipliers ($\\alpha$'s). \n",
    ">        - Find a Lagrange multiplier $\\alpha_1$ that violates the KKT conditions. \n",
    ">        - Pick a second multiplier $\\alpha_2$ and optimize the pair $(\\alpha_1, \\alpha_2)$ using **coordinate ascent**.\n",
    ">        - Repeat the previous 2 steps until convergence (the KKT conditions are satisfied within a user-defined tolerance).   \n",
    ">    - See Platt (1998) for details.    "
   ]
  },
  {
   "cell_type": "code",
   "execution_count": null,
   "metadata": {
    "collapsed": true
   },
   "outputs": [],
   "source": []
  }
 ],
 "metadata": {
  "celltoolbar": "Raw Cell Format",
  "kernelspec": {
   "display_name": "Python 3",
   "language": "python",
   "name": "python3"
  },
  "language_info": {
   "codemirror_mode": {
    "name": "ipython",
    "version": 3
   },
   "file_extension": ".py",
   "mimetype": "text/x-python",
   "name": "python",
   "nbconvert_exporter": "python",
   "pygments_lexer": "ipython3",
   "version": "3.5.2"
  }
 },
 "nbformat": 4,
 "nbformat_minor": 0
}
