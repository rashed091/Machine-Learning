{
 "cells": [
  {
   "cell_type": "markdown",
   "metadata": {},
   "source": [
    "$$\\LaTeX \\text{ command declarations here.}\n",
    "\\newcommand{\\R}{\\mathbb{R}}\n",
    "\\renewcommand{\\vec}[1]{\\mathbf{#1}}\n",
    "\\newcommand{\\X}{\\mathcal{X}}\n",
    "\\newcommand{\\D}{\\mathcal{D}}\n",
    "\\newcommand{\\d}{\\mathrm{d}}\n",
    "\\newcommand{\\G}{\\mathcal{G}}\n",
    "\\newcommand{\\L}{\\mathcal{L}}\n",
    "\\newcommand{\\Parents}{\\mathrm{Parents}}\n",
    "\\newcommand{\\NonDesc}{\\mathrm{NonDesc}}\n",
    "\\newcommand{\\I}{\\mathcal{I}}\n",
    "\\newcommand{\\dsep}{\\text{d-sep}}\n",
    "\\newcommand{\\Cat}{\\mathrm{Categorical}}\n",
    "\\newcommand{\\Bin}{\\mathrm{Binomial}}\n",
    "$$"
   ]
  },
  {
   "cell_type": "code",
   "execution_count": 1,
   "metadata": {
    "collapsed": false,
    "slideshow": {
     "slide_type": "skip"
    }
   },
   "outputs": [],
   "source": [
    "from __future__ import division\n",
    "\n",
    "# scientific\n",
    "%matplotlib inline\n",
    "from matplotlib import pyplot as plt;\n",
    "import matplotlib as mpl;\n",
    "import numpy as np;\n",
    "import sklearn as skl;\n",
    "import sklearn.datasets;\n",
    "import sklearn.cluster;\n",
    "import sklearn.mixture;\n",
    "\n",
    "# ipython\n",
    "import IPython;\n",
    "\n",
    "# python\n",
    "import os;\n",
    "import random;\n",
    "\n",
    "#####################################################\n",
    "\n",
    "# image processing\n",
    "import PIL;\n",
    "\n",
    "# trim and scale images\n",
    "def trim(im, percent=100):\n",
    "    print(\"trim:\", percent);\n",
    "    bg = PIL.Image.new(im.mode, im.size, im.getpixel((0,0)))\n",
    "    diff = PIL.ImageChops.difference(im, bg)\n",
    "    diff = PIL.ImageChops.add(diff, diff, 2.0, -100)\n",
    "    bbox = diff.getbbox()\n",
    "    if bbox:\n",
    "        x = im.crop(bbox)\n",
    "        return x.resize(((x.size[0]*percent)//100, \n",
    "                         (x.size[1]*percent)//100), PIL.Image.ANTIALIAS);\n",
    "\n",
    "\n",
    "#####################################################\n",
    "\n",
    "# daft (rendering PGMs)\n",
    "import sys\n",
    "sys.path.append('./code')\n",
    "import daft;\n",
    "\n",
    "# set to FALSE to load PGMs from static images\n",
    "RENDER_PGMS = True;\n",
    "\n",
    "# decorator for pgm rendering\n",
    "def pgm_render(pgm_func):\n",
    "    def render_func(path, percent=100, render=None, *args, **kwargs):\n",
    "        print(\"render_func:\", percent);\n",
    "        # render\n",
    "        render = render if (render is not None) else RENDER_PGMS;\n",
    "        \n",
    "        if render:\n",
    "            print(\"rendering\");\n",
    "            # render\n",
    "            pgm = pgm_func(*args, **kwargs);\n",
    "            pgm.render();\n",
    "            pgm.figure.savefig(path, dpi=300);\n",
    "            \n",
    "            # trim\n",
    "            img = trim(PIL.Image.open(path), percent);\n",
    "            img.save(path, 'PNG');\n",
    "        else:\n",
    "            print(\"not rendering\");\n",
    "        \n",
    "        # error\n",
    "        if not os.path.isfile(path):\n",
    "            raise Exception(\"Error:  Graphical model image %s not found.\\\n",
    "                You may need to set RENDER_PGMS=True.\" % path);\n",
    "        \n",
    "        # display\n",
    "        return IPython.display.Image(filename=path);\n",
    "        \n",
    "    return render_func;\n",
    "\n",
    "######################################################"
   ]
  },
  {
   "cell_type": "markdown",
   "metadata": {
    "slideshow": {
     "slide_type": "slide"
    }
   },
   "source": [
    "# Markov Models\n",
    "\n",
    "> Uses material from **[MLAPP]**"
   ]
  },
  {
   "cell_type": "markdown",
   "metadata": {
    "slideshow": {
     "slide_type": "slide"
    }
   },
   "source": [
    "### Sequential Data\n",
    "\n",
    "Some data has intrinsic sequential structure\n",
    "- **Time Series:** Speech, EKGs, stock market, robot sensors, etc.\n",
    "- **Spatial Data:** DNA, natural language, etc.\n",
    "\n",
    "We could treat data points as iid samples\n",
    "- e.g. \"bag of words\" assumption for spam classification\n",
    "- But this is false!  We are ignoring valuable constraints in the data."
   ]
  },
  {
   "cell_type": "markdown",
   "metadata": {
    "slideshow": {
     "slide_type": "slide"
    }
   },
   "source": [
    "### Markov Models\n",
    "\n",
    "A **Markov chain** is a series of random variables $X_1, \\dots, X_N$ satisfying the *Markov property*:\n",
    "> The future is independent of the past, given the present.\n",
    "    $$\n",
    "    p(x_n | x_1, \\dots, x_{n-1}) = p(x_n | x_{n-1})\n",
    "    $$\n",
    "    \n",
    "A chain is **stationary** if the transition probabilities do not change with time."
   ]
  },
  {
   "cell_type": "markdown",
   "metadata": {
    "slideshow": {
     "slide_type": "slide"
    }
   },
   "source": [
    "### Example:  [Random Shakespeare](http://www.cs.princeton.edu/courses/archive/spr05/cos126/assignments/markov.html)\n",
    "\n",
    "```\n",
    "DUKE SENIOR\tNow, my co-mates and thus bolden'd, man, how now, monsieur Jaques,\n",
    "\tUnclaim'd of his absence, as the holly!\n",
    "\tThough in the slightest for the fashion of his absence, as the only wear.\n",
    "\n",
    "TOUCHSTONE\tI care not for meed!\n",
    "\tThis I must woo yours: your request than your father: the time,\n",
    "\tThat ever love I broke\n",
    "\tmy sword upon some kind of men\n",
    "\tThen, heigh-ho! sing, heigh-ho! sing, heigh-ho! sing, heigh-ho! unto the needless stream;\n",
    "\t'Poor deer,' quoth he,\n",
    "\t'Call me not so keen,\n",
    "\tBecause thou the creeping hours of the sun,\n",
    "\tAs man's feasts and women merely players:\n",
    "\tThus we may rest ourselves and neglect the cottage, pasture?\n",
    "\n",
    "[Exit]\n",
    "```"
   ]
  },
  {
   "cell_type": "markdown",
   "metadata": {
    "slideshow": {
     "slide_type": "slide"
    }
   },
   "source": [
    "### Markov Models:  PGM"
   ]
  },
  {
   "cell_type": "code",
   "execution_count": 2,
   "metadata": {
    "collapsed": true,
    "slideshow": {
     "slide_type": "skip"
    }
   },
   "outputs": [],
   "source": [
    "@pgm_render\n",
    "def pgm_markov_chain():\n",
    "    pgm = daft.PGM([6, 6], origin=[0, 0])\n",
    "\n",
    "    # Nodes\n",
    "    pgm.add_node(daft.Node(\"x1\", r\"$X_n$\", 2, 2.5))\n",
    "    pgm.add_node(daft.Node(\"x2\", r\"$X_2$\", 3, 2.5))\n",
    "    pgm.add_node(daft.Node(\"ellipsis\", r\" . . . \", 3.7, 2.5, \n",
    "                           offset=(0, 0), plot_params={\"ec\" : \"none\"}))\n",
    "    pgm.add_node(daft.Node(\"ellipsis_end\", r\"\", 3.7, 2.5, \n",
    "                           offset=(0, 0), plot_params={\"ec\" : \"none\"}))\n",
    "    pgm.add_node(daft.Node(\"xN\", r\"$X_N$\", 4.5, 2.5))\n",
    "\n",
    "    # Add in the edges.\n",
    "    pgm.add_edge(\"x1\", \"x2\", head_length=0.08)\n",
    "    pgm.add_edge(\"x2\", \"ellipsis\", head_length=0.08)\n",
    "    pgm.add_edge(\"ellipsis_end\", \"xN\", head_length=0.08)\n",
    "    \n",
    "    return pgm;"
   ]
  },
  {
   "cell_type": "code",
   "execution_count": 3,
   "metadata": {
    "collapsed": false,
    "slideshow": {
     "slide_type": "-"
    }
   },
   "outputs": [
    {
     "data": {
      "image/png": "[encoded data removed]",
      "text/plain": [
       "<IPython.core.display.Image object>"
      ]
     },
     "execution_count": 3,
     "metadata": {},
     "output_type": "execute_result"
    }
   ],
   "source": [
    "%%capture\n",
    "pgm_markov_chain(\"images/markov-chain.png\")"
   ]
  },
  {
   "cell_type": "markdown",
   "metadata": {
    "slideshow": {
     "slide_type": "slide"
    }
   },
   "source": [
    "### Markov Models:  Joint Distribution\n",
    "\n",
    "If a sequence has the Markov property, then the joint distribution factorizes according to\n",
    "    $$\n",
    "    p(x_1, \\dots, x_N) = p(x_1) \\prod_{n=2}^N p(x_n | x_{n-1})\n",
    "    $$"
   ]
  },
  {
   "cell_type": "markdown",
   "metadata": {
    "slideshow": {
     "slide_type": "slide"
    }
   },
   "source": [
    "### Example: Language Modeling\n",
    "\n",
    "One important application is statistical **language models**.\n",
    "- Bag-of-words assumption is inadequate\n",
    "- Assume each word $X_t$ depends on the previous $n$ words\n",
    "\n",
    "Can model longer-range dependencies\n",
    "<table border=0px>\n",
    "  <tr>\n",
    "    <td>\n",
    "*Zero-Order:* $P(X_t)$ <br>\n",
    "*First-Order:* $P(X_t | X_{t-1})$<br>\n",
    "*Second-Order:* $P(X_t | X_{t-1}, X_{t-2})$\n",
    "    </td> \n",
    "    <td>\n",
    "    <img src=\"images/2ndorder_markov.png\" width=400px></td>\n",
    "  </tr>\n",
    "</table>\n",
    "\n",
    "One we've learned an $n$th order Markov chain, we can use it to generate text!"
   ]
  },
  {
   "cell_type": "markdown",
   "metadata": {
    "slideshow": {
     "slide_type": "slide"
    }
   },
   "source": [
    "### Markov Models:  Transition Matrix\n",
    "\n",
    "Suppose $X_t \\in \\{1,\\dots,K\\}$ is discrete.  Then, a stationary chain with $N$ states can be described by a **transition matrix**, $A \\in \\R^{N \\times N}$ where\n",
    "    $$\n",
    "    a_{ij} = p(X_t=j \\mid X_{t-1}=i)\n",
    "    $$\n",
    "\n",
    "is the probability of transitioning from state $i$ to $j$.\n",
    "\n",
    "> Each row sums to one, $\\sum_{j=1}^K A_{ij} = 1$, so $A$ is a *row-stochastic matrix*."
   ]
  },
  {
   "cell_type": "markdown",
   "metadata": {
    "slideshow": {
     "slide_type": "slide"
    }
   },
   "source": [
    "### Markov Models:  Transition Diagram\n",
    "\n",
    "Transitions between states can be represented as a graph:\n",
    "\n",
    "<img src=\"images/murphy-fig174-markov.png\">\n",
    "\n",
    "> This is *not* a Bayesian network!\n",
    "\n",
    "<span style=\"color:gray; font-size:10px; float:right\">(Figure 17.4b from **[MLAPP]**)</span>"
   ]
  },
  {
   "cell_type": "markdown",
   "metadata": {
    "slideshow": {
     "slide_type": "slide"
    }
   },
   "source": [
    "### Markov Models:  State Vectors\n",
    "\n",
    "Consider a row vector $x_t \\in \\R^{K \\times 1}$ with entries $x_{tj} = p(X_t = j)$.  Then,\n",
    "    $$\n",
    "    \\begin{align}\n",
    "    p(X_t = j)\n",
    "    &= \\sum_{i=1}^K p(X_t = j \\mid X_{t-1} = i) p(X_{t-1} = i) \\\\\n",
    "    &= \\sum_{i=1}^K A_{ij} x_{t-1,i} \\\\\n",
    "    \\end{align}\n",
    "    $$\n",
    "Therefore, we conclude $x_t = x_{t-1} A$.  Note $\\sum_{j=1}^K x_{tj} = 1$."
   ]
  },
  {
   "cell_type": "markdown",
   "metadata": {
    "slideshow": {
     "slide_type": "slide"
    }
   },
   "source": [
    "### Markov Models:  Matrix Powers\n",
    "\n",
    "Since $x_t = x_{t-1} A$, this suggests that in general,\n",
    "    $$\n",
    "    x_{t} = x_{t-1} A = x_{t-2} A^2 = \\cdots x_{0} A^t\n",
    "    $$\n",
    "If we know the initial state probabilities $x_0$, we can find the probabilities of landing in any state at time $t > 0$."
   ]
  },
  {
   "cell_type": "markdown",
   "metadata": {
    "slideshow": {
     "slide_type": "slide"
    }
   },
   "source": [
    "### Example:  Weather\n",
    "\n",
    "Suppose the weather is either $R=\\text{Rainy}$ or $S=\\text{Sunny}$,\n",
    "    $$\n",
    "    A = \\begin{bmatrix}\n",
    "        0.9 & 0.1 \\\\\n",
    "        0.5 & 0.5\n",
    "    \\end{bmatrix}\n",
    "    $$\n",
    "\n",
    "<img src=\"images/markov-chain-weather.png\">\n",
    "\n",
    "<span style=\"color:gray; font-size:10px; float:right\">(Taken from [Wikipedia](https://en.wikipedia.org/wiki/Examples_of_Markov_chains#A_very_simple_weather_model))</span>"
   ]
  },
  {
   "cell_type": "markdown",
   "metadata": {
    "slideshow": {
     "slide_type": "slide"
    }
   },
   "source": [
    "### Example:  Weather\n",
    "\n",
    "Suppose today is sunny, $x_0 = \\begin{bmatrix} 1 & 0 \\end{bmatrix}$.  We can predict tomorrow's weather,\n",
    "    $$\n",
    "    x_1 = x_0 A = \\begin{bmatrix} 0.9 & 0.1 \\end{bmatrix}\n",
    "    $$\n",
    "The weather over the next several days will be\n",
    "    $$\n",
    "    \\begin{align}\n",
    "    x_2 &= x_1 A = \\begin{bmatrix} 0.86 & 0.14 \\end{bmatrix} \\\\\n",
    "    x_3 &= x_2 A = \\begin{bmatrix} 0.844 & 0.156 \\end{bmatrix} \\\\\n",
    "    x_4 &= x_3 A = \\begin{bmatrix} 0.8376 & 0.1624 \\end{bmatrix}\n",
    "    \\end{align}\n",
    "    $$\n",
    "\n",
    "> **Question:** What happens to $x_0 A^n$ as $n \\rightarrow \\infty$?"
   ]
  },
  {
   "cell_type": "markdown",
   "metadata": {
    "slideshow": {
     "slide_type": "slide"
    }
   },
   "source": [
    "### Markov Chains:  Stationary Distribution\n",
    "\n",
    "If we ever reach a stage $x$ where\n",
    "    $$\n",
    "    x = xA\n",
    "    $$\n",
    "then we have reached the **stationary distribution** of the chain.\n",
    "- To find $x=v^T$, solve the eigenvalue problem $A^T v = v$\n",
    "- Under certain conditions, the limiting distribution $\\lim_{n \\rightarrow \\infty} x_0 A^n = x$\n",
    "- Stationary distribution $x$ does not depend on the starting state $x_0$"
   ]
  },
  {
   "cell_type": "markdown",
   "metadata": {
    "slideshow": {
     "slide_type": "slide"
    }
   },
   "source": [
    "# Hidden Markov Models\n",
    "\n",
    "> Uses material from **[MLAPP]**\n",
    "\n",
    "There are three fundamental problems for HMMs:\n",
    "\n",
    "1. Evaluation: Given the model parameters and observed data, calculate the likelihood of the data.\n",
    "\n",
    "2. Decoding: Given the model parameters and observed data, estimate the optimal sequence of hidden states.\n",
    "\n",
    "3. Learning: Given just the observed data, estimate the model parameters.\n",
    "\n",
    "The goal of the evaluation problem is to return the probability of a given sequence of observations given a sequence of latent states. Let us first introduce the toy problem. In this problem, we consider a person's latent state of health and their apparent symptoms. In this instance, a person is either Healthy or has a Fever, and the possible symptoms are feeling normal, cold, and dizzy. There is no deterministic relationship between the latent and observed states, so we need probabilistic approach to solving the problem of evaluation. \n",
    "\n",
    "<img src=\"./images/hmm1.png\" height=\"500px\">"
   ]
  },
  {
   "cell_type": "code",
   "execution_count": 1,
   "metadata": {
    "collapsed": true
   },
   "outputs": [],
   "source": [
    "states = ('Healthy', 'Fever')\n",
    "end_state = 'E'\n",
    " \n",
    "observations = ('cold', 'normal', 'normal')\n",
    " \n",
    "start_probability = {'Healthy': 0.6, 'Fever': 0.4}\n",
    "\n",
    "transition_probability = {\n",
    "   'Healthy' : {'Healthy': 0.69, 'Fever': 0.3, 'E': 0.01},\n",
    "   'Fever' : {'Healthy': 0.4, 'Fever': 0.59, 'E': 0.01},\n",
    "   }\n",
    " \n",
    "emission_probability = {\n",
    "   'Healthy' : {'normal': 0.5, 'cold': 0.4, 'dizzy': 0.1},\n",
    "   'Fever' : {'normal': 0.1, 'cold': 0.3, 'dizzy': 0.6},\n",
    "   }"
   ]
  },
  {
   "cell_type": "markdown",
   "metadata": {
    "slideshow": {
     "slide_type": "slide"
    }
   },
   "source": [
    "### Hidden Markov Models\n",
    "\n",
    "Noisy observations $X_k$ generated from *discrete* hidden Markov chain $Z_k$.\n",
    "$$\n",
    "P(\\vec{X}, \\vec{Z}) = P(Z_1) P(X_1 \\mid Z_1) \\prod_{k=2}^T P(Z_k \\mid Z_{k-1}) P(X_k \\mid Z_k)\n",
    "$$"
   ]
  },
  {
   "cell_type": "code",
   "execution_count": 4,
   "metadata": {
    "collapsed": true,
    "slideshow": {
     "slide_type": "skip"
    }
   },
   "outputs": [],
   "source": [
    "@pgm_render\n",
    "def pgm_hmm():\n",
    "    pgm = daft.PGM([7, 7], origin=[0, 0])\n",
    "\n",
    "    # Nodes\n",
    "    pgm.add_node(daft.Node(\"Z1\", r\"$Z_1$\", 1, 3.5))\n",
    "    pgm.add_node(daft.Node(\"Z2\", r\"$Z_2$\", 2, 3.5))\n",
    "    pgm.add_node(daft.Node(\"Z3\", r\"$\\dots$\", 3, 3.5, plot_params={'ec':'none'}))\n",
    "    pgm.add_node(daft.Node(\"Z4\", r\"$Z_T$\", 4, 3.5))\n",
    "\n",
    "    pgm.add_node(daft.Node(\"x1\", r\"$X_1$\", 1, 2.5, observed=True))\n",
    "    pgm.add_node(daft.Node(\"x2\", r\"$X_2$\", 2, 2.5, observed=True))\n",
    "    pgm.add_node(daft.Node(\"x3\", r\"$\\dots$\", 3, 2.5, plot_params={'ec':'none'}))\n",
    "    pgm.add_node(daft.Node(\"x4\", r\"$X_T$\", 4, 2.5, observed=True))\n",
    "\n",
    "\n",
    "    # Add in the edges.\n",
    "    pgm.add_edge(\"Z1\", \"Z2\", head_length=0.08)\n",
    "    pgm.add_edge(\"Z2\", \"Z3\", head_length=0.08)\n",
    "    pgm.add_edge(\"Z3\", \"Z4\", head_length=0.08)\n",
    "\n",
    "    pgm.add_edge(\"Z1\", \"x1\", head_length=0.08)\n",
    "    pgm.add_edge(\"Z2\", \"x2\", head_length=0.08)\n",
    "    pgm.add_edge(\"Z4\", \"x4\", head_length=0.08)\n",
    "    \n",
    "    return pgm;"
   ]
  },
  {
   "cell_type": "code",
   "execution_count": 6,
   "metadata": {
    "collapsed": false,
    "slideshow": {
     "slide_type": "slide"
    }
   },
   "outputs": [
    {
     "data": {
      "image/png": "[encoded data removed]",
      "text/plain": [
       "<IPython.core.display.Image object>"
      ]
     },
     "execution_count": 6,
     "metadata": {},
     "output_type": "execute_result"
    }
   ],
   "source": [
    "%%capture\n",
    "pgm_hmm(\"images/hmm.png\")"
   ]
  },
  {
   "cell_type": "markdown",
   "metadata": {
    "slideshow": {
     "slide_type": "slide"
    }
   },
   "source": [
    "### HMM:  Parameters\n",
    "\n",
    "For a Hidden Markov Model with $N$ hidden states and $M$ observed states, there are three *row-stochastic* parameters $\\theta=(A,B,\\pi)$,\n",
    "- Transition matrix  $A \\in \\R^{N \\times N}$\n",
    "    $$\n",
    "    A_{ij} = p(Z_t = j | Z_{t-1} = i)\n",
    "    $$\n",
    "- Emission matrix $B \\in \\R^{N \\times M}$\n",
    "    $$\n",
    "    B_{jk} = p(X_t = k | Z_t = j)\n",
    "    $$\n",
    "- Initial distribution $\\pi \\in \\R^N$,\n",
    "    $$\n",
    "    \\pi_j = p(Z_1 = j)\n",
    "    $$"
   ]
  },
  {
   "cell_type": "markdown",
   "metadata": {
    "slideshow": {
     "slide_type": "slide"
    }
   },
   "source": [
    "### HMM:  Filtering Problem\n",
    "\n",
    "**Filtering** means to compute the current *belief state* $p(z_t | x_1, \\dots, x_t,\\theta)$.\n",
    "    $$\n",
    "    p(z_t | x_1,\\dots,x_t) = \\frac{p(x_1,\\dots,x_t,z_t)}{p(x_1,\\dots,x_t)}\n",
    "    $$\n",
    "- Given observations $x_{1:t}$ so far, infer $z_t$.\n",
    "- *Example*:  Estimate robot position given previous sensor readings.\n",
    "\n",
    "> Solved by the **forward algorithm**."
   ]
  },
  {
   "cell_type": "markdown",
   "metadata": {
    "slideshow": {
     "slide_type": "slide"
    }
   },
   "source": [
    "### HMM:  Filtering Problem\n",
    "\n",
    "As an example of filtering, consider **robot localization**, in which we \n",
    "- estimate the current location $z_t$\n",
    "- given **noisy** sensor readings $x_1,\\dots,x_t$.\n",
    "\n",
    "<img src=\"images/murphy-fig183-filtering.png\">\n",
    "\n",
    "<span style=\"color:gray; font-size:10px; float:right\">(Figure 18.3a from **[MLAPP]**)</span>"
   ]
  },
  {
   "cell_type": "markdown",
   "metadata": {
    "slideshow": {
     "slide_type": "slide"
    }
   },
   "source": [
    "### HMM:  Forward Algorithm\n",
    "\n",
    "The **forward algorithm** computes $\\alpha_t(z_t) \\equiv p(x_1,\\dots,x_t,z_t)$.\n",
    "    $$\n",
    "    \\begin{align}\n",
    "    \\alpha_t(z_t)\n",
    "    &= \\sum_{z_{t-1}} p(x_1, \\dots, x_t, z_{t-1}, z_t) \\\\\n",
    "    &= \\sum_{z_{t-1}} p(x_1, \\dots, x_{t-1}, z_{t-1}) p(z_t | z_{t-1}) p(x_t | z_t) \\\\\n",
    "    &= p(x_t | z_t) \\sum_{z_{t-1}} \\alpha_{t-1}(z_{t-1}) p(z_t | z_{t-1})\\\\\n",
    "    &= B_{z_t,x_t} \\sum_{z_{t-1}} \\alpha_{t-1}(z_{t-1}) A_{z_{t-1}, z_t}\n",
    "    \\end{align}\n",
    "    $$\n",
    "\n",
    "> Compute recursively starting from the *front* of the chain. The forward–backward algorithm can be used to find the most likely state for any point in time. It cannot, however, be used to find the most likely sequence of states (see Decoding, and specifically the Viterbi algorithm)."
   ]
  },
  {
   "cell_type": "markdown",
   "metadata": {
    "slideshow": {
     "slide_type": "slide"
    }
   },
   "source": [
    "### HMM:  Smoothing Problem\n",
    "\n",
    "Compute $p(z_t | \\X)$ offline, given all observations.  \n",
    "- Retroactively infer $z_t$.  (Hindsight!)\n",
    "\n",
    "We can break the chain into two parts, the *past* and *future*:\n",
    "    $$\n",
    "    \\begin{align}\n",
    "    p(z_t | \\X)\n",
    "    &= p(x_{1:t}, z_t, x_{t+1:T}) \\frac{1}{p(\\X)} \\\\\n",
    "    &= p(x_{1:t}, z_t) p(x_{t+1:T} | x_{1:t}, z_t)\\frac{1}{p(\\X)} \\\\\n",
    "    &= p(x_{1:t}, z_t) p(x_{t+1:T} | z_t)\\frac{1}{p(\\X)}\n",
    "    \\end{align}\n",
    "    $$"
   ]
  },
  {
   "cell_type": "markdown",
   "metadata": {
    "slideshow": {
     "slide_type": "slide"
    }
   },
   "source": [
    "### HMM:  Smoothing Problem\n",
    "\n",
    "Overall, the **smoothing problem** is to compute\n",
    "$$\n",
    "\\begin{align*}\n",
    "    \\gamma_t(j) \\equiv p(z_t = j \\mid \\X) \n",
    "    & = \\frac{p(\\X \\mid z_t = j)p(z_t = j)}{p(\\X)} \\\\\n",
    "    & = \\frac{p(\\X_{1:t} \\mid z_t = j) p(\\X_{t+1:T} | z_t=j) p(z_t = j)}{p(\\X)} \\\\\n",
    "    & = \\frac{\\alpha_t(j) \\beta_t(j)}{p(\\X)} = \\frac{\\alpha_t(j) \\beta_t(j)}{\\sum_k \\alpha_t(k)\\beta_t(k)}\n",
    "\\end{align*}\n",
    "$$\n",
    "It is an easy exercise to check that, for any $t$, $p(\\X) = \\sum_k \\alpha_t(k)\\beta_t(x)$.\n",
    "\n",
    "We solve this via the **forward-backward algorithm**, where\n",
    "- $\\alpha_t(z_t) \\equiv p(x_1,\\dots,x_t,z_t)$ is found with the **forward algorithm**\n",
    "- $\\beta_t(z_t) \\equiv p(x_{t+1},\\dots,x_{T} | z_t)$ is found with the **backward algorithm**\n",
    "\n"
   ]
  },
  {
   "cell_type": "markdown",
   "metadata": {
    "slideshow": {
     "slide_type": "slide"
    }
   },
   "source": [
    "### HMM:  Backward Algorithm\n",
    "\n",
    "The **backward algorithm** computes $\\beta_t(z_t) \\equiv p(x_{t+1},\\dots,x_{T} | z_t)$,\n",
    "    $$\n",
    "    \\begin{align}\n",
    "    \\beta(z_t)\n",
    "    &= \\sum_{z_{t+1}} p(x_{t+1},\\dots,x_{T},z_{t+1} | z_t) \\\\\n",
    "    &= \\sum_{z_{t+1}} p(z_{t+1}|z_t) p(x_{t+1}, \\dots, x_T |z_{t+1}, z_t)\\\\\n",
    "        (\\text{since } x_{t+1:T} \\perp z_t \\mid z_{t+1}) \\quad \n",
    "    &= \\sum_{z_{t+1}} p(z_{t+1}|z_t) p(x_{t+1}, \\dots, x_T |z_{t+1})\\\\\n",
    "        (\\text{since } x_{t+2:T} \\perp x_{t+1} \\mid z_{t+1}) \\quad \n",
    "    &= \\sum_{z_{t+1}} p(z_{t+1}|z_t) p(x_{t+1}|z_{t+1})  p(x_{t+2}, \\dots, x_T |z_{t+1})\\\\\n",
    "    &= \\sum_{z_{t+1}} p(z_{t+1}|z_t) p(x_{t+1}|z_{t+1}) \\beta_{t+1}(z_{t+1}) \\\\\n",
    "    &= \\sum_{z_{t+1}} A_{z_t, z_{t+1}} B_{z_{t+1}, x_{t+1}} \\beta_{t+1}(z_{t+1})\n",
    "    \\end{align}\n",
    "    $$\n",
    "\n",
    "> Compute recursively starting from the *back* of the chain."
   ]
  },
  {
   "cell_type": "code",
   "execution_count": 2,
   "metadata": {
    "collapsed": true
   },
   "outputs": [],
   "source": [
    "def fwd_bkw(y, states, a_0, a, e, end_st):\n",
    "    L = len(y)\n",
    " \n",
    "    fwd = []\n",
    "    f_prev = {}\n",
    "    # forward part of the algorithm\n",
    "    for i, y_i in enumerate(y):\n",
    "        f_curr = {}\n",
    "        for st in states:\n",
    "            if i == 0:\n",
    "                # base case for the forward part\n",
    "                prev_f_sum = a_0[st]\n",
    "            else:\n",
    "                prev_f_sum = sum(f_prev[k]*a[k][st] for k in states)\n",
    " \n",
    "            f_curr[st] = e[st][y_i] * prev_f_sum\n",
    " \n",
    "        fwd.append(f_curr)\n",
    "        f_prev = f_curr\n",
    " \n",
    "    p_fwd = sum(f_curr[k]*a[k][end_st] for k in states)\n",
    " \n",
    "    bkw = []\n",
    "    b_prev = {}\n",
    "    # backward part of the algorithm\n",
    "    for i, y_i_plus in enumerate(reversed(y[1:]+(None,))):\n",
    "        b_curr = {}\n",
    "        for st in states:\n",
    "            if i == 0:\n",
    "                # base case for backward part\n",
    "                b_curr[st] = a[st][end_st]\n",
    "            else:\n",
    "                b_curr[st] = sum(a[st][l]*e[l][y_i_plus]*b_prev[l] for l in states)\n",
    " \n",
    "        bkw.insert(0,b_curr)\n",
    "        b_prev = b_curr\n",
    " \n",
    "    p_bkw = sum(a_0[l] * e[l][y[0]] * b_curr[l] for l in states)\n",
    " \n",
    "    # merging the two parts\n",
    "    posterior = []\n",
    "    for i in range(L):\n",
    "        posterior.append({st: fwd[i][st]*bkw[i][st]/p_fwd for st in states})\n",
    " \n",
    "    assert p_fwd == p_bkw\n",
    "    return fwd, bkw, posterior"
   ]
  },
  {
   "cell_type": "code",
   "execution_count": 3,
   "metadata": {
    "collapsed": false
   },
   "outputs": [
    {
     "name": "stdout",
     "output_type": "stream",
     "text": [
      "[{'Healthy': 0.7523637371047066, 'Fever': 0.24763626289529342}, {'Healthy': 0.9154595401170142, 'Fever': 0.08454045988298578}, {'Healthy': 0.907504985311503, 'Fever': 0.09249501468849691}]\n"
     ]
    }
   ],
   "source": [
    " fwd, bkw, posterior = fwd_bkw(observations, states, start_probability, \n",
    "                               transition_probability, emission_probability, end_state)\n",
    "print (posterior)"
   ]
  },
  {
   "cell_type": "markdown",
   "metadata": {
    "slideshow": {
     "slide_type": "slide"
    }
   },
   "source": [
    "### HMM:  Decoding Problem\n",
    "\n",
    "Decoding an HMM is answering the question: \"Given the transition model, what is the most likely sequence of latent states that could have produced the observed states?\" This is different than the evaulation problem because it predicts an entire sequence rather than giving a probability distribution over the latent states for each time step. \n",
    "\n",
    "A naive way of solving the decoding problem is simply by exhausting evaulation, i.e. to list all possible sequences of hidden states and finding the probability of the observed sequence for each of the combinations. The most probable sequence of hidden states is that combination that maximises P(observed sequence | hidden state sequence).\n",
    "\n",
    "This approach is viable, but to find the most probable sequence by exhaustively calculating each combination is computationally expensive. As with the forward algorithm, we can use the time invariance of the probabilities to reduce the complexity of the calculation.\n",
    "\n",
    "\n",
    "**Decoding** computes the most probable state sequence, given observations.\n",
    "    $$\n",
    "    \\vec{z}^* = \\arg\\max_{z_1,\\dots,z_T} p(z_1,\\dots,z_T | x_1, \\dots, x_T, \\theta)\n",
    "    $$\n",
    "\n",
    "> The decoding problem is solved by the **Viterbi algorithm**, which uses dynamic programming.  See **[PRML]** or **[MLAPP]** for more details."
   ]
  },
  {
   "cell_type": "markdown",
   "metadata": {
    "slideshow": {
     "slide_type": "slide"
    }
   },
   "source": [
    "### Viterbi Algorithm\n",
    "\n",
    "* Viterbi is another recursive procedure for computing the most likely sequence of hidden states.\n",
    "* We define $V_t(z_t)$ to be the probability of the most likely sequence of states up to time $t$ *that ended in state* $z_t$, given observed data\n",
    "* These $V(z_t)$ values satisfies the recursion:\n",
    "\n",
    "\\begin{align}\n",
    "V_1(j) & = p(x_1 \\mid z_1=j) = B_{x_1, j}\\\\\n",
    "V_{t+1}(j) & = p(x_{t+1} \\mid z_{t+1} = j) \\max_{k} \\bigg\\{ V_{t}(k) p(z_{t+1} = j \\mid z_t = k) \\bigg\\}\\\\\n",
    "& = B_{x_{t+1},j} \\max_{k} \\bigg\\{ V_{t}(k) A_{j,k} \\bigg\\}\n",
    "\\end{align}\n",
    "\n",
    "* Can be computed very quickly!"
   ]
  },
  {
   "cell_type": "code",
   "execution_count": 4,
   "metadata": {
    "collapsed": false
   },
   "outputs": [
    {
     "data": {
      "text/plain": [
       "'Healthy'"
      ]
     },
     "execution_count": 4,
     "metadata": {},
     "output_type": "execute_result"
    }
   ],
   "source": [
    "# a slightly more realistic version of the 'Healthy' vs. 'Fever' model is outlined and then generated\n",
    "import random\n",
    "states = ('Healthy', 'Fever')\n",
    "observations = ('normal', 'cold', 'dizzy')\n",
    "start_probability = {'Healthy': 0.6, 'Fever': 0.4}\n",
    "\n",
    "transition_probability = {\n",
    "   'Healthy' : {'Healthy': 0.8, 'Fever': 0.2},\n",
    "   'Fever' : {'Healthy': 0.4, 'Fever': 0.6}\n",
    "   }\n",
    "\n",
    "emission_probability = {\n",
    "   'Healthy' : {'normal': 0.7, 'cold': 0.2, 'dizzy': 0.1},\n",
    "   'Fever' : {'normal': 0.1, 'cold': 0.4, 'dizzy': 0.5}\n",
    "   }\n",
    "\n",
    "# A random HMM is generated using the probability matricies defined above\n",
    "# Both the latent and visible states are generated in order to later assess the accuracy of our algorithms\n",
    "N = 100\n",
    "hidden = []\n",
    "visible = []\n",
    "# generate observations\n",
    "if random.random() < start_probability[states[0]]:\n",
    "    hidden.append(states[0])\n",
    "else:\n",
    "    hidden.append(states[1])\n",
    "\n",
    "for i in range(N):\n",
    "    current_state = hidden[i]\n",
    "    if random.random() < transition_probability[current_state][states[0]]:\n",
    "        hidden.append(states[0])\n",
    "    else:\n",
    "        hidden.append(states[1])\n",
    "    r = random.random()\n",
    "    prev = 0\n",
    "    for observation in observations:\n",
    "        prev += emission_probability[current_state][observation]\n",
    "        if r < prev:\n",
    "            visible.append(observation)\n",
    "            break\n",
    "\n",
    "# fixes issue of creating extra hidden state\n",
    "hidden.pop()"
   ]
  },
  {
   "cell_type": "code",
   "execution_count": 7,
   "metadata": {
    "collapsed": false
   },
   "outputs": [
    {
     "name": "stdout",
     "output_type": "stream",
     "text": [
      "accuracy: 0.87\n"
     ]
    }
   ],
   "source": [
    "def print_dptable(V):\n",
    "    s = \"    \" + \" \".join((\"%7d\" % i) for i in range(len(V))) + \"\\n\"\n",
    "    for y in V[0]:\n",
    "        s += \"%.5s: \" % y\n",
    "        s += \" \".join(\"%.7s\" % (\"%f\" % v[y]) for v in V)\n",
    "        s += \"\\n\"\n",
    "    print(s)\n",
    "\n",
    "def viterbi(obs, states, start_p, trans_p, emit_p):\n",
    "    V = [{}]\n",
    "    path = {}\n",
    " \n",
    "    # Initialize base cases (t == 0)\n",
    "    for y in states:\n",
    "        V[0][y] = start_p[y] * emit_p[y][obs[0]]\n",
    "        path[y] = [y]\n",
    " \n",
    "    # Run Viterbi for t > 0\n",
    "    for t in range(1, len(obs)):\n",
    "        V.append({})\n",
    "        newpath = {}\n",
    " \n",
    "        for y in states:\n",
    "            (prob, state) = max((V[t-1][y0] * trans_p[y0][y] * emit_p[y][obs[t]], y0) for y0 in states)\n",
    "            V[t][y] = prob\n",
    "            newpath[y] = path[state] + [y]\n",
    " \n",
    "        # Don't need to remember the old paths\n",
    "        path = newpath\n",
    "     \n",
    "    #print_dptable(V)\n",
    "    (prob, state) = max((V[t][y], y) for y in states)\n",
    "    return (prob, path[state])\n",
    "\n",
    "# input the generated markov model\n",
    "def example():\n",
    "    return viterbi(visible,\n",
    "                   states,\n",
    "                   start_probability,\n",
    "                   transition_probability,\n",
    "                   emission_probability)\n",
    "\n",
    "(prob, p_hidden) = example()\n",
    "\n",
    "# assess accuracy of the HMM model\n",
    "wrong= 0\n",
    "for i in range(len(hidden)):\n",
    "    if hidden[i] != p_hidden[i]:\n",
    "        wrong = wrong + 1\n",
    "print (\"accuracy: \" + str(1-float(wrong)/N))"
   ]
  },
  {
   "cell_type": "markdown",
   "metadata": {
    "slideshow": {
     "slide_type": "slide"
    }
   },
   "source": [
    "\n",
    "### HMM:  Part-of-Speech Tagging\n",
    "\n",
    "In English, some words can have multiple parts of speech.  For instance,\n",
    "\n",
    "- Business is going **well** (*Adverb*).\n",
    "- All is **well** with us (*Adjective*).\n",
    "- **Well**, who would have thought he could do it? (*Interjection*)\n",
    "- The **well** was drilled fifty meters deep. (*Noun*)\n",
    "- Tears **well** up in my eyes. (*Verb*)\n",
    "\n",
    "<span style=\"color:gray; font-size:10px; float:right\">(Example taken from [here](http://english.stackexchange.com/questions/46277/what-word-can-fulfill-the-most-parts-of-speech).)</span>"
   ]
  },
  {
   "cell_type": "markdown",
   "metadata": {
    "slideshow": {
     "slide_type": "slide"
    }
   },
   "source": [
    "### HMM:  Part-of-Speech Tagging\n",
    "\n",
    "We can use a Hidden Markov Model to **disambiguate** the part of speech using context clues!\n",
    "- Hidden states $z_t$ are parts-of-speech\n",
    "- Observed states $x_t$ are words\n",
    "\n",
    "Certain sequences of POS tags are unlikely.  This allows us to infer the correct tags!"
   ]
  },
  {
   "cell_type": "markdown",
   "metadata": {
    "slideshow": {
     "slide_type": "slide"
    }
   },
   "source": [
    "### HMM:  Learning Problem\n",
    "\n",
    "It is usually necessary to **learn** the model parameters $\\theta = (A,B,\\pi)$ from data.\n",
    "- Given observations $\\mathcal{X} = \\{ x_1, \\dots, x_T \\}$\n",
    "- Given model dimensions $N$ and $M$\n",
    "- Find parameters that best fit the data\n",
    "\n",
    "> The learning problem is solved by the **Baum-Welch algorithm**, a special case of expectation maximization."
   ]
  },
  {
   "cell_type": "markdown",
   "metadata": {
    "slideshow": {
     "slide_type": "slide"
    }
   },
   "source": [
    "### Recall:  Expectation-Maximization\n",
    "\n",
    "<div style=\"margin:10px;padding:10px;border:2px solid black;\">\n",
    "<div>\n",
    "**E-Step:** Write down an expression for \n",
    "    $$\n",
    "    Q(\\theta_t, \\theta) = E_{q}[ \\log p(\\X,Z | \\theta) ] \\quad \\quad \\text{ where } q = q(\\cdot | \\theta_t)\n",
    "    $$\n",
    "</div><div>\n",
    "**M-Step:** Maximize the auxiliary function,\n",
    "    $$\n",
    "    \\theta_{t+1}\n",
    "    = \\arg\\max_\\theta Q(\\theta_t, \\theta)\n",
    "    $$\n",
    "</div>\n",
    "</div>\n",
    "\n",
    "> Recall $q_t(Z) = p(Z|\\X,\\theta_t)$"
   ]
  },
  {
   "cell_type": "markdown",
   "metadata": {
    "slideshow": {
     "slide_type": "slide"
    }
   },
   "source": [
    "### HMM:  Complete-Data Log-Likelihood\n",
    "\n",
    "The joint likelihood of the hidden and observed states is\n",
    "\n",
    "$$\n",
    "\\begin{align}\n",
    "\\log p(x_{1:T}, z_{1:T} | \\theta)\n",
    "&= \\log \\left[ p(z_1|\\pi)\n",
    "    \\prod_{t=2}^T p(z_t | z_{t-1}, A)\n",
    "    \\prod_{t=1}^T p(x_t | z_t, B) \\right] \\\\\n",
    "&=  \\log p(z_1|\\pi)\n",
    "    + \\sum_{t=2}^T \\log p(z_t | z_{t-1}, A) \\\\\n",
    "    & \\qquad \\qquad + \\sum_{t=1}^T \\log p(x_t | z_t, B) \n",
    "\\end{align}\n",
    "$$"
   ]
  },
  {
   "cell_type": "markdown",
   "metadata": {
    "slideshow": {
     "slide_type": "slide"
    }
   },
   "source": [
    "### HMM:  Complete-Data Log-Likelihood\n",
    "\n",
    "Each term of the complete-data log-likelihood is:\n",
    "\n",
    "$$\n",
    "\\begin{align}\n",
    "\\log p(z_1 | \\pi)\n",
    "    &= \\sum_{j=1}^N \\mathbb{I}(z_t=j) \\log \\pi_j \\\\\n",
    "\\log p(z_t | z_{t-1}, A)\n",
    "    &= \\sum_{i=1}^N \\sum_{j=1}^N \n",
    "        \\mathbb{I}(z_{t-1}=i)\\mathbb{I}(z_t=j) \\log A_{ij} \\\\\n",
    "\\log p(x_t | z_t, B)\n",
    "    &= \\sum_{j=1}^N \n",
    "        \\mathbb{I}(z_t=j) \\log B_{j,x_t} \n",
    "\\end{align}\n",
    "$$"
   ]
  },
  {
   "cell_type": "markdown",
   "metadata": {
    "slideshow": {
     "slide_type": "slide"
    }
   },
   "source": [
    "### HMM:  Expected Complete Likelihood\n",
    "\n",
    "The expected complete likelihood $Q(\\theta_t, \\theta)$ is\n",
    "\n",
    "$$\n",
    "\\begin{align}\n",
    "Q(\\theta_t,\\theta)\n",
    "&= E_q[ \\log p(\\X,Z|\\theta) ] \\\\\n",
    "&= E_q[ \\log p(z_1|\\pi) ]\n",
    "    + E_q\\left[ \\sum_{t=2}^T \\log p(z_t | z_{t-1}, A) \\right]\\\\\n",
    "    &\\qquad + E_q\\left[ \\sum_{t=1}^T \\log p(x_t | z_t, B) \\right]\n",
    "\\end{align}\n",
    "$$"
   ]
  },
  {
   "cell_type": "markdown",
   "metadata": {
    "slideshow": {
     "slide_type": "slide"
    }
   },
   "source": [
    "### HMM:  Expected Complete Likelihood\n",
    "\n",
    "Fixing $t > 1$, and taking expectations with respect to $q(Z) = p(Z|\\X,\\theta)$,\n",
    "\n",
    "$$\n",
    "\\begin{align*}\n",
    "E_q[\\log p(z_1 | \\pi)]\n",
    "    &= \\sum_{j=1}^N q(z_1=j) \\log \\pi_j \\\\\n",
    "E_q[\\log p(z_t | z_{t-1}, A)]\n",
    "    &= \\sum_{i=1}^N \\sum_{j=1}^N \n",
    "        q(z_{t-1}=i, z_t=j) \\log A_{ij} \\\\\n",
    "E_q[\\log p(x_t | z_t, B)]\n",
    "    &= \\sum_{j=1}^N \n",
    "        q(z_t=j) \\log B_{j, x_t} \n",
    "\\end{align*}\n",
    "$$\n"
   ]
  },
  {
   "cell_type": "markdown",
   "metadata": {
    "slideshow": {
     "slide_type": "slide"
    }
   },
   "source": [
    "### HMM:  Baum-Welch\n",
    "\n",
    "- The **E-Step** consists of computing the $q$ terms from the previous slide, which can all be computed using the **forward-backward algorithm**!\n",
    "\n",
    "- The **M-Step** consists of normalizing the expected transition and emission counts\n",
    "    - Similar to MLE for complete data\n",
    "    - Requires some careful calculations. See details on next slide."
   ]
  },
  {
   "cell_type": "markdown",
   "metadata": {
    "slideshow": {
     "slide_type": "slide"
    }
   },
   "source": [
    "You must compute the key quantities for $q()$ using the forward-backward algorithm. In the E step you can assume the parameters $\\theta = (A, B, \\pi)$, so we'll drop dependence on $\\theta$.\n",
    "1. First note that $q(z_t=j) = p(z_t = j \\mid \\X, \\theta) = \\gamma_t(j)$ which we computed above.\n",
    "1. Our last step is to compute $q(z_{t-1}=i, z_t=j) = p(z_{t-1}=i, z_t=j | \\X, \\theta)$. Again, dropping dependence on $\\theta$, we have\n",
    "$$ \n",
    "\\begin{align*}\n",
    "    p(z_{t-1}, z_t | \\X, \\theta)\n",
    "    & = \\frac{p(\\X \\mid z_t, z_{t-1})p(z_t, z_{t-1})}{p(\\X)} \\\\\n",
    "    & = \\frac{p(\\X_{1:t-1} \\mid z_t, z_{t-1}) p(\\X_{t:T} | z_t, z_{t-1}) p(z_t, z_{t-1})}{p(\\X)} \\\\\n",
    "    & = \\frac{p(\\X_{1:t-1} \\mid z_{t-1}) p(\\X_{t:T} | z_t) p(z_t, z_{t-1})}{p(\\X)} \\\\\n",
    "    & = \\frac{p(\\X_{1:t-1}, z_{t-1}) p(x_t \\mid z_t) p(\\X_{t+1:T} | z_t) p(z_t, z_{t-1})}{p(z_{t-1})p(\\X)} \\\\\n",
    "    & = \\frac{\\alpha_{t-1}(z_{t-1}) \\beta_t(z_t) p(z_t \\mid z_{t-1}) p(x_t \\mid z_t)}{p(\\X)} \\\\\n",
    "    & = \\frac{\\alpha_{t-1}(z_{t-1}) \\beta_t(z_t) A_{z_{t-1}, z_t} B_{z_t, x_t}}{\\sum_k \\alpha_t(k)\\beta_t(k)}\n",
    "\\end{align*}\n",
    "$$"
   ]
  },
  {
   "cell_type": "code",
   "execution_count": null,
   "metadata": {
    "collapsed": true
   },
   "outputs": [],
   "source": []
  }
 ],
 "metadata": {
  "celltoolbar": "Raw Cell Format",
  "kernelspec": {
   "display_name": "Python 3",
   "language": "python",
   "name": "python3"
  },
  "language_info": {
   "codemirror_mode": {
    "name": "ipython",
    "version": 3
   },
   "file_extension": ".py",
   "mimetype": "text/x-python",
   "name": "python",
   "nbconvert_exporter": "python",
   "pygments_lexer": "ipython3",
   "version": "3.5.2"
  }
 },
 "nbformat": 4,
 "nbformat_minor": 0
}
