{
 "cells": [
  {
   "cell_type": "markdown",
   "metadata": {},
   "source": [
    "# Supervised learning\n",
    "\n",
    "Let’s start by talking about a few examples of supervised learning problems.\n",
    "Suppose we have a dataset giving the living areas and prices of 47 houses\n",
    "from Portland, Oregon:\n",
    "\n",
    "<img src='./images/data.png' width='400' alt=''>\n",
    "Given data like this, how can we learn to predict the prices of other houses in Portland, as a function of the size of their living areas?\n",
    "To establish notation for future use, we’ll use $x^{(i)}$ to denote the “input”\n",
    "variables (living area in this example), also called input features, and $y^{(i)}$\n",
    "to denote the “output” or target variable that we are trying to predict\n",
    "(price). A pair $(x^{(i)} , y^{(i)} )$ is called a training example, and the dataset\n",
    "that we’ll be using to learn—a list of m training examples ${(x^{(i)} , y^{(i)} ); i =\n",
    "1, . . . , m}$—is called a training set. Note that the superscript “(i)” in the\n",
    "notation is simply an index into the training set, and has nothing to do with\n",
    "exponentiation. We will also use $X$ denote the space of input values, and $Y$\n",
    "the space of output values.\n",
    "\n",
    "To describe the supervised learning problem slightly more formally, our\n",
    "goal is, given a training set, to learn a function $h:X\\in Y$ so that $h(x)$ is a\n",
    "“good” predictor for the corresponding value of y. For historical reasons, this\n",
    "function h is called a hypothesis. Seen pictorially, the process is therefore\n",
    "like this:\n",
    "<img src='./images/hypothesis.png' width='300' alt=''>\n",
    "\n",
    "When the target variable that we’re trying to predict is continuous, such\n",
    "as in our housing example, we call the learning problem a regression prob-\n",
    "lem. When y can take on only a small number of discrete values (such as\n",
    "if, given the living area, we wanted to predict if a dwelling is a house or an\n",
    "apartment, say), we call it a classification problem."
   ]
  },
  {
   "cell_type": "markdown",
   "metadata": {},
   "source": [
    "To perform supervised learning, we must decide how we’re going to rep-\n",
    "resent functions/hypotheses h in a computer. As an initial choice, let’s say\n",
    "we decide to approximate $y$ as a linear function of $x$:\n",
    "\n",
    "$$h_{\\theta} = \\theta_0 + \\theta_1x$$\n",
    "\n",
    "Here, the $θ_i’s$ are the parameters (also called weights) parameterizing the\n",
    "space of linear functions mapping from $X$ to $Y$. When there is no risk of\n",
    "confusion, we will drop the $\\theta$ subscript in $h_{\\theta}(x)$, and write it more simply as\n",
    "$h(x)$. To simplify our notation, we also introduce the convention of letting\n",
    "$x_0 = 1$ (this is the intercept term), so that\n",
    "\n",
    "$$h(x) = \\sum_{i=1}^m \\theta_ix_i = \\theta^Tx$$\n",
    "\n",
    "where on the right-hand side above we are viewing $\\theta$ and $x$ both as vectors,\n",
    "and here $n$ is the number of input variables (not counting $x_0$). Now, given a training set, how do we pick, or learn, the parameters $\\theta$? One reasonable method seems to be to make $h(x)$ close to $y$, at least for the training examples we have. To formalize this, we will define a function that measures, for each value of the $θ’s$, how close the $h(x^{(i)})$'s are to the corresponding $y^{(i)}$'s. We define the cost or loss function $L(h({x}),y)$, is some measure of prediction error. There are many types of loss functions.\n",
    "* L1-norm: $L(h({x}),y) = \\|h({x}) - y\\|_1$ -- city block distance -- lasso\n",
    "* L2-norm: $L(h({x}),y) = \\|h({x}) - y\\|_2$ -- just the euclidian -- ridge\n",
    "* p-norm: $L(h({x}),y) = \\|h({x}) - y\\|_p$ -- more generally speaking\n",
    "* Square-error: $L(h({x}),y) = \\|h({x}) - y\\|_2^2$ -- used in linear regression and logistic regression\n",
    "* Hinge-loss: $L(h({x}),y) = \\text{max}(0,1-yh({x}))$ -- used in SVMs for classification.\n",
    "* Exponential-loss: $L(h({x}),y) = e^{-yh({x})}$ -- used in adaboost for classification\n",
    "\n",
    "The loss function is equal to the negated conditional log-likelihood\n",
    "\\begin{align*}\n",
    "L(h({x}),y) &= - \\log p(\\mathcal{D}|{w})\\\\\n",
    "&= - \\sum_m \\log p(y_m|{x}_m,{w})\n",
    "\\end{align*}\n",
    "\n",
    "Given some data, we can approximate the expected risk with the empirical risk given by\n",
    "\\begin{align*}\n",
    "R_{\\mathcal{D}}(h) &= \\frac{1}{m} \\sum_m L(h({x}_m),y_m)\n",
    "\\end{align*}\n",
    "Also, with infinite data, empirical risk is the expected risk\n",
    "\\begin{align*}\n",
    "\\lim_{m \\to \\infty} R_{\\mathcal{D}}(h) &= R(h)\n",
    "\\end{align*}\n",
    "\n",
    "This gives us an empirical risk (or cross-entropy) of\n",
    "\\begin{align*}\n",
    "R_{\\mathcal{D}}(h) = \\frac{1}{m} \\sum_m \\|y_m - h({x})\\|_2^2\n",
    "\\end{align*}\n",
    "In this case, empirical risk is often referred to as the residual-sum-of-squares (RSS) or mean-square-error (MSE). The cost function used here defined as:\n",
    "\n",
    "$$J(\\theta) = \\frac{1}{2m}\\sum_{i=1}^m(h_{\\theta}(x^{(i)})-y^{(i)})^2$$\n",
    "\n",
    "We want to choose $\\theta$ so as to minimize $J(\\theta)$. To do so, let’s use a search\n",
    "algorithm that starts with some “initial guess” for $\\theta$, and that repeatedly\n",
    "changes $\\theta$ to make $J(\\theta)$ smaller, until hopefully we converge to a value of\n",
    "$\\theta$ that minimizes $J(\\theta)$. Specifically, let’s consider the gradient descent\n",
    "algorithm, which starts with some initial $\\theta$, and repeatedly performs the\n",
    "update:\n",
    "\n",
    "$$\\theta_j = \\theta_j - \\alpha \\frac{\\partial}{\\partial{\\theta_{j}}}J(\\theta)$$\n",
    "\n",
    "\n",
    "(This update is simultaneously performed for all values of $j = 0, . . . , n.$)\n",
    "Here, $\\alpha$ is called the learning rate. This is a very natural algorithm that\n",
    "repeatedly takes a step in the direction of steepest decrease of $J$.\n",
    "In order to implement this algorithm, we have to work out what is the\n",
    "partial derivative term on the right hand side. Let’s first work it out for the\n",
    "case of if we have only one training example $(x, y)$, so that we can neglect\n",
    "the sum in the definition of $J$. We have:\n",
    "\\begin{align}\n",
    "\\frac{\\partial}{\\partial{\\theta_{j}}}J(\\theta) &= \\frac{\\partial}{\\partial{\\theta_{j}}}\\frac{1}{2}(h_{\\theta}(x)-y)^2\\\\\n",
    "&= 2.\\frac{1}{2}(h_{\\theta}(x)-y)\\frac{\\partial}{\\partial{\\theta_{j}}}(h_{\\theta}(x)-y)\\\\\n",
    "&= (h_{\\theta}(x)-y)\\frac{\\partial}{\\partial{\\theta_{j}}}(\\sum_{i=0}^{n}\\theta_i x_i-y)\\\\\n",
    "&= (h_{\\theta}(x)-y)x_j\n",
    "\\end{align}\n",
    "\n",
    "Using the rule for a single training example, we derive the gradient descent algorithm for linear regression:\n",
    "\n",
    "\\begin{align}\n",
    "repeat \\{\\\\\n",
    "&\\theta_j = \\theta_j - \\alpha \\frac{1}{m}\\sum_{i=1}^m(h_{\\theta}(x^{(i)})-y^{(i)}).x^{(i)}_j\\\\\n",
    "\\}\n",
    "\\end{align}\n",
    "\n",
    "Simultaneously update all values of $j = 0, . . . , n.$"
   ]
  },
  {
   "cell_type": "markdown",
   "metadata": {},
   "source": [
    "#### Regularization\n",
    "One problem that frequently occures in linear regression is overfitting. The standard solution for previnting overfitting is regularization. Since we know that the empirical risk will underestimate the true risk, add a penalty to complex functions $h$ to try to compensate for this. Then, instead of doing\n",
    "$$\n",
    "min_h R_D(h) = E\\big[L(h({x}_n),y_n)\\big]\n",
    "$$\n",
    "\n",
    "we can do\n",
    "$$\n",
    "min_h R_D(h) + \\lambda h(\\theta)\n",
    "$$\n",
    "Notice that we can rephrase this unconstrained linear optimization as an constrained optimization. For any given $\\lambda$ there is a $c$ such that the same solution can be obtained from\n",
    "$$\n",
    "min_f R_D(h) \\\\\n",
    "s.t.\\;\\;\\;h(\\theta) \\le c\n",
    "$$\n",
    "\n",
    "**The Lasso estimator** is useful to impose sparsity on the coefficients. In other words, it is to be prefered if we believe that many of the features are not relevant.\n",
    "\n",
    "$$\\hat{\\theta}_{lasso} = \\text{argmin}_{\\theta}\\left\\{\\frac{1}{2}\\sum_{i=1}^N (y_i - \\sum_{j=0}^k x_{ij} \\theta_j)^2 + \\lambda \\sum_{j=1}^k |\\theta_j| \\right\\}$$\n",
    "\n",
    "The **ridge estimator** is a simple, computationally efficient regularization for linear regression.\n",
    "\n",
    "$$\\hat{\\theta}_{ridge} = \\text{argmin}_{\\theta}\\left\\{\\sum_{i=1}^N (y_i - \\sum_{j=0}^k x_{ij} \\theta_j)^2 + \\lambda \\sum_{j=1}^k \\theta_j^2 \\right\\}$$\n",
    "\n",
    "**ElasticNet** is a compromise between lasso and ridge regression.\n",
    "\n",
    "$$\\hat{\\theta}_{elastic} = \\text{argmin}_{\\theta}\\left\\{\\frac{1}{2}\\sum_{i=1}^N (y_i - \\sum_{j=0}^k x_{ij} \\theta_j)^2 + (1 - \\alpha) \\sum_{j=1}^k \\theta^2_j + \\alpha \\sum_{j=1}^k |\\theta_j| \\right\\}$$\n"
   ]
  },
  {
   "cell_type": "markdown",
   "metadata": {},
   "source": [
    "### Normal equation\n",
    "Method of solve for $\\theta$ analytically. Intuition: Given a training set ${(x^{(i)} , y^{(i)} ); i =\n",
    "1, . . . , m}$, We know the cost function for linear regression is\n",
    "    \n",
    "$$J(\\theta) = \\frac{1}{2}\\sum_{i=1}^m(h_{\\theta}(x^{(i)})-y^{(i)})^2 = \\frac{1}{2}(X\\theta-\\hat{y})^T(X\\theta-\\hat{y})$$\n",
    "\n",
    "\\begin{align*}\n",
    "\\nabla_{\\theta}J(\\theta) &= \\nabla_{\\theta} \\frac{1}{2}(X\\theta-\\hat{y})^T(X\\theta-\\hat{y})\\\\\n",
    "&= \\frac{1}{2} \\nabla_{\\theta} (\\theta^T X^T X\\theta - \\theta^TX^T\\hat{y} - \\hat{y}^TX\\theta + \\hat{y}^T\\hat{y}) \\\\&= \\frac{1}{2} \\nabla_{\\theta} \\;{tr}(\\theta^T X^T X\\theta - \\theta^TX^T\\hat{y} - \\hat{y}X\\theta + \\hat{y}^T\\hat{y}) \\\\\n",
    "&= \\frac{1}{2} \\nabla_{\\theta} ({tr}(\\theta^T X^T X\\theta) - 2{tr}(\\hat{y}^T X\\theta)) \\\\\n",
    "&= \\frac{1}{2} \\nabla_{\\theta} (X^TX\\theta + X^TX\\theta - 2 X^T\\hat{y}) \\\\\n",
    "&= (X^TX\\theta - X^T\\hat{y}) \\\\\n",
    "0 &= (X^TX\\theta - X^T\\hat{y}) \\\\\n",
    "X^TX\\theta &= X^T\\hat{y}\\\\\n",
    "\\therefore \\theta &= (X^TX)^{-1}X^T\\hat{y}\n",
    "\\end{align*}\n",
    "\n",
    "The value of $\\theta$ that minimize $J(\\theta)$ is given by the closed form equation above."
   ]
  },
  {
   "cell_type": "markdown",
   "metadata": {},
   "source": [
    "## Numerical Example"
   ]
  },
  {
   "cell_type": "code",
   "execution_count": 1,
   "metadata": {},
   "outputs": [
    {
     "data": {
      "image/png": "[encoded data removed]",
      "text/plain": [
       "<matplotlib.figure.Figure at 0x7f9333491fd0>"
      ]
     },
     "metadata": {},
     "output_type": "display_data"
    }
   ],
   "source": [
    "%matplotlib inline\n",
    "import numpy as np\n",
    "import matplotlib.pyplot as plt\n",
    "from numpy import newaxis, r_, c_, mat\n",
    "from numpy.linalg import *\n",
    "\n",
    "data = np.loadtxt('./Data/ex1data2.txt', delimiter=',')\n",
    "X = mat(data[:, :2])\n",
    "y = c_[data[:, 2]]\n",
    "m = X.shape[0]\n",
    "\n",
    "plt.scatter(X[:,0],X[:,1])\n",
    "plt.show()"
   ]
  },
  {
   "cell_type": "markdown",
   "metadata": {},
   "source": [
    "### Feature Normalization\n",
    "Standardization of a dataset is a common requirement for many machine learning estimators: they might behave badly if the individual feature do not more or less look like standard normally distributed data (e.g. Gaussian with 0 mean and unit variance).\n",
    "#### Z-score normalization\n",
    "The result of **standardization** (or **Z-score normalization**) is that the features will be rescaled so that they'll have the properties of a standard normal distribution with $\\mu = 0$ and $\\sigma = 1$, where $\\mu$ is the mean (average) and $\\sigma$ is the standard deviation from the mean; standard scores (also called ***z*** scores) of the samples are calculated as follows:\n",
    "\n",
    "\\begin{equation} z = \\frac{x - \\mu}{\\sigma}\\end{equation} \n",
    "\n",
    "#### Min-Max scaling\n",
    "Standardizing the features so that they are centered around 0 with a standard deviation of 1 is not only important if we are comparing measurements that have different units, but it is also a general requirement for many machine learning algorithms. An alternative approach to Z-score normalization (or standardization) is the so-called **Min-Max scaling** (often also simply called \"normalization\" - a common cause for ambiguities). In this approach, the data is scaled to a fixed range - usually 0 to 1. The cost of having this bounded range - in contrast to standardization - is that we will end up with smaller standard deviations, which can suppress the effect of outliers.\n",
    "\n",
    "A Min-Max scaling is typically done via the following equation:\n",
    "\n",
    "\\begin{equation} X_{norm} = \\frac{X - X_{min}}{X_{max}-X_{min}} \\end{equation}"
   ]
  },
  {
   "cell_type": "code",
   "execution_count": 3,
   "metadata": {
    "scrolled": false
   },
   "outputs": [],
   "source": [
    "def featureNormalize(X):\n",
    "    X_norm = X.A\n",
    " \n",
    "    mu = X_norm.mean(axis=0)\n",
    "    X_norm -= mu # broadcasting\n",
    " \n",
    "    sigma = X_norm.std(axis=0)\n",
    "    X_norm /= sigma\n",
    " \n",
    "    return mat(X_norm), mu, sigma"
   ]
  },
  {
   "cell_type": "markdown",
   "metadata": {},
   "source": [
    "\\begin{align*}\n",
    "h_{\\theta} = y_{predicted} = {w}^T{x}\n",
    "\\end{align*}\n",
    "\\begin{align*}\n",
    "J(\\theta) = \\frac{1}{2m} \\sum_{i=1}^m (y_i - y_{predicted})^2\n",
    "\\end{align*}\n",
    "Here, $\\theta=w$"
   ]
  },
  {
   "cell_type": "code",
   "execution_count": 22,
   "metadata": {
    "collapsed": true
   },
   "outputs": [],
   "source": [
    "def computeCost(X, y, theta):\n",
    "    m = X.shape[0]\n",
    " \n",
    "    predictions = X*theta\n",
    "    sqrErrors = (predictions - y).A ** 2\n",
    "    return 1./(2*m) * sqrErrors.sum()"
   ]
  },
  {
   "cell_type": "markdown",
   "metadata": {},
   "source": [
    "$$\\theta_j = \\theta_j - \\alpha \\frac{1}{m}\\sum_{i=1}^{m}(h_{\\theta}(x^{(i)}) - y^{(i)}).x^{(i)}_j$$"
   ]
  },
  {
   "cell_type": "code",
   "execution_count": 23,
   "metadata": {},
   "outputs": [],
   "source": [
    "def gradientDescent(X, y, theta, alpha, num_iters):\n",
    "    m = X.shape[0]\n",
    " \n",
    "    J_history = np.zeros(num_iters)\n",
    "    for i in range(num_iters):\n",
    "        theta = theta - alpha/m * X.T * (X*theta - y)\n",
    "        J_history[i] = computeCost(X, y, theta)\n",
    "    return theta, J_history\n"
   ]
  },
  {
   "cell_type": "markdown",
   "metadata": {},
   "source": [
    "#### Regularized ridge linear regression\n",
    "\\begin{align*}\n",
    "\\text{min}_{\\theta}\\;\\; J(\\theta) &= \\frac{1}{2m} \\sum_{i=1}^{m}\\big[(h_{\\theta}(x^{(i)}) - y^{(i)})^2 + \\lambda\\sum_{j=1}^n\\theta_j^2\\big]\\\\\n",
    "\\theta_j &= \\theta_j(1-\\alpha\\frac{\\lambda}{m})-\\alpha\\frac{1}{2m} \\sum_{i=1}^{m}[(h_{\\theta}(x^{(i)}) - y^{(i)}).x_j^{(i)}\n",
    "\\end{align*}"
   ]
  },
  {
   "cell_type": "code",
   "execution_count": 19,
   "metadata": {
    "collapsed": true
   },
   "outputs": [],
   "source": [
    "def ridgeGradientDescent(X, y, theta, alpha, num_iters):\n",
    "    m = X.shape[0]\n",
    " \n",
    "    J_history = np.zeros(num_iters)\n",
    "    for i in range(num_iters):\n",
    "        theta = theta - alpha/m * X.T * (X*theta - y)\n",
    "        J_history[i] = computeCostMulti(X, y, theta)\n",
    "    return theta, J_history"
   ]
  },
  {
   "cell_type": "markdown",
   "metadata": {},
   "source": [
    "$$\\theta_{MLE} = \\left({X}^T{X}\\right)^{-1}{X}^T{y}$$"
   ]
  },
  {
   "cell_type": "code",
   "execution_count": 20,
   "metadata": {
    "collapsed": true
   },
   "outputs": [],
   "source": [
    "#Closed form solution of linear regression\n",
    "def normalEqn(X, y):\n",
    "    theta = pinv(X.T * X) * X.T * y\n",
    "    return theta"
   ]
  },
  {
   "cell_type": "code",
   "execution_count": 46,
   "metadata": {},
   "outputs": [
    {
     "name": "stdout",
     "output_type": "stream",
     "text": [
      "Normalizing Features ...\n"
     ]
    },
    {
     "data": {
      "image/png": "[encoded data removed]",
      "text/plain": [
       "<matplotlib.figure.Figure at 0x7f33fcbb6080>"
      ]
     },
     "metadata": {},
     "output_type": "display_data"
    },
    {
     "name": "stdout",
     "output_type": "stream",
     "text": [
      "Theta (last) computed from gradient descent:\n",
      "[[ 340412.65957447]\n",
      " [ 109447.79646964]\n",
      " [  -6578.35485416]]\n",
      "\n",
      "Predicted price of a 1650 sq-ft, 3 br house (using gradient descent):\n",
      " $293081.464335\n",
      "Theta computed from the normal equations:\n",
      "[[ 89597.90954435]\n",
      " [   139.21067402]\n",
      " [ -8738.01911278]]\n",
      "\n",
      "Predicted price of a 1650 sq-ft, 3 br house (using normal equations):\n",
      " $293081.464335\n"
     ]
    }
   ],
   "source": [
    "#Main Function\n",
    "if __name__ == '__main__':\n",
    "    data = np.loadtxt('./Data/ex1data2.txt', delimiter=',')\n",
    "    X = mat(data[:, :2])\n",
    "    y = c_[data[:, 2]]\n",
    "    m = X.shape[0]\n",
    " \n",
    "    #plt.plot(X[0],X[1])\n",
    "    # =================== Part 1: Feature Normalization\n",
    "    \n",
    " \n",
    "    print('Normalizing Features ...')\n",
    "    X, mu, sigma = featureNormalize(X)\n",
    " \n",
    "    # =================== Part 2: Gradient descent\n",
    " \n",
    "    X = c_[np.ones(m), X]\n",
    " \n",
    "    iterations = 100\n",
    " \n",
    "    for alpha in [0.01, 0.03, 0.1, 0.3, 1.]: # divergence at 3.0\n",
    "        theta = c_[np.zeros(3)]\n",
    "        theta, J_history = gradientDescent(X, y, theta, alpha, iterations)\n",
    " \n",
    "        # Plot the convergence graph\n",
    "        plt.plot(r_[:iterations], J_history, linewidth=1)\n",
    " \n",
    "    plt.xlabel('Number of iterations')\n",
    "    plt.ylabel('Cost J')\n",
    "    plt.show()\n",
    " \n",
    "    print('Theta (last) computed from gradient descent:')\n",
    "    print(theta)\n",
    "    print('')\n",
    " \n",
    "    house = [1650, 3]\n",
    "    house = (house - mu) / sigma\n",
    "    price = r_[1, house].dot(theta)\n",
    " \n",
    "    print('Predicted price of a 1650 sq-ft, 3 br house ' \\\n",
    "          '(using gradient descent):\\n $%f' % price)\n",
    " \n",
    "    #raw_input('Press any key to continue\\n')\n",
    " \n",
    "    # =================== Part 3: Normal equations\n",
    " \n",
    "    data = np.loadtxt('./Data/ex1data2.txt', delimiter=',')\n",
    "    X = mat(data[:, :2])\n",
    "    y = c_[data[:, 2]]\n",
    "    m = X.shape[0]\n",
    " \n",
    "    X = c_[np.ones(m), X]\n",
    " \n",
    "    theta = normalEqn(X, y)\n",
    " \n",
    "    print('Theta computed from the normal equations:')\n",
    "    print(theta)\n",
    "    print('')\n",
    " \n",
    "    house = [1650, 3];\n",
    "    price = r_[1, house].dot(theta);\n",
    " \n",
    "    print('Predicted price of a 1650 sq-ft, 3 br house ' \\\n",
    "          '(using normal equations):\\n $%f' % price)"
   ]
  },
  {
   "cell_type": "code",
   "execution_count": 48,
   "metadata": {},
   "outputs": [
    {
     "data": {
      "image/png": "[encoded data removed]",
      "text/plain": [
       "<matplotlib.figure.Figure at 0x7f33fcad0f60>"
      ]
     },
     "metadata": {},
     "output_type": "display_data"
    }
   ],
   "source": [
    "from mpl_toolkits.mplot3d import Axes3D\n",
    "\n",
    "def fun(x, y):\n",
    "  return x**2 + y\n",
    "\n",
    "fig = plt.figure()\n",
    "ax = fig.add_subplot(111, projection='3d')\n",
    "x = y = np.arange(-3.0, 3.0, 0.05)\n",
    "X, Y = np.meshgrid(x, y)\n",
    "zs = np.array([fun(x,y) for x,y in zip(np.ravel(X), np.ravel(Y))])\n",
    "Z = zs.reshape(X.shape)\n",
    "\n",
    "ax.plot_surface(X, Y, Z)\n",
    "\n",
    "ax.set_xlabel('X Label')\n",
    "ax.set_ylabel('Y Label')\n",
    "ax.set_zlabel('Z Label')\n",
    "\n",
    "plt.show()"
   ]
  },
  {
   "cell_type": "markdown",
   "metadata": {
    "collapsed": true
   },
   "source": [
    "### Probabilistic Interpretation\n",
    "\n",
    "The proper probabilistic way of deriving the solution to the weights is by maximizing the conditional likelihood or probability of seeing the data. By doing , we are creating a ${\\it discriminative}$ model because we optimizing the conditional probability. Later on with Bayesian linear regression, we will create a ${\\it generative}$ model by maximizing the complete likelihood (joint probability). \n",
    "\\begin{align*}\n",
    "\\text{arg max}_{{w}} p(\\mathcal{D}|{w}) = \\text{arg max}_{{w}} \\prod_n p(y_n|x_n,{w})\n",
    "\\end{align*}\n",
    "To clean up the notion, we will leave out the weights in the probability and assume it is implied\n",
    "\\begin{align*}\n",
    "\\text{arg max}_{{w}} p(\\mathcal{D}) = \\text{arg max}_{{w}} \\prod_n p(y_n|x_n)\n",
    "\\end{align*}\n",
    "We assume a noisy observation model such that\n",
    "\\begin{align*}\n",
    "y = {w}^T{x} + \\eta\n",
    "\\end{align*}\n",
    "where the noise, $\\eta \\sim N(0,\\sigma^2)$ is zero mean gaussian noise. Thus for one training sample\n",
    "\\begin{align*}\n",
    "p(y_n|x_n) &= N(y_n - {w}^T{x}, \\sigma^2)\\\\\n",
    "&= \\frac{1}{\\sigma\\sqrt{2\\pi}}e^{-\\frac{(y_n - {w}^T{x})^2}{2\\sigma^2}}\n",
    "\\end{align*}\n",
    "Now we can maximize the conditional likelihood. A common trick is to equivalently maximize log-likelihood. This turns products into sums which makes things easier.\n",
    "\\begin{align*}\n",
    "\\log p(\\mathcal{D}) &=  \\log \\prod_n p(y_n|x_n)\\\\\n",
    "&=  \\sum_n \\log p(y_n|x_n)\\\\\n",
    "&=  \\sum_n -\\frac{(y_n - {w}^T{x})^2}{2\\sigma^2} - \\log\\sigma\\sqrt{2\\pi}\\\\\n",
    "\\end{align*}\n",
    "Now, to find the optimal weights, we take the derivative set to zero\n",
    "\\begin{align*}\n",
    "\\frac{\\partial}{\\partial {w}} \\log p(\\mathcal{D}) &\\propto \\frac{\\partial}{\\partial {w}} \\sum_n (y_n - {w}^T{x})^2 = 0\n",
    "\\end{align*}\n",
    "This means that $\\text{arg max}_{{w}} \\log p(\\mathcal{D}) = \\text{arg min}_{{w}} R_{\\mathcal{D}}(f)$!\n",
    "\\begin{align*}\n",
    "{w} &= \\text{arg min}_{{w}} R_{\\mathcal{D}}(f)\\\\\n",
    "&= \\text{arg min}_{{w}} \\frac{1}{N} \\sum_n (y_n - {w}^T{x}_n)^T(y_n - {w}^T{x}_n)\\\\\n",
    "&= \\text{arg min}_{{w}} \\frac{1}{N} \\sum_n {w}^T{x}_n{x}_n^T{w} - 2y_n{x}_n^T{w} + y_n^2\\\\\n",
    "&= \\text{arg min}_{{w}} \\frac{1}{N} \\left[ {w}^T \\left(\\sum_n {x}_n{x}_n^T\\right){w} - 2\\left(\\sum_n y_n{x}_n^T\\right){w} \\right]+\\text{constant}\\\\\n",
    "&= \\text{arg min}_{{w}} \\frac{1}{N} \\left[ {w}^T {X}^T{X}{w} - 2\\left({X}^T{y}\\right){w} \\right]+\\text{constant}\\\\\n",
    "0 &= \\frac{\\partial}{\\partial {w}} \\frac{1}{N} \\left[ {w}^T {X}^T{X}{w} - 2\\left({X}^T{y}\\right){w} \\right]\\\\\n",
    "{w}^{MLE} &= \\left({X}^T{X}\\right)^{-1}{X}^T{y} \n",
    "\\end{align*}\n",
    "The solution derived above is also known as the maximum likelihood estimation (MLE) solution or the least-mean-squares (LMS) solution.\n",
    "\n",
    "Note that all of the different dimensions of the weights are independent. Also, the solution is independent of the noise, $\\eta$.\n",
    "\n",
    "Also note that we could use numerical optimization tools. What if $D$ is large? That matrix inversion may be intractable. Thankfully, the (empirical risk) objective function is convex\n",
    "\\begin{align*}\n",
    "\\frac{\\partial R_{\\mathcal{D}}(f)}{\\partial {w}} &\\propto {X}^T{X}{w} - 2{X}^T{y}\\\\\n",
    "\\frac{\\partial^2 R_{\\mathcal{D}}(f)}{\\partial {w}{w}^T} &= {H}\\\\\n",
    "&\\propto {X}^T{X}\n",
    "\\end{align*}\n",
    "This is positive semidefinite, thus proving convexity.\n",
    "\n",
    "Linear regression can be extended to nonlinear regression using a basis function, ${\\phi}({x})$, which transforms the data into a nonlinear basis. For example, given a dataset where $D=2$, we can use a nonlinear basis function to transform the data into a quadratic space\n",
    "\\begin{align*}\n",
    "{\\phi}({x}) \\to \\left[ \\begin{array}{c} x_1\\\\x_2\\\\x_1^2\\\\x_1\\cdot x_2\\\\ x_2^2 \\end{array}\\right]\n",
    "\\end{align*}\n",
    "This allows us to fit a quadratic to our data using linear regression rather than simply a line. In this way, we are increasing the dimensionality of our data. However, this will be prone to overfitting. See section bias-variance about the trade-off between model complexity and overfitting.\n",
    "\n",
    "\n",
    "\n",
    "### Bayesian Linear Regression\n",
    "This is the full blown Bayesian treatment of linear regression. Bayesian methods can be applied all over the place. Conjugate priors make life a bit easier though its not necessary. However, for linear regression, all distributions are Gaussian which makes things nice and easy. \n",
    "\n",
    "First we define the likelihood as a normal distribution with some precision/variance due to noise\n",
    "\\begin{align*}\n",
    "p(y|{x}) &= N({w}^T{x}, \\beta^{-1})\n",
    "\\end{align*}\n",
    "$\\beta$ is known as precision and is the inverse of the variance of the noise (remember $\\eta \\sim N(0,\\sigma^2)$). We also define a prior that tries urge a simpler model.\n",
    "\\begin{align*}\n",
    "p({w}) = N({0},\\alpha^{-1}{I})\n",
    "\\end{align*}\n",
    "Our prior suggests that ${w}$ is around zero resulting in a simple model. $\\alpha$ is the precision that tells us how confident we think we are about where ${w}$ is centered. Given this prior (the weights centered at zero), $\\alpha$ defines how simple out model ought to be.\n",
    "\n",
    "Now to derive the maximum a posterior solution\n",
    "\\begin{align*}\n",
    "p({w}|\\mathcal{D}) &\\propto p({w})  p(y|{x}, {w})\\\\\n",
    "&\\propto N({w}|{0}, \\alpha^{-1}) \\times \\prod_n N(y_n|{w}^T{x}_n, \\beta^{-1})\\\\\n",
    "&\\propto \\exp{- \\frac{\\alpha}{2}{w}^T{w} - \\frac{\\beta}{2}\\sum_n(y_n - {w}^T{x}_n)^2} \\\\\n",
    "&\\propto \\exp{ - \\frac{1}{2}({w} - {\\mu})^T{\\Sigma}^{-1}({w} - {\\mu})}\\\\\n",
    "&\\propto N({w}|{\\mu}, {\\Sigma})\n",
    "\\end{align*}\n",
    "The last step involves completing the square.\n",
    "\\begin{align*}\n",
    "{\\Sigma} &= \\left(\\alpha {I} + \\beta {X}^T{X}\\right)^{-1}\\\\\n",
    "{\\mu} &= \\beta {\\Sigma} {X}^T {y}\n",
    "\\end{align*}\n",
    "Note that we derived what the MAP solution is proportional to. That is because the evidence is just a constant. If we were to maximize the log posterior probability, we would be left with ${w} = {\\mu}$. This is the same solution as we saw before for ridge regression only this time we also have our confidence in that solution. \n",
    "\n",
    "Next, we derive the predictive distribution for a new data point\n",
    "\\begin{align*}\n",
    "p(y|{x}, \\mathcal{D}) &= \\int \\text{likelihood} \\times \\text{posterior } d{w}\\\\\n",
    "&= \\int p(y|{x}, {w}) p({w}|\\mathcal{D})d{w}\\\\\n",
    "&\\propto \\int \\exp{-\\frac{\\beta}{2}(y - {w}^T{x})^2 - \\frac{1}{2}({w} - {\\mu})^T{\\Sigma}^{-1}({w} - {\\mu})}d{w}\\\\\n",
    " &\\propto N(y|{\\mu}^T{x}, \\beta^{-1} + {x}^T{\\Sigma}{x}) \\\\\n",
    " &\\propto N(y|{\\mu}^T{x},\\sigma^2({x})\n",
    " \\end{align*}\n",
    "What we are left with is same prediction as before, ${\\mu}^T{x}$, but now we also have a confidence for each data point, $\\sigma^2({x})$! This allows you to plot your regression curve along with error bounds indicating confidence in any region of the curve.\n",
    "\n",
    "So how do we choose $\\alpha$ and $\\beta$? There is no analytical solution. There are some iterative procedures involving eigendecomposition, but in practice, they are tuned as hyperparameters of the model using cross-validation.\n",
    "\n",
    "A huge benefit of Bayesian linear regression is that we can update the model with new data without recalculating computing all of the training data. When we first train the model on the training data and get a posterior, we can use that as the prior to compute a new posterior with new data!\n",
    "\n",
    "Another benefit is that we treat every prediction as an independent gaussian process and thus we can compute the confidence in each prediction given by $\\sigma^2({x})$."
   ]
  },
  {
   "cell_type": "code",
   "execution_count": null,
   "metadata": {
    "collapsed": true
   },
   "outputs": [],
   "source": []
  }
 ],
 "metadata": {
  "kernelspec": {
   "display_name": "Python [default]",
   "language": "python",
   "name": "python3"
  },
  "language_info": {
   "codemirror_mode": {
    "name": "ipython",
    "version": 3
   },
   "file_extension": ".py",
   "mimetype": "text/x-python",
   "name": "python",
   "nbconvert_exporter": "python",
   "pygments_lexer": "ipython3",
   "version": "3.5.3"
  }
 },
 "nbformat": 4,
 "nbformat_minor": 1
}
