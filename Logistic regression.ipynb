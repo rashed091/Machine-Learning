{
 "cells": [
  {
   "cell_type": "markdown",
   "metadata": {},
   "source": [
    "<h1>Logistic regression</h1>"
   ]
  },
  {
   "cell_type": "markdown",
   "metadata": {},
   "source": [
    "Let’s now talk about the classification problem. This is just like the regression\n",
    "problem, except that the values $y$ we now want to predict take on only\n",
    "a small number of discrete values. For now, we will focus on the binary\n",
    "classification problem in which y can take on only two values, $0$ and $1$.\n",
    "(Most of what we say here will also generalize to the multiple-class case.)\n",
    "For instance, if we are trying to build a spam classifier for email, then $x^{(i)}$ may be some features of a piece of email, and y may be $1$ if it is a piece\n",
    "of spam mail, and 0 otherwise. $0$ is also called the negative class, and $1$ the positive class, and they are sometimes also denoted by the symbols “$-$” and “$+$.” Given $x^{(i)}$, the corresponding $y^{(i)}$ is also called the label for the training example.\n",
    "\n",
    "\n",
    "We could approach the classification problem ignoring the fact that $y$ is\n",
    "discrete-valued, and use our old linear regression algorithm to try to predict\n",
    "$y$ given $x$. However, it is easy to construct examples where this method\n",
    "performs very poorly. Intuitively, it also doesn’t make sense for $h_{\\theta}(x)$ to take\n",
    "values larger than $1$ or smaller than $0$ when we know that $y\\in{0, 1}$.\n",
    "To fix this, let’s change the form for our hypotheses $h_{\\theta}(x)$. We will choose\n",
    "\n",
    "$$h_{\\theta} = g(\\theta^Tx) = \\frac{1}{1+\\exp{(-\\theta^Tx)}}$$\n",
    "\n",
    "where\n",
    "\n",
    "$$g(z) = \\frac{1}{1+\\exp{(-z)}}$$\n",
    "\n",
    "and $z = \\theta^Tx$. $g$ is called the logistic function or the sigmoid function. Here is a plot\n",
    "showing $g(z)$:\n"
   ]
  },
  {
   "cell_type": "code",
   "execution_count": 1,
   "metadata": {},
   "outputs": [
    {
     "data": {
      "image/png": "[encoded data removed]",
      "text/plain": [
       "<matplotlib.figure.Figure at 0x7f54f333b668>"
      ]
     },
     "metadata": {},
     "output_type": "display_data"
    }
   ],
   "source": [
    "%matplotlib inline\n",
    "import numpy as np\n",
    "import pandas as pd\n",
    "import matplotlib.pyplot as plt\n",
    "from numpy import newaxis, r_, c_, mat\n",
    "from numpy.linalg import *\n",
    "from scipy import optimize\n",
    "\n",
    "logistic = lambda h, beta: 1./(1 + np.exp(-beta * h))\n",
    "\n",
    "W = 2\n",
    "x = np.linspace(-3,3)\n",
    "\n",
    "plt.plot(x, logistic(x, W))\n",
    "plt.show()"
   ]
  },
  {
   "cell_type": "markdown",
   "metadata": {},
   "source": [
    "Notice that $g(z)$ tends towards $1$ as $z\\rightarrow \\infty$, and $g(z)$ tends towards $0$ as\n",
    "$z\\rightarrow -\\infty$. Moreover, $g(z)$, and hence also $h(x)$, is always bounded between\n",
    "$0$ and $1$. As before, we are keeping the convention of letting $x_0 = 1$, so that we can write $\\theta_0 + \\sum_{i=1}^{m}\\theta_ix_i = \\theta^Tx$.  Before moving on, here’s a useful property of the derivative of the sigmoid function, which we write as $g'$:\n",
    "\n",
    "\\begin{align*}\n",
    "g'(z) &= \\frac{d}{dz}\\frac{1}{1+\\exp{(-z)}}\\\\\n",
    "&= \\frac{1}{(1+\\exp{(-z))^2}}\\exp(-z)\\\\\n",
    "&= \\frac{1}{1+\\exp(-z)} . \\big(1-\\frac{1}{1+\\exp(-z)}\\big)\\\\\n",
    "&= g(z).(1-g(z))\n",
    "\\end{align*}\n",
    "\n",
    "So, given the logistic regression model, how do we fit $\\theta$ for it?  Following\n",
    "how we saw least squares regression could be derived as the maximum likelihood\n",
    "estimator under a set of assumptions, let’s endow our classification\n",
    "model with a set of probabilistic assumptions, and then fit the parameters\n",
    "via maximum likelihood. Let us assume\n",
    "\n",
    "\\begin{align*}\n",
    "P(y=1|x;\\theta) &= h_{\\theta}(x)\\\\\n",
    "P(y=0|x;\\theta) &= 1 - h_{\\theta}(x)\n",
    "\\end{align*}\n",
    "\n",
    "Note that this can be written more compactly as\n",
    "\n",
    "$$P(y|x;\\theta) = (h_{\\theta}(x))^y \\;(1 - h_{\\theta}(x))^{1-y}$$\n",
    "\n",
    "Assuming that the m training examples were generated independently, we\n",
    "can then write down the likelihood of the parameters as\n",
    "\n",
    "\\begin{align*}\n",
    "L(\\theta) &= p(\\hat{y}|X;\\theta)\\\\\n",
    "&= \\prod_{i=1}^m p(y^{(i)}|x^{(i)};\\theta)\\\\\n",
    "&= \\prod_{i=1}^m (h_{\\theta}(x^{(i)}))^{y^{(i)}} \\;(1 - h_{\\theta}(x^{(i)}))^{1-y^{(i)}}\n",
    "\\end{align*}\n",
    "\n",
    "As before, it will be easier to maximize the log likelihood:\n",
    "\\begin{align*}\n",
    "\\ell(\\theta) &= log\\;L(\\theta)\\\\\n",
    "&= \\sum_{i=1}^m {y^{(i)}}log\\;(h_{\\theta}(x^{(i)})) + (1-y^{(i)})\\;log\\;(1 - h_{\\theta}(x^{(i)}))\n",
    "\\end{align*}"
   ]
  },
  {
   "cell_type": "markdown",
   "metadata": {},
   "source": [
    "How do we maximize the likelihood? Similar to our derivation in the case\n",
    "of linear regression, we can use gradient ascent. Written in vectorial notation,\n",
    "our updates will therefore be given by $\\theta = \\theta + \\alpha\\nabla_{\\theta}\\ell(\\theta)$. (Note the positive\n",
    "rather than negative sign in the update formula, since we’re maximizing,\n",
    "rather than minimizing, a function now.) Let’s start by working with just\n",
    "one training example $(x, y)$, and take derivatives to derive the stochastic\n",
    "gradient ascent rule:\n",
    "\n",
    "\\begin{align*}\n",
    "\\frac{\\partial}{\\partial\\theta_j}\\ell(\\theta) &= \\frac{\\partial}{\\partial\\theta} \\big[{y}\\;log\\;(h_{\\theta}(x)) + (1-y)\\;log\\;(1 - h_{\\theta}(x))\\big]\\\\\n",
    "&= \\big[ {y}\\frac{1}{g(\\theta^Tx)} - (1-y)\\frac{1}{(1 - g(\\theta^Tx))} \\big]\\;\\frac{\\partial}{\\partial\\theta} g(\\theta^Tx)\\\\\n",
    "&= \\big[ {y}\\frac{1}{g(\\theta^Tx)} - (1-y)\\frac{1}{(1 - g(\\theta^Tx))} \\big]\\; (g(\\theta^Tx).(1-g(\\theta^Tx)))\\frac{\\partial}{\\partial\\theta}\\theta^T x \\\\\n",
    "&= \\big[ {y}(1 - g(\\theta^Tx)) - (1-y)g(\\theta^Tx) \\big]\\;x_j\\\\\n",
    "&= \\big[y - yg(\\theta^Tx) - g(\\theta^Tx) + yg(\\theta^Tx) \\big]\\;x_j\\\\\n",
    "&= \\big[y - h_{\\theta}(x)\\big]\\;x_j\n",
    "\\end{align*}\n",
    "\n",
    "Using the above equation, we derive the gradient descent algorithm for logistic regression:\n",
    "\n",
    "\\begin{align}\n",
    "repeat \\{\\\\\n",
    "&\\theta_j = \\theta_j - \\alpha \\frac{1}{m}\\sum_{i=1}^m(y^{(i)} - h_{\\theta}(x^{(i)})).x^{(i)}_j\\\\\n",
    "\\}\n",
    "\\end{align}\n",
    "\n",
    "#### Regularized logistic regression\n",
    "\n",
    "\\begin{align*}\n",
    "min_{\\theta}\\;J(\\theta)= \\big[-\\frac{1}{m} \\sum_{i=1}^m {y^{(i)}}log\\;(h_{\\theta}(x^{(i)})) + (1-y^{(i)})\\;log\\;(1 - h_{\\theta}(x^{(i)}))\\big] + \\frac{\\lambda}{2m}\\sum_{j=1}^m \\theta_j^2\n",
    "\\end{align*}\n",
    "\n",
    "\\begin{align}\n",
    "repeat \\{\\\\\n",
    "&\\theta_0 = \\theta_0 - \\alpha \\frac{1}{m}\\sum_{i=1}^m(y^{(i)} - h_{\\theta}(x^{(i)})).x^{(i)}_0\\\\\n",
    "&\\theta_j = \\theta_j - \\alpha\\big[\\frac{1}{m}\\sum_{i=1}^m(y^{(i)} - h_{\\theta}(x^{(i)})).x^{(i)}_j-\\frac{\\lambda}{m}\\theta_j\\big]\\\\\n",
    "\\}\n",
    "\\end{align}"
   ]
  },
  {
   "cell_type": "markdown",
   "metadata": {},
   "source": [
    "### Numerical example"
   ]
  },
  {
   "cell_type": "code",
   "execution_count": 2,
   "metadata": {},
   "outputs": [],
   "source": [
    "def plotData(X, y):\n",
    "    #pos = (y.ravel() == 1).nonzero()\n",
    "    #neg = (y.ravel() == 0).nonzero()\n",
    "    pos = (y == 1).nonzero()[:1]\n",
    "    neg = (y == 0).nonzero()[:1]\n",
    " \n",
    "    plt.plot(X[pos, 0].T, X[pos, 1].T, 'k+', markeredgewidth=2, markersize=7)\n",
    "    plt.plot(X[neg, 0].T, X[neg, 1].T, 'ko', markerfacecolor='r', markersize=7)\n",
    "    \n",
    "def sigmoid(z):\n",
    "    g = 1./(1 + np.exp(-z.A))\n",
    "    return g\n",
    "\n",
    "def costFunction(X, y, theta):\n",
    "    m = X.shape[0]\n",
    "    predictions = sigmoid(X * c_[theta])\n",
    "    J = 1./m * (-y.T.dot(np.log(predictions)) - (1-y).T.dot(np.log(1-predictions)))\n",
    "    return J[0][0]\n",
    "                         \n",
    "def predict(theta, X):\n",
    "    p = sigmoid(X * c_[theta]) >= 0.5\n",
    "    return p\n",
    "\n",
    "def plotDecisionBoundary(theta, X, y):\n",
    "    plotData(X[:, 1:3], y)\n",
    " \n",
    "    if X.shape[1] <= 3:\n",
    "        plot_x = r_[X[:,2].min()-2,  X[:,2].max()+2]\n",
    "        plot_y = (-1./theta[2]) * (theta[1]*plot_x + theta[0])\n",
    " \n",
    "        plt.plot(plot_x, plot_y)\n",
    "        plt.legend(['Admitted', 'Not admitted', 'Decision Boundary'])\n",
    "        plt.axis([30, 100, 30, 100])\n",
    "    else:\n",
    "        pass"
   ]
  },
  {
   "cell_type": "code",
   "execution_count": 5,
   "metadata": {},
   "outputs": [
    {
     "name": "stdout",
     "output_type": "stream",
     "text": [
      "Plotting data with + indicating (y = 1) examples and o indicating (y = 0) examples.\n"
     ]
    },
    {
     "data": {
      "image/png": "[encoded data removed]",
      "text/plain": [
       "<matplotlib.figure.Figure at 0x7f54ddd05f60>"
      ]
     },
     "metadata": {},
     "output_type": "display_data"
    },
    {
     "name": "stdout",
     "output_type": "stream",
     "text": [
      "Cost at initial theta (zeros): 0.693147\n",
      "Gradient at initial theta (zeros):\n",
      "None\n",
      "Optimization terminated successfully.\n",
      "         Current function value: 0.203498\n",
      "         Iterations: 157\n",
      "         Function evaluations: 287\n",
      "Cost at theta found by fminunc: 0.203498\n",
      "theta: [-25.16130062   0.20623142   0.20147143]\n"
     ]
    },
    {
     "data": {
      "image/png": "[encoded data removed]",
      "text/plain": [
       "<matplotlib.figure.Figure at 0x7f54ddd9dd68>"
      ]
     },
     "metadata": {},
     "output_type": "display_data"
    },
    {
     "name": "stdout",
     "output_type": "stream",
     "text": [
      "For a student with scores 45 and 85, we predict an admission probability of 0.776292\n",
      "Train Accuracy: 89.0\n"
     ]
    }
   ],
   "source": [
    "if __name__ == '__main__':\n",
    "    data = np.loadtxt('./Data/ex2data1.txt', delimiter=',')\n",
    "    X = mat(c_[data[:, :2]])\n",
    "    y = c_[data[:, 2]]\n",
    "\n",
    "    # ============= Part 1: Plotting\n",
    " \n",
    "    print ('Plotting data with + indicating (y = 1) examples and o ' \\\n",
    "          'indicating (y = 0) examples.')\n",
    " \n",
    "    plotData(X, y)\n",
    "    plt.ylabel('Exam 1 score')\n",
    "    plt.xlabel('Exam 2 score')\n",
    "    plt.legend(['Admitted', 'Not admitted'])\n",
    "    plt.show()\n",
    "  \n",
    "    # ============= Part 2: Compute cost and gradient\n",
    " \n",
    "    m, n = X.shape\n",
    " \n",
    "    X = c_[np.ones(m), X]\n",
    " \n",
    "    initial_theta = np.zeros(n+1)\n",
    " \n",
    "    cost, grad = costFunction(X, y, initial_theta), None\n",
    " \n",
    "    print ('Cost at initial theta (zeros): %f' % cost)\n",
    "    print ('Gradient at initial theta (zeros):\\n%s' % grad)\n",
    "    \n",
    "    # ============= Part 3: Optimizing using fminunc\n",
    " \n",
    "    options = {'full_output': True, 'maxiter': 400}\n",
    " \n",
    "    theta, cost, _, _, _ = optimize.fmin(lambda t: costFunction(X, y, t), initial_theta, **options)\n",
    " \n",
    "    print ('Cost at theta found by fminunc: %f' % cost)\n",
    "    print ('theta: %s' % theta)\n",
    " \n",
    "    plotDecisionBoundary(theta, X, y)\n",
    "    plt.show()\n",
    "  \n",
    "    # ============== Part 4: Predict and Accuracies\n",
    " \n",
    "    prob = sigmoid(mat('1 45 85') * c_[theta])\n",
    "    print ('For a student with scores 45 and 85, we predict an admission ' \\\n",
    "          'probability of %f' % prob)\n",
    " \n",
    "    p = predict(theta, X)\n",
    "    print ('Train Accuracy:', (p == y).mean() * 100)"
   ]
  },
  {
   "cell_type": "code",
   "execution_count": 60,
   "metadata": {},
   "outputs": [
    {
     "name": "stdout",
     "output_type": "stream",
     "text": [
      "Plotting data with + indicating (y = 1) examples and o indicating (y = 0) examples.\n"
     ]
    },
    {
     "data": {
      "image/png": "[encoded data removed]",
      "text/plain": [
       "<matplotlib.figure.Figure at 0x7f1740626e48>"
      ]
     },
     "metadata": {},
     "output_type": "display_data"
    },
    {
     "name": "stdout",
     "output_type": "stream",
     "text": [
      "Warning: Maximum number of iterations has been exceeded.\n",
      "Cost at theta found by fminunc: 0.689878\n",
      "theta: [ 0.00256058 -0.00320054  0.01367016 -0.04289583  0.00798865 -0.00327727\n",
      " -0.00314674 -0.00825688  0.00078225  0.0008783  -0.01427133  0.01869355\n",
      "  0.03176705 -0.01853322 -0.01054655 -0.01071902  0.00533727  0.00027355\n",
      "  0.00329653  0.00390918 -0.00300442 -0.00235317 -0.00501327  0.01094703\n",
      "  0.01149867  0.00368632  0.00834568 -0.00574196]\n"
     ]
    }
   ],
   "source": [
    "def mapFeature(X1, X2):\n",
    "    X1 = mat(X1)\n",
    "    X2 = mat(X2)\n",
    " \n",
    "    degree = 6\n",
    "    out = [np.ones(X1.shape[0])]\n",
    "    for i in range(1, degree+1):\n",
    "        for j in range(0, i+1):\n",
    "            #out = c_[out, X1.A**(i-j) * X2.A**j] # too slow, what's numpy way?\n",
    "            out.append(np.power(X1.A, (i-j)) * (np.power(X2.A,j)))\n",
    "    out = np.asarray(out[1:])\n",
    "    return mat(out).T\n",
    "\n",
    "def costReg(X, y, theta):\n",
    "    m = X.shape[0]\n",
    "    predictions = sigmoid(X * c_[theta])\n",
    "    J = (1./m * (-y.T.dot(np.log(predictions)) - (1-y).T.dot(np.log(1-predictions)))) + 1./(2*m) * theta.dot(theta.T) \n",
    "    return J[0][0]\n",
    "\n",
    "if __name__ == '__main__':\n",
    "    data = np.loadtxt('./Data/ex2data2.txt', delimiter=',')\n",
    "    X = mat(c_[data[:, :2]])\n",
    "    y = c_[data[:, 2]]\n",
    " \n",
    "    # ============= Part 1: Plotting\n",
    " \n",
    "    print ('Plotting data with + indicating (y = 1) examples and o ' \\\n",
    "          'indicating (y = 0) examples.')\n",
    " \n",
    "    plotData(X, y)\n",
    "    plt.ylabel('Exam 1 score')\n",
    "    plt.xlabel('Exam 2 score')\n",
    "    plt.legend(['Admitted', 'Not admitted'])\n",
    "    plt.show()\n",
    "    \n",
    "     # ============= Part 2: Compute cost and gradient\n",
    "    x1 = X[:,0]\n",
    "    x2 = X[:,1]\n",
    "    X = mapFeature(x1, x2)\n",
    "    \n",
    "    #print(np.shape(x1))\n",
    "    \n",
    "    m, n = X.shape\n",
    " \n",
    "    X = c_[np.ones(m), X]\n",
    "    \n",
    "    initial_theta = np.zeros(n+1)\n",
    " \n",
    "    options = {'full_output': True, 'maxiter': 400}\n",
    " \n",
    "    theta, cost, _, _, _ = optimize.fmin(lambda t: costReg(X, y, t), initial_theta, **options)\n",
    " \n",
    "    print ('Cost at theta found by fminunc: %f' % cost)\n",
    "    print ('theta: %s' % theta)"
   ]
  },
  {
   "cell_type": "code",
   "execution_count": 51,
   "metadata": {},
   "outputs": [
    {
     "name": "stdout",
     "output_type": "stream",
     "text": [
      "[[1]\n",
      " [4]]\n"
     ]
    }
   ],
   "source": [
    "X1 = mat([1,2,3])\n",
    "X2 = mat([4,5,6])\n",
    "\n",
    "out = [np.ones(X1.shape[0])]\n",
    "out.append(X1)\n",
    "out.append(X2)\n",
    "y = (np.asarray(out[1:]))\n",
    "z = mat(y)\n",
    "print(z[:,0])"
   ]
  },
  {
   "cell_type": "code",
   "execution_count": null,
   "metadata": {
    "collapsed": true
   },
   "outputs": [],
   "source": []
  }
 ],
 "metadata": {
  "kernelspec": {
   "display_name": "Python [default]",
   "language": "python",
   "name": "python3"
  },
  "language_info": {
   "codemirror_mode": {
    "name": "ipython",
    "version": 3
   },
   "file_extension": ".py",
   "mimetype": "text/x-python",
   "name": "python",
   "nbconvert_exporter": "python",
   "pygments_lexer": "ipython3",
   "version": "3.5.3"
  }
 },
 "nbformat": 4,
 "nbformat_minor": 1
}
