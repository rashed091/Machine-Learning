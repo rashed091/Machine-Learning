{
 "cells": [
  {
   "cell_type": "markdown",
   "metadata": {},
   "source": [
    "$$ \\LaTeX \\text{ command declarations here.}\n",
    "\\newcommand{\\N}{\\mathcal{N}}\n",
    "\\newcommand{\\R}{\\mathbb{R}}\n",
    "\\renewcommand{\\vec}[1]{\\mathbf{#1}}\n",
    "\\newcommand{\\norm}[1]{\\|#1\\|_2}\n",
    "\\newcommand{\\d}{\\mathop{}\\!\\mathrm{d}}\n",
    "\\newcommand{\\qed}{\\qquad \\mathbf{Q.E.D.}}\n",
    "\\newcommand{\\vx}{\\mathbf{x}}\n",
    "\\newcommand{\\vy}{\\mathbf{y}}\n",
    "\\newcommand{\\vt}{\\mathbf{t}}\n",
    "\\newcommand{\\vb}{\\mathbf{b}}\n",
    "\\newcommand{\\vw}{\\mathbf{w}}\n",
    "$$"
   ]
  },
  {
   "cell_type": "code",
   "execution_count": 1,
   "metadata": {
    "collapsed": false,
    "slideshow": {
     "slide_type": "skip"
    }
   },
   "outputs": [],
   "source": [
    "%matplotlib inline\n",
    "from __future__ import division;\n",
    "import numpy as np;\n",
    "from matplotlib import pyplot as plt;\n",
    "from matplotlib import colors\n",
    "import matplotlib as mpl;\n",
    "from mpl_toolkits.mplot3d import Axes3D\n",
    "from matplotlib import mlab;\n",
    "from matplotlib import gridspec;\n",
    "import pandas as pd\n",
    "from IPython.display import display\n",
    "\n",
    "if \"bmh\" in plt.style.available: plt.style.use(\"bmh\");\n",
    "\n",
    "import scipy as scp;\n",
    "\n",
    "from scipy import linalg\n",
    "\n",
    "import scipy.stats;\n",
    "\n",
    "# scikit-learn\n",
    "from sklearn.discriminant_analysis import LinearDiscriminantAnalysis\n",
    "from sklearn.discriminant_analysis import QuadraticDiscriminantAnalysis\n",
    "\n",
    "# python\n",
    "import random;\n",
    "\n",
    "# warnings\n",
    "import warnings\n",
    "warnings.filterwarnings(\"ignore\")\n",
    "\n",
    "# rise config\n",
    "from notebook.services.config import ConfigManager\n",
    "cm = ConfigManager()\n",
    "cm.update('livereveal', {\n",
    "              'theme': 'simple',\n",
    "              'start_slideshow_at': 'selected',\n",
    "              'transition':'fade',\n",
    "              'scroll': False\n",
    "\n",
    "});"
   ]
  },
  {
   "cell_type": "markdown",
   "metadata": {
    "slideshow": {
     "slide_type": "slide"
    }
   },
   "source": [
    "## Outline\n",
    "\n",
    "- Concept of Classification   \n",
    "- Logistic Regression\n",
    "    - Intuition, Motivation\n",
    "    - Newton's Method\n",
    "- Softmax regression\n",
    "    \n",
    "## Reading List\n",
    "\n",
    "- Required:\n",
    "    - **[MLAPP]**, Chapter 8: Logistic Regression    "
   ]
  },
  {
   "cell_type": "markdown",
   "metadata": {
    "slideshow": {
     "slide_type": "skip"
    }
   },
   "source": [
    "> In this lecture, we will move from regression to classification. Unlike of predicting some value for data in regression, we predict what category data belongs to in classification. And we will introduce two classifiers in this lecture: perceptron and logistic regression. In logistic regression, we will show how to find the optimal coefficients $\\vw$ using Newton's method."
   ]
  },
  {
   "cell_type": "markdown",
   "metadata": {
    "slideshow": {
     "slide_type": "slide"
    }
   },
   "source": [
    "## Review: Supervised Learning\n",
    "\n",
    "- Goal\n",
    "    - Given data $X$ in feature space and the labels $Y$\n",
    "    - Learn to predict $Y$ from $X$\n",
    "- Labels could be discrete or continuous\n",
    "    - Discrete-valued labels:  Classification\n",
    "    - Continuous-valued labels:  Regression\n",
    "    \n",
    "<center>\n",
    "<div class=\"image\"   style=\"width:550px\">\n",
    "    <img src=\"images/classification-regression.png\">\n",
    "</div>\n",
    "</center>"
   ]
  },
  {
   "cell_type": "markdown",
   "metadata": {
    "slideshow": {
     "slide_type": "slide"
    }
   },
   "source": [
    "## Classification Problem"
   ]
  },
  {
   "cell_type": "markdown",
   "metadata": {
    "slideshow": {
     "slide_type": "slide"
    }
   },
   "source": [
    "### Classification Problem: Basics\n",
    "\n",
    "- Given an input vector $\\vx$, assign it to one of $K$ distinct classes $C_k$, where $k = 1,\\dots,K$.\n",
    "\n",
    "- The case $K=2$ is **Binary Classification**\n",
    "    - Label $t=1$ means $x \\in C_1$\n",
    "    - Label $t=0$ means $x \\in C_2$ (or sometimes $t=-1$)\n",
    "    \n",
    "- **Training:**  Learn a classifier $y(\\vx)$ from data,\n",
    "    $$ \\text{Training Data} \\quad \\{ (\\vx_1, t_1), \\dots, (\\vx_N, t_N) \\} \\implies \\text{Classifier} \\ y(\\vx) $$\n",
    "    \n",
    "- **Prediction:** Predict labels of new data,\n",
    "    $$ \\text{New Data} \\quad \\{ (\\vx^{new}_1, t^{new}_1), \\dots, (\\vx^{new}_m, t^{new}_m) \\} \\stackrel{h}{\\implies} \\{ y(\\vx^{new}_1), \\dots, y(x^{new}_m) \\} $$\n",
    "\n",
    "- **Performance Evaluation:** Evaluate learned classifier on test data,\n",
    "    $$ \\text{Test Data} \\quad \\{ (\\vx^{test}_1, t^{test}_1), \\dots, (\\vx^{test}_m, t^{test}_m) \\} \\stackrel{y}{\\implies} \\{ y(\\vx^{test}_1), \\dots, y(\\vx^{test}_m) \\} \\implies \\text{Error Estimate} $$\n",
    "    - To estimate **classification error**, we could use e.g. *zero-one loss*:\n",
    "        $$\n",
    "        E = \\frac{1}{m} \\sum_{j=1}^m \\mathbb{1} [ y(\\vx^{test}_j) \\neq t^{test}_j) ]\n",
    "        $$\n",
    "        i.e. number of misclassified data."
   ]
  },
  {
   "cell_type": "markdown",
   "metadata": {
    "slideshow": {
     "slide_type": "slide"
    }
   },
   "source": [
    "### Classification Problems:  Strategies\n",
    "\n",
    "- **Nearest-Neighbors:**  Given query data $\\vx$, find closest training points and do a majority vote.\n",
    "\n",
    "- **Discriminant Functions:**  Learn a function $y(\\vx)$ mapping $\\vx$ to some class $C_k$.\n",
    "\n",
    "- **Probabilistic Model:**  Learn the distributions $P(C_k | \\vx)$\n",
    "    - *Discriminative Models* directly model $P(C_k | \\vx)$ and learn parameters from the training set.\n",
    "    - *Generative Models* learn class-conditional densities $P(\\vx | C_k)$ and priors $P(C_k)$"
   ]
  },
  {
   "cell_type": "markdown",
   "metadata": {
    "slideshow": {
     "slide_type": "slide"
    }
   },
   "source": [
    "## Logistic Regression\n",
    "> - Logistic Regression is a technique for **classification**!\n",
    "\n",
    "> - We will focus on *binary* classification"
   ]
  },
  {
   "cell_type": "markdown",
   "metadata": {
    "slideshow": {
     "slide_type": "slide"
    }
   },
   "source": [
    "### Logistic Regression: Preliminary—Logistic Sigmoid Function\n",
    "\n",
    "Let’s now talk about the classification problem. This is just like the regression\n",
    "problem, except that the values $y$ we now want to predict take on only\n",
    "a small number of discrete values. For now, we will focus on the binary\n",
    "classification problem in which y can take on only two values, $0$ and $1$.\n",
    "(Most of what we say here will also generalize to the multiple-class case.)\n",
    "For instance, if we are trying to build a spam classifier for email, then $x^{(i)}$ may be some features of a piece of email, and y may be $1$ if it is a piece\n",
    "of spam mail, and 0 otherwise. $0$ is also called the negative class, and $1$ the positive class, and they are sometimes also denoted by the symbols “$-$” and “$+$.” Given $x^{(i)}$, the corresponding $y^{(i)}$ is also called the label for the training example.\n",
    "\n",
    "\n",
    "We could approach the classification problem ignoring the fact that $y$ is\n",
    "discrete-valued, and use our old linear regression algorithm to try to predict\n",
    "$y$ given $x$. However, it is easy to construct examples where this method\n",
    "performs very poorly. Intuitively, it also doesn’t make sense for $h_{\\theta}(x)$ to take\n",
    "values larger than $1$ or smaller than $0$ when we know that $y\\in{0, 1}$.\n",
    "To fix this, let’s change the form for our hypotheses $h_{\\theta}(x)$. We will choose\n",
    "\n",
    "$$h_{\\theta} = g(\\theta^Tx) = \\frac{1}{1+\\exp{(-\\theta^Tx)}}$$\n",
    "\n",
    "where\n",
    "\n",
    "$$g(z) = \\frac{1}{1+\\exp{(-z)}}$$\n",
    "\n",
    "and $z = \\theta^Tx$. $g$ is called the logistic function or the sigmoid function. Here is a plot\n",
    "showing $g(z)$:\n"
   ]
  },
  {
   "cell_type": "code",
   "execution_count": 20,
   "metadata": {
    "collapsed": false
   },
   "outputs": [
    {
     "data": {
      "image/png": "[encoded data removed]",
      "text/plain": [
       "<matplotlib.figure.Figure at 0x7ff0d45ab208>"
      ]
     },
     "metadata": {},
     "output_type": "display_data"
    }
   ],
   "source": [
    "def logistic(theta, x):\n",
    "    return 1. / (1 + np.exp(-theta * x))\n",
    "\n",
    "# Define derivative of the logistic function\n",
    "def logistic_derivative(theta, x):\n",
    "    return logistic(theta, x) * (1 - logistic(theta, x))\n",
    "\n",
    "\n",
    "theta = 2\n",
    "x = np.linspace(-5, 5, 100)\n",
    "\n",
    "plt.plot(x, logistic(theta, x))\n",
    "plt.show()"
   ]
  },
  {
   "cell_type": "markdown",
   "metadata": {},
   "source": [
    "Notice that $g(z)$ tends towards $1$ as $z\\rightarrow \\infty$, and $g(z)$ tends towards $0$ as\n",
    "$z\\rightarrow -\\infty$. Moreover, $g(z)$, and hence also $h(x)$, is always bounded between\n",
    "$0$ and $1$. As before, we are keeping the convention of letting $x_0 = 1$, so that we can write $\\theta_0 + \\sum_{i=1}^{m}\\theta_ix_i = \\theta^Tx$.  Before moving on, here’s a useful property of the derivative of the sigmoid function, which we write as $g'$:\n",
    "\n",
    "\\begin{align*}\n",
    "g'(z) &= \\frac{d}{dz}\\frac{1}{1+\\exp{(-z)}}\\\\\n",
    "&= \\frac{1}{(1+\\exp{(-z))^2}}\\exp(-z)\\\\\n",
    "&= \\frac{1}{1+\\exp(-z)} . \\big(1-\\frac{1}{1+\\exp(-z)}\\big)\\\\\n",
    "&= g(z).(1-g(z))\n",
    "\\end{align*}"
   ]
  },
  {
   "cell_type": "code",
   "execution_count": 21,
   "metadata": {
    "collapsed": false
   },
   "outputs": [
    {
     "data": {
      "image/png": "[encoded data removed]",
      "text/plain": [
       "<matplotlib.figure.Figure at 0x7ff0d433d0b8>"
      ]
     },
     "metadata": {},
     "output_type": "display_data"
    }
   ],
   "source": [
    "# Plot the derivative of the logistic function\n",
    "plt.plot(x, logistic_derivative(theta, x), 'r-')\n",
    "plt.xlabel('$z$', fontsize=15)\n",
    "plt.ylabel('$\\\\frac{\\\\partial \\\\sigma(z)}{\\\\partial z}$', fontsize=15)\n",
    "plt.title('derivative of the logistic function')\n",
    "plt.show()"
   ]
  },
  {
   "cell_type": "markdown",
   "metadata": {},
   "source": [
    "So, given the logistic regression model, how do we fit $\\theta$ for it?  Following\n",
    "how we saw least squares regression could be derived as the maximum likelihood\n",
    "estimator under a set of assumptions, let’s endow our classification\n",
    "model with a set of probabilistic assumptions, and then fit the parameters\n",
    "via maximum likelihood. Let us assume\n",
    "\n",
    "\\begin{align*}\n",
    "P(y=1|x;\\theta) &= h_{\\theta}(x)\\\\\n",
    "P(y=0|x;\\theta) &= 1 - h_{\\theta}(x)\n",
    "\\end{align*}\n",
    "\n",
    "Note that this can be written more compactly as\n",
    "\n",
    "$$P(y|x;\\theta) = (h_{\\theta}(x))^y \\;(1 - h_{\\theta}(x))^{1-y}$$\n",
    "\n",
    "Assuming that the m training examples were generated independently, we\n",
    "can then write down the likelihood of the parameters as\n",
    "\n",
    "\\begin{align*}\n",
    "L(\\theta) &= p(\\hat{y}|X;\\theta)\\\\\n",
    "&= \\prod_{i=1}^m p(y^{(i)}|x^{(i)};\\theta)\\\\\n",
    "&= \\prod_{i=1}^m (h_{\\theta}(x^{(i)}))^{y^{(i)}} \\;(1 - h_{\\theta}(x^{(i)}))^{1-y^{(i)}}\n",
    "\\end{align*}\n",
    "\n",
    "As before, it will be easier to maximize the log likelihood:\n",
    "\\begin{align*}\n",
    "\\ell(\\theta) &= log\\;L(\\theta)\\\\\n",
    "&= \\sum_{i=1}^m {y^{(i)}}log\\;(h_{\\theta}(x^{(i)})) + (1-y^{(i)})\\;log\\;(1 - h_{\\theta}(x^{(i)}))\n",
    "\\end{align*}"
   ]
  },
  {
   "cell_type": "markdown",
   "metadata": {},
   "source": [
    "How do we maximize the likelihood? Similar to our derivation in the case\n",
    "of linear regression, we can use gradient ascent. Written in vectorial notation,\n",
    "our updates will therefore be given by $\\theta = \\theta + \\alpha\\nabla_{\\theta}\\ell(\\theta)$. (Note the positive\n",
    "rather than negative sign in the update formula, since we’re maximizing,\n",
    "rather than minimizing, a function now.) Let’s start by working with just\n",
    "one training example $(x, y)$, and take derivatives to derive the stochastic\n",
    "gradient ascent rule:\n",
    "\n",
    "\\begin{align*}\n",
    "\\frac{\\partial}{\\partial\\theta_j}\\ell(\\theta) &= \\frac{\\partial}{\\partial\\theta} \\big[{y}\\;log\\;(h_{\\theta}(x)) + (1-y)\\;log\\;(1 - h_{\\theta}(x))\\big]\\\\\n",
    "&= \\big[ {y}\\frac{1}{g(\\theta^Tx)} - (1-y)\\frac{1}{(1 - g(\\theta^Tx))} \\big]\\;\\frac{\\partial}{\\partial\\theta} g(\\theta^Tx)\\\\\n",
    "&= \\big[ {y}\\frac{1}{g(\\theta^Tx)} - (1-y)\\frac{1}{(1 - g(\\theta^Tx))} \\big]\\; (g(\\theta^Tx).(1-g(\\theta^Tx)))\\frac{\\partial}{\\partial\\theta}\\theta^T x \\\\\n",
    "&= \\big[ {y}(1 - g(\\theta^Tx)) - (1-y)g(\\theta^Tx) \\big]\\;x_j\\\\\n",
    "&= \\big[y - yg(\\theta^Tx) - g(\\theta^Tx) + yg(\\theta^Tx) \\big]\\;x_j\\\\\n",
    "&= \\big[y - h_{\\theta}(x)\\big]\\;x_j\n",
    "\\end{align*}\n",
    "\n",
    "Using the above equation, we derive the gradient descent algorithm for logistic regression:\n",
    "\n",
    "\\begin{align}\n",
    "repeat \\{\\\\\n",
    "&\\theta_j = \\theta_j - \\alpha \\frac{1}{m}\\sum_{i=1}^m(y^{(i)} - h_{\\theta}(x^{(i)})).x^{(i)}_j\\\\\n",
    "\\}\n",
    "\\end{align}\n",
    "\n",
    "#### Regularized logistic regression\n",
    "\n",
    "\\begin{align*}\n",
    "min_{\\theta}\\;J(\\theta)= \\big[-\\frac{1}{m} \\sum_{i=1}^m {y^{(i)}}log\\;(h_{\\theta}(x^{(i)})) + (1-y^{(i)})\\;log\\;(1 - h_{\\theta}(x^{(i)}))\\big] + \\frac{\\lambda}{2m}\\sum_{j=1}^m \\theta_j^2\n",
    "\\end{align*}\n",
    "\n",
    "\\begin{align}\n",
    "repeat \\{\\\\\n",
    "&\\theta_0 = \\theta_0 - \\alpha \\frac{1}{m}\\sum_{i=1}^m(y^{(i)} - h_{\\theta}(x^{(i)})).x^{(i)}_0\\\\\n",
    "&\\theta_j = \\theta_j - \\alpha\\big[\\frac{1}{m}\\sum_{i=1}^m(y^{(i)} - h_{\\theta}(x^{(i)})).x^{(i)}_j-\\frac{\\lambda}{m}\\theta_j\\big]\\\\\n",
    "\\}\n",
    "\\end{align}"
   ]
  },
  {
   "cell_type": "markdown",
   "metadata": {
    "slideshow": {
     "slide_type": "slide"
    }
   },
   "source": [
    "### Logistic Regression:  Why use Logistic Sigmoid Function?\n",
    "- Prediction is picking the larger one of $P(y=1 | \\vx)$ and $P(y=0 | \\vx)$.\n",
    "\n",
    "- This can be implemented by evaluating **log odds**\n",
    "    $$\n",
    "    a = \\ln \\frac{P(y=1 | \\vx)}{P(y=0  | \\vx)}\n",
    "    $$\n",
    "    \n",
    "- So the prediction is\n",
    "    $$\n",
    "    y = \n",
    "    \\left\\{\\begin{matrix}\n",
    "    1& a\\geq 0\\\\\n",
    "    0& a< 0\n",
    "    \\end{matrix}\\right.\n",
    "    $$    \n",
    "    \n",
    "- Since $P(y=1 | \\vx) + P(y=0  | \\vx)=1$, we could solve for\n",
    "    $$\n",
    "    P(y=1 | \\vx) = \\frac{\\exp(a)}{1+\\exp(a)} = \\sigma(a)\n",
    "    $$ \n",
    "    *Logistic Function* appears!   \n",
    "\n",
    "- A heuristic choice for log odds is a separating **hyper plane** $a = \\vw^T \\phi(\\vx)$. So the criterion becomes\n",
    "    $$\n",
    "    \\boxed{\n",
    "    y = \n",
    "    \\left\\{\\begin{matrix}\n",
    "    1& \\vw^T \\phi(\\vx)\\geq 0, \\quad \\text{i.e.} \\quad \\sigma(\\vw^T\\phi(\\vx)\\geq 0) \\geq 0.5\\\\\n",
    "    0& \\vw^T \\phi(\\vx)< 0 , \\quad \\text{i.e.} \\quad \\sigma(\\vw^T\\phi(\\vx)\\geq 0) < 0.5\n",
    "    \\end{matrix}\\right.}\n",
    "    $$\n",
    "    \n",
    "- In this case, $P(y=1 | \\vx) = \\sigma(\\vw^T \\phi(\\vx))$ and $P(y=0 | \\vx) = 1-\\sigma(\\vw^T \\phi(\\vx))$."
   ]
  },
  {
   "cell_type": "markdown",
   "metadata": {
    "slideshow": {
     "slide_type": "slide"
    }
   },
   "source": [
    "### Logistic Regression: Underlying Model\n",
    "\n",
    "- We already have\n",
    "    $$\n",
    "    \\begin{align}\n",
    "    P(y=1 | \\vx, \\vw) &= \\sigma(\\vw^T \\phi(\\vx)) \\\\\n",
    "    P(y=0 | \\vx, \\vw) &= 1-\\sigma(\\vw^T \\phi(\\vx))\n",
    "    \\end{align}\n",
    "    $$\n",
    "\n",
    "- So we could model **class posterior** using Bernoulli random variable\n",
    "    $$\n",
    "    y | \\vx ,\\vw \\sim \\mathrm{Bernoulli}( \\sigma(\\vw^T \\phi(\\vx)) )\n",
    "    $$\n",
    "\n",
    "- We can obtain the best parameter $\\vw$ by maximizing the likelihood of the training data.(Later)\n",
    "\n",
    "- Logistic regression is simplest discriminative model that is **linear**\n",
    "in the parameters."
   ]
  },
  {
   "cell_type": "markdown",
   "metadata": {
    "slideshow": {
     "slide_type": "slide"
    }
   },
   "source": [
    "### Logistic Regression: Example\n",
    "\n",
    "In this example the target classes $t$ will be generated from 2 class distributions: blue ($t=1$) and red ($t=0$). Samples from both classes are sampled from their respective distributions. These samples are plotted in the figure below.\n",
    "Note that $X$ is a $N \\times 2$ matrix of individual input samples $\\mathbf{x}_i$, and that $\\mathbf{t}$ is a corresponding $N \\times 1$ vector of target values $t_i$."
   ]
  },
  {
   "cell_type": "code",
   "execution_count": 17,
   "metadata": {
    "collapsed": true,
    "slideshow": {
     "slide_type": "skip"
    }
   },
   "outputs": [],
   "source": [
    "np.random.seed(seed=1)\n",
    "\n",
    "# Define and generate the samples\n",
    "nb_of_samples_per_class = 20  # The number of sample in each class\n",
    "red_mean = [-1, 0]  # The mean of the red class\n",
    "blue_mean = [1, 0]  # The mean of the blue class\n",
    "std_dev = 1.2  # standard deviation of both classes\n",
    "# Generate samples from both classes\n",
    "x_red = np.random.randn(nb_of_samples_per_class, 2) * std_dev + red_mean\n",
    "x_blue = np.random.randn(nb_of_samples_per_class, 2) * std_dev + blue_mean\n",
    "\n",
    "# Merge samples in set of input variables x, and corresponding set of output variables t\n",
    "X = np.vstack((x_red, x_blue))\n",
    "t = np.vstack((np.zeros((nb_of_samples_per_class, 1)), np.ones(\n",
    "    (nb_of_samples_per_class, 1))))"
   ]
  },
  {
   "cell_type": "code",
   "execution_count": 18,
   "metadata": {
    "collapsed": false,
    "slideshow": {
     "slide_type": "-"
    }
   },
   "outputs": [
    {
     "data": {
      "image/png": "[encoded data removed]",
      "text/plain": [
       "<matplotlib.figure.Figure at 0x7ff0d454d550>"
      ]
     },
     "metadata": {},
     "output_type": "display_data"
    }
   ],
   "source": [
    "# Plot both classes on the x1, x2 plane\n",
    "plt.plot(x_red[:, 0], x_red[:, 1], 'ro', label='class red')\n",
    "plt.plot(x_blue[:, 0], x_blue[:, 1], 'bo', label='class blue')\n",
    "plt.grid()\n",
    "plt.legend(loc=2)\n",
    "plt.xlabel('$x_1$', fontsize=15)\n",
    "plt.ylabel('$x_2$', fontsize=15)\n",
    "plt.axis([-4, 4, -4, 4])\n",
    "plt.title('red vs. blue classes in the input space')\n",
    "plt.show()"
   ]
  },
  {
   "cell_type": "markdown",
   "metadata": {
    "slideshow": {
     "slide_type": "-"
    }
   },
   "source": [
    "- We could clearly see the linear boundary corresponding to $\\vw^T \\phi(\\vx)$"
   ]
  },
  {
   "cell_type": "markdown",
   "metadata": {
    "slideshow": {
     "slide_type": "slide"
    }
   },
   "source": [
    "### Logistic Regression:  Likelihood\n",
    "\n",
    "- We saw before that the **likelihood** for each binary label is:\n",
    "    $$\n",
    "    \\begin{align}\n",
    "    P(y = 1 | \\vx,\\vw) &= \\sigma(\\vw^T \\phi(\\vx)) \\\\\n",
    "    P(y = 0 | \\vx,\\vw) &= 1 - \\sigma(\\vw^T \\phi(\\vx))\n",
    "    \\end{align}\n",
    "    $$\n",
    "- With a clever trick, this\n",
    "    $$\n",
    "    P(y | x,w) = \\sigma(\\vw^T \\phi(\\vx))^y \\cdot (1 - \\sigma(\\vw^T \\phi(\\vx)))^{1-y}\n",
    "    $$\n",
    "\n",
    "- For a data set $\\{(\\vx_n, t_n) \\}_{n=1}^N$ where $t_n \\in \\{ 0,1 \\}$, the **likelihood function** is\n",
    "    $$\n",
    "    P(\\vy = \\vt| \\mathcal{X}, \\vw) = \\prod_{n=1}^N P(y=t_n | \\vx_n, \\vw) =\\prod_{n=1}^N \\sigma(\\vw^T \\phi(\\vx_n))^{t_n} [1 - \\sigma(\\vw^T \\phi(\\vx_n))] ^{1-t_n}\n",
    "    $$\n",
    "    - where $\\mathcal{X} = \\{\\vx_n \\}_{n=1}^N$\n",
    "\n",
    "- The optimal $\\vw$ can be obtained by maximizing this likelihood.\n",
    "\n",
    "- Maximum likelihood estimate $\\vw_{ML}$ makse sense because $\\vw_{ML}$ is the coefficient that are most likely to produce $\\{t_n \\}_{n=1}^N$ given $\\mathcal{X}$.\n",
    "\n",
    "- Define **negative log-likelihood** as the **loss**\n",
    "    $$\n",
    "    E(\\vw) \\triangleq -\\ln P(\\vy = \\vt| \\mathcal{X}, \\vw)\n",
    "    $$\n",
    "- Maximizing **likelihood** is equivalent to minimizing **loss** $E(\\vw)$"
   ]
  },
  {
   "cell_type": "markdown",
   "metadata": {
    "slideshow": {
     "slide_type": "slide"
    }
   },
   "source": [
    "### Logistic Regression:  Gradient of Loss\n",
    "\n",
    "- Loss function $E(\\vw)$ can be transformed:\n",
    "    $$\n",
    "    \\begin{align}\n",
    "    E(\\vw) \n",
    "    &= -\\ln P(\\vy = \\vt| \\mathcal{X}, \\vw) \\\\\n",
    "    &= -\\ln \\prod \\nolimits_{n=1}^N \\sigma(\\vw^T \\phi(\\vx_n))^{t_n} [1 - \\sigma(\\vw^T \\phi(\\vx_n))] ^{1-t_n} \\\\\n",
    "    &= -\\sum \\nolimits_{n=1}^N \\left[ t_n \\ln \\sigma(\\vw^T \\phi(\\vx_n)) + (1-t_n) \\ln(1-\\sigma(\\vw^T \\phi(\\vx_n))) \\right] \\\\\n",
    "    &= -\\sum \\nolimits_{n=1}^N \\left[ t_n \\ln \\frac{\\exp(\\vw^T\\phi(\\vx_n))}{1+\\exp(\\vw^T\\phi(\\vx_n))} + (1-t_n) \\ln(\\frac{1}{1+\\exp(\\vw^T\\phi(\\vx_n))}) \\right] \\\\\n",
    "    &= -\\sum \\nolimits_{n=1}^N \\left[ t_n \\ln \\frac{1}{1+\\exp(-\\vw^T\\phi(\\vx_n))} + (1-t_n) \\ln(\\frac{1}{1+\\exp(\\vw^T\\phi(\\vx_n))}) \\right] \\\\\n",
    "    &= \\boxed{\\sum \\nolimits_{n=1}^N \\left[ t_n \\ln (1+\\exp(-\\vw^T\\phi(\\vx_n))) + (1-t_n) \\ln(1+\\exp(\\vw^T\\phi(\\vx_n))) \\right] }\\\\\n",
    "    \\end{align}\n",
    "    $$"
   ]
  },
  {
   "cell_type": "markdown",
   "metadata": {
    "slideshow": {
     "slide_type": "slide"
    }
   },
   "source": [
    "- Gradient of loss $\\nabla_\\vw E(\\vw)$\n",
    "    $$\n",
    "    \\begin{align}\n",
    "    \\nabla_\\vw E(\\vw)\n",
    "    &= \\nabla_\\vw \\sum \\nolimits_{n=1}^N \\left[ t_n \\ln (1+\\exp(-\\vw^T\\phi(\\vx_n))) + (1-t_n) \\ln(1+\\exp(\\vw^T\\phi(\\vx_n))) \\right] \\\\\n",
    "    &= \\sum \\nolimits_{n=1}^N \\left[-t_n \\frac{\\exp(-\\vw^T\\phi(\\vx_n))}{1+\\exp(-\\vw^T\\phi(\\vx_n))} \\phi(\\vx_n)+ (1-t_n) \\frac{\\exp(\\vw^T\\phi(\\vx_n))}{1+\\exp(\\vw^T\\phi(\\vx_n))} \\phi(\\vx_n) \\right] \\\\\n",
    "    &= \\sum \\nolimits_{n=1}^N \\left[-t_n (1-\\sigma(\\vw^T\\phi(\\vx_n)))+ (1-t_n) \\sigma(\\vw^T\\phi(\\vx_n)) \\right] \\phi(\\vx_n) \\\\\n",
    "    &= \\sum \\nolimits_{n=1}^N \\left[\\sigma(\\vw^T\\phi(\\vx_n)) - t_n \\right] \\phi(\\vx_n) \\\\\n",
    "    &= \\boxed{ \\Phi^T \\left( \\sigma(\\Phi \\vw) - \\vt \\right) }\n",
    "    \\end{align}\n",
    "    $$\n",
    "    of which\n",
    "    $$\n",
    "    \\Phi = \\begin{bmatrix} - & \\phi(\\vx_1)^T & -\\\\  & \\vdots & \\\\  - & \\phi(\\vx_N)^T & - \\end{bmatrix}_{N \\times M}\n",
    "    \\qquad\n",
    "    \\sigma(\\Phi \\vw)=\\begin{bmatrix}\n",
    "    \\sigma(\\vw^T\\phi(\\vx_1))\\\\ \n",
    "    \\vdots\\\\\n",
    "    \\sigma(\\vw^T\\phi(\\vx_N))\n",
    "    \\end{bmatrix}_{N \\times 1}\n",
    "    \\qquad\n",
    "    \\vt = \\begin{bmatrix}\n",
    "    t_1\\\\ \n",
    "    \\vdots\\\\\n",
    "    t_N\n",
    "    \\end{bmatrix}_{N \\times 1}\n",
    "    $$   \n",
    "    \n",
    "- With the gradient of loss, we could perform *gradient descent* to find $\\vw_{ML}$.\n",
    "\n",
    "- But we will use a new method by finding roots of first order derivative!"
   ]
  },
  {
   "cell_type": "markdown",
   "metadata": {
    "slideshow": {
     "slide_type": "skip"
    }
   },
   "source": [
    "> Remark\n",
    "> - Note that this gradient resembles the gradient in linear regression with least squares (Check Lecture 4)\n",
    "    $$\n",
    "    \\begin{align}\n",
    "    \\text{Logistic Regression} \\quad & \\nabla_\\vw E(\\vw) = \\Phi^T \\left( \\sigma(\\Phi \\vw) - \\vt \\right) \\\\\n",
    "    \\text{Linear Regression} \\quad & \\nabla_\\vw E(\\vw) = \\Phi^T \\left( \\Phi \\vw - \\vt \\right)\n",
    "    \\end{align}\n",
    "    $$"
   ]
  },
  {
   "cell_type": "markdown",
   "metadata": {
    "slideshow": {
     "slide_type": "slide"
    }
   },
   "source": [
    "### Newton's Method: Finding Stationary Point\n",
    "\n",
    "- We have shown how to use Newton's method to find the root for $f(x)$\n",
    "    $$\n",
    "    x_{n+1}= x_n - \\frac{f(x_n)}{f'(x_n)}\n",
    "    $$\n",
    "\n",
    "- **Note** that Stationary point of $f(x)$ is equivalent to root of $f'(x)$\n",
    "\n",
    "- So, we could find stationary point of $f(x)$ by finding root of $f'(x)$ using Newton's method.\n",
    "\n",
    "- The iteration steps becomes\n",
    "    $$\n",
    "    x_{n+1}= x_n - \\frac{f'(x_n)}{f''(x_n)}\n",
    "    $$\n",
    "    \n",
    "- For *multi-dimension* case, this iteration turns into\n",
    "    $$\n",
    "    \\vx_{n+1}= \\vx_n - \\left(\\nabla^2 f(\\vx_n)\\right)^{-1} \\nabla_\\vx f(\\vx_n)\n",
    "    $$\n",
    "    of which $\\nabla^2 f(\\vx_n)$ is **Hessian matrix** which is the *second order derivative*\n",
    "    $$\n",
    "    \\nabla^2 f = \\begin{bmatrix}\n",
    "    \\frac{\\partial f}{\\partial x_1\\partial x_1} & \\cdots & \\frac{\\partial f}{\\partial x_1\\partial x_n}\\\\ \n",
    "    \\vdots & \\ddots & \\vdots\\\\ \n",
    "    \\frac{\\partial f}{\\partial x_n\\partial x_1} & \\cdots & \\frac{\\partial f}{\\partial x_n\\partial x_n}\n",
    "    \\end{bmatrix}\n",
    "    $$"
   ]
  },
  {
   "cell_type": "markdown",
   "metadata": {
    "slideshow": {
     "slide_type": "slide"
    }
   },
   "source": [
    "### Logistic Regression: Applying Newton's Method\n",
    "\n",
    "- Back to logistic regression!\n",
    "\n",
    "- Recall our goal to minimize $E(\\vw)$ and we already have its gradient\n",
    "    $$\n",
    "    \\nabla_\\vw E(\\vw) = \\sum \\nolimits_{n=1}^N \\left[\\sigma(\\vw^T\\phi(\\vx_n)) - t_n \\right] \\phi(\\vx_n) = \\Phi^T \\left( \\sigma(\\Phi \\vw) - \\vt \\right)\n",
    "    $$\n",
    "    \n",
    "- To minimize of $E(\\vw)$, we could use Newton's method to find its *stationary point*!\n",
    "\n",
    "- To use Newton's method, we need the *Hessian matrix*."
   ]
  },
  {
   "cell_type": "markdown",
   "metadata": {
    "slideshow": {
     "slide_type": "slide"
    }
   },
   "source": [
    "### Logistic Regression: Hessian Matrix\n",
    "$$\n",
    "\\begin{align}\n",
    "\\nabla_{\\vw}^2 E(\\vw) \n",
    "&= \\nabla_\\vw \\nabla_\\vw E(\\vw) \\\\\n",
    "&= \\nabla_\\vw \\sum \\nolimits_{n=1}^N \\left[\\sigma(\\vw^T\\phi(\\vx_n)) - t_n \\right] \\phi(\\vx_n) \\\\\n",
    "&= \\sum \\nolimits_{n=1}^N \\nabla_\\vw \\sigma(\\vw^T\\phi(\\vx_n))  \\phi(\\vx_n) \\\\\n",
    "&= \\sum \\nolimits_{n=1}^N \\nabla_\\vw  \\frac{1}{1 + \\exp(-\\vw^T \\phi(\\vx_n))}  \\phi(\\vx_n) \\\\\n",
    "&= \\sum \\nolimits_{n=1}^N \\phi(\\vx_n) \\frac{\\exp(-\\vw^T \\phi(\\vx_n))}{(1 + \\exp(-\\vw^T \\phi(\\vx_n)))^2}  \\phi(\\vx_n)^T \\\\\n",
    "&= \\sum \\nolimits_{n=1}^N \\phi(\\vx_n) \\frac{1}{1 + \\exp(-\\vw^T \\phi(\\vx_n))} \\frac{\\exp(-\\vw^T \\phi(\\vx_n))}{1 + \\exp(-\\vw^T \\phi(\\vx_n))}   \\phi(\\vx_n)^T \\\\\n",
    "&= \\sum \\nolimits_{n=1}^N \\phi(\\vx_n) [\\sigma(\\vw^T \\phi(\\vx_n)) \\cdot ( 1 - \\sigma(\\vw^T \\phi(\\vx_n)) )]  \\phi(\\vx_n)^T \\\\\n",
    "&= \\sum \\nolimits_{n=1}^N \\phi(\\vx_n) r_n(\\vw) \\phi(\\vx_n)^T\n",
    "\\end{align}\n",
    "$$\n",
    "    \n",
    "- of which $r_n(\\vw) = \\sigma(\\vw^T \\phi(\\vx_n)) \\cdot ( 1 - \\sigma(\\vw^T \\phi(\\vx_n)) )$"
   ]
  },
  {
   "cell_type": "markdown",
   "metadata": {
    "slideshow": {
     "slide_type": "slide"
    }
   },
   "source": [
    "$$\n",
    "\\begin{align}\n",
    "\\nabla_{\\vw}^2  E(\\vw) \n",
    "&= \\sum \\nolimits_{n=1}^N \\phi(\\vx_n) r_n(\\vw) \\phi(\\vx_n)^T \\\\\n",
    "&= \\begin{bmatrix}\n",
    "| &  & | \\\\ \n",
    "\\phi(\\vx_1) & \\cdots & \\phi(\\vx_N)\\\\ \n",
    "| &  & |\n",
    "\\end{bmatrix}\n",
    "\\begin{bmatrix}\n",
    "r_1(\\vw) &  & \\\\ \n",
    " & \\ddots & \\\\ \n",
    " &  & r_N(\\vw)\n",
    "\\end{bmatrix}\n",
    "\\begin{bmatrix}\n",
    "- & \\phi(\\vx_1)^T & -\\\\ \n",
    " & \\vdots & \\\\ \n",
    "- & \\phi(\\vx_N)^T & -\n",
    "\\end{bmatrix} \\\\\n",
    "&= \\boxed{\\Phi^T R(\\vw) \\Phi}\n",
    "\\end{align}\n",
    "$$\n",
    "\n",
    "- of which\n",
    "    $$\n",
    "    R(\\vw) = \\begin{bmatrix}\n",
    "    r_1(\\vw) &  &  & \\\\ \n",
    "     & r_2(\\vw) &  & \\\\ \n",
    "     &  & \\ddots & \\\\ \n",
    "     &  &  & r_N(\\vw)\n",
    "    \\end{bmatrix}\n",
    "    $$\n",
    "    "
   ]
  },
  {
   "cell_type": "markdown",
   "metadata": {
    "slideshow": {
     "slide_type": "slide"
    }
   },
   "source": [
    "### Logistic Regression: Applying Newton's Method\n",
    "\n",
    "- We already have\n",
    "    $$\n",
    "    \\begin{gather}\n",
    "    \\nabla_\\vw E(\\vw) = \\Phi^T \\left( \\sigma(\\Phi \\vw) - \\vt \\right) \\\\\n",
    "    \\nabla_{\\vw}^2  E(\\vw) = \\Phi^T R(\\vw) \\Phi\n",
    "    \\end{gather}\n",
    "    $$\n",
    "    \n",
    "- So the iteration step is\n",
    "    $$\n",
    "    \\begin{align}\n",
    "    \\vw_{n+1}\n",
    "    &= \\vw_n - \\left(\\nabla_{\\vw}^2  E(\\vw_n)\\right)^{-1} \\nabla_\\vw f(\\vw_n) \\\\\n",
    "    &= \\boxed{\\vw_n - \\left(\\Phi^T R(\\vw_n) \\Phi \\right)^{-1} \\Phi^T \\left( \\sigma(\\Phi \\vw_n) - \\vt \\right)}\n",
    "    \\end{align}\n",
    "    $$\n",
    "    \n",
    "- Repeat until convergence and we could get maximum likelihood estimate $\\vw_{ML}$ which minimizes the loss function $E(\\vw)$ and maximizes likelihood function $ P(\\vy = \\vt| \\mathcal{X}, \\vw)$"
   ]
  },
  {
   "cell_type": "markdown",
   "metadata": {
    "slideshow": {
     "slide_type": "slide"
    }
   },
   "source": [
    "### Logistic Regression: Do we have closed-form solution?\n",
    "\n",
    "- Recall for **ordinary least squares** and **regularized least squares**, we have closed-form solution:\n",
    "\n",
    "|               | Ordinary Least Squares  |  Regularized Least Squares |\n",
    "| ------------- | :-------------: | :-------------: |\n",
    "| **Derivate of Loss Function** | $\\Phi^T\\Phi \\vec{w} - \\Phi^T \\vec{t}$ | $(\\Phi^T \\Phi + \\lambda I)\\vec{w} - \\Phi^T \\vec{t}$ |\n",
    "| **Closed-form Solution**      | $(\\Phi^T \\Phi)^{-1} \\Phi^T \\vec{t}$   | $(\\Phi^T \\Phi + \\lambda I)^{-1} \\Phi^T \\vec{t}$     |\n",
    "\n",
    "- They are obtained by finding the closed-form root of derivative of loss function。\n",
    "\n",
    "- For logistic regression, we have\n",
    "    $$\n",
    "    \\begin{gather}\n",
    "    \\nabla_\\vw E(\\vw) = 0 \\\\\n",
    "    \\Downarrow \\\\\n",
    "    \\Phi^T \\left( \\sigma(\\Phi \\vw) - \\vt \\right) = 0\n",
    "    \\end{gather}\n",
    "    $$\n",
    "    \n",
    "- Existence of sigmoid function makes $\\nabla_\\vw E(\\vw)$ **nonlinear** and no closed-form solution exists.\n",
    "\n",
    "- So we must **iterate**!"
   ]
  },
  {
   "cell_type": "markdown",
   "metadata": {
    "slideshow": {
     "slide_type": "skip"
    }
   },
   "source": [
    "### Multi-class Classification using Logistic Regression\n",
    "\n",
    "- We have seen sigmoid function enables us to do binary classification with logistic regression.\n",
    "\n",
    "- What if we want have multiple classes?\n",
    "\n",
    "- We will resort to **softmax** aka **normalized exponential** function\n",
    "\n",
    "- **Softmax Function**\n",
    "    $$\n",
    "    p_k = \\frac{\\exp(q_k)}{\\sum_j \\exp(q_j)}\n",
    "    $$\n",
    "    Given any real numbers $q_1, \\ldots, q_n$, we can generate a distribution on them using softmax function.\n",
    "    \n",
    "- Recall in binary case, we have\n",
    "    $$\n",
    "    P(y = 1 | \\vx,\\vw) = \\sigma(\\vw^T \\phi(\\vx))\n",
    "    $$\n",
    "    "
   ]
  },
  {
   "cell_type": "markdown",
   "metadata": {
    "slideshow": {
     "slide_type": "skip"
    }
   },
   "source": [
    "- For K-class classification, we define $\\mathcal{W} = {\\vw}_{k=1}^K$. \n",
    "\n",
    "- The probability data $\\vx$ belongs to class $j$ is\n",
    "    $$\n",
    "    P(y = j | \\vx,\\mathcal{W}) = \\frac{\\exp(\\vw_j^T \\phi(\\vw))}{\\sum_{k=1}^{K} \\exp(\\vw_k^T \\phi(\\vw))}\n",
    "    $$\n",
    "    \n",
    "- We classify using\n",
    "    $$\n",
    "    y = \\underset{j \\in \\{1,\\dots, K\\}}{\\arg \\max} P(y = j | \\vx,\\mathcal{W})\n",
    "    $$\n",
    "    \n",
    "- Similarly, $\\mathcal{W} = {\\vw}_{k=1}^K$ is learned by maximizing likelihood function.\n",
    "\n",
    "- For details, please refer to [this](http://ufldl.stanford.edu/wiki/index.php/Softmax_Regression)"
   ]
  },
  {
   "cell_type": "markdown",
   "metadata": {},
   "source": [
    "## Softmax regression\n",
    "Softmax regression (or multinomial logistic regression) is a generalization of logistic regression to the case where we want to handle multiple classes. In logistic regression we assumed that the labels were binary: $y^{(i)} \\in \\{0,1\\}$. We used such a classifier to distinguish between two kinds of hand-written digits. Softmax regression allows us to handle $y^{(i)} \\in \\{1,\\ldots,K\\}$ where $K$ is the number of classes.\n",
    "\n",
    "Recall that in logistic regression, we had a training set $\\{ (x^{(1)}, y^{(1)}), \\ldots, (x^{(m)}, y^{(m)}) \\}$ of $m$ labeled examples, where the input features are $x^{(i)} \\in \\Re^{n}$. With logistic regression, we were in the binary classification setting, so the labels were $y^{(i)} \\in \\{0,1\\}$. Our hypothesis took the form:\n",
    "\\begin{align*}\n",
    "h_\\theta(x) = \\frac{1}{1+\\exp(-\\theta^\\top x)},\n",
    "\\end{align*}\n",
    "and the model parameters $\\theta$ were trained to minimize the cost function\n",
    "\\begin{align*}\n",
    "J(\\theta) = -\\left[ \\sum_{i=1}^m y^{(i)} \\log h_\\theta(x^{(i)}) + (1-y^{(i)}) \\log (1-h_\\theta(x^{(i)})) \\right]\n",
    "\\end{align*}\n",
    "In the softmax regression setting, we are interested in multi-class classification (as opposed to only binary classification), and so the label $y$ can take on $K$ different values, rather than only two. Thus, in our training set $\\{ (x^{(1)}, y^{(1)}), \\ldots, (x^{(m)}, y^{(m)}) \\}$, we now have that $y^{(i)} \\in \\{1, 2, \\ldots, K\\}$. (Note that our convention will be to index the classes starting from 1, rather than from 0.) For example, in the MNIST digit recognition task, we would have $K=10$ different classes.\n",
    "\n",
    "Given a test input $x$, we want our hypothesis to estimate the probability that $P(y=k | x)$ for each value of $k = 1, \\ldots, K$. I.e., we want to estimate the probability of the class label taking on each of the $K$ different possible values. Thus, our hypothesis will output a $K$-dimensional vector (whose elements sum to 1) giving us our $K$ estimated probabilities. Concretely, our hypothesis $h_{\\theta}(x)$ takes the form:\n",
    "\\begin{align*}\n",
    "h_\\theta(x) =\n",
    "\\begin{bmatrix}\n",
    "P(y = 1 | x; \\theta) \\\\\n",
    "P(y = 2 | x; \\theta) \\\\\n",
    "\\vdots \\\\\n",
    "P(y = K | x; \\theta)\n",
    "\\end{bmatrix}\n",
    "=\n",
    "\\frac{1}{ \\sum_{j=1}^{K}{\\exp(\\theta^{(j)\\top} x) }}\n",
    "\\begin{bmatrix}\n",
    "\\exp(\\theta^{(1)\\top} x ) \\\\\n",
    "\\exp(\\theta^{(2)\\top} x ) \\\\\n",
    "\\vdots \\\\\n",
    "\\exp(\\theta^{(K)\\top} x ) \\\\\n",
    "\\end{bmatrix}\n",
    "\\end{align*}\n",
    "Here $\\theta^{(1)}, \\theta^{(2)}, \\ldots, \\theta^{(K)} \\in \\Re^{n}$ are the parameters of our model. Notice that the term $\\frac{1}{ \\sum_{j=1}^{K}{\\exp(\\theta^{(j)\\top} x) } }$ normalizes the distribution, so that it sums to one.\n",
    "\n",
    "For convenience, we will also write $\\theta$ to denote all the parameters of our model. When you implement softmax regression, it is usually convenient to represent $\\theta$ as a $n$-by-$K$ matrix obtained by concatenating $\\theta^{(1)}, \\theta^{(2)}, \\ldots, \\theta^{(K)}$ into columns, so that\n",
    "\\begin{align*}\n",
    "\\theta = \\left[\\begin{array}{cccc}| & | & | & | \\\\\n",
    "\\theta^{(1)} & \\theta^{(2)} & \\cdots & \\theta^{(K)} \\\\\n",
    "| & | & | & |\n",
    "\\end{array}\\right].\n",
    "\\end{align*}\n",
    "\n",
    "### Cost Function\n",
    "We now describe the cost function that we’ll use for softmax regression. In the equation below, $1\\{\\cdot\\}$ is the ”‘indicator function,”’ so that $1\\{\\hbox{a true statement}\\}=1$, and $1\\{\\hbox{a false statement}\\}=0$. For example, $1\\{2+2=4\\}$ evaluates to 1; whereas $1\\{1+1=5\\}$ evaluates to 0. Our cost function will be:\n",
    "\\begin{align*}\n",
    "J(\\theta) = - \\left[ \\sum_{i=1}^{m} \\sum_{k=1}^{K}  1\\left\\{y^{(i)} = k\\right\\} \\log \\frac{\\exp(\\theta^{(k)\\top} x^{(i)})}{\\sum_{j=1}^K \\exp(\\theta^{(j)\\top} x^{(i)})}\\right]\n",
    "\\end{align*}\n",
    "Notice that this generalizes the logistic regression cost function, which could also have been written:\n",
    "\\begin{align*}\n",
    "J(\\theta) &= - \\left[ \\sum_{i=1}^m   (1-y^{(i)}) \\log (1-h_\\theta(x^{(i)})) + y^{(i)} \\log h_\\theta(x^{(i)}) \\right] \\\\\n",
    "&= - \\left[ \\sum_{i=1}^{m} \\sum_{k=0}^{1} 1\\left\\{y^{(i)} = k\\right\\} \\log P(y^{(i)} = k | x^{(i)} ; \\theta) \\right]\n",
    "\\end{align*}\n",
    "The softmax cost function is similar, except that we now sum over the $K$ different possible values of the class label. Note also that in softmax regression, we have that $P(y^{(i)} = k | x^{(i)} ; \\theta) = \\frac{\\exp(\\theta^{(k)\\top} x^{(i)})}{\\sum_{j=1}^K \\exp(\\theta^{(j)\\top} x^{(i)}) }$\n",
    "We cannot solve for the minimum of $J(\\theta)$ analytically, and thus as usual we’ll resort to an iterative optimization algorithm. Taking derivatives, one can show that the gradient is:\n",
    "\\begin{align*}\n",
    "\\nabla_{\\theta^{(k)}} J(\\theta) = - \\sum_{i=1}^{m}{ \\left[ x^{(i)} \\left( 1\\{ y^{(i)} = k\\}  - P(y^{(i)} = k | x^{(i)}; \\theta) \\right) \\right]  }\n",
    "\\end{align*}\n",
    "Recall the meaning of the $\\nabla_{\\theta^{(k)}}$ notation. In particular, $\\nabla_{\\theta^{(k)}} J(\\theta)$ is itself a vector, so that its $j^{th}$ element is $\\frac{\\partial J(\\theta)}{\\partial \\theta_{lk}}$ the partial derivative of $J(\\theta)$ with respect to the $j^{th}$ element of $\\theta^{(k)}$.\n",
    "\n",
    "Armed with this formula for the derivative, one can then plug it into a standard optimization package and have it minimize $J(\\theta)$. When implementing softmax regression, we will typically use a modified version of the cost function described above;\n",
    "specifically, one that incorporates weight decay.  We describe the motivation and details below.\n",
    "\n",
    "### Properties of softmax regression parametrization\n",
    "Softmax regression has an unusual property that it has a “redundant” set of parameters. To explain what this means, suppose we take each of our parameter vectors $\\theta^{(j)}$, and subtract some fixed vector $\\psi$ from it, so that every $\\theta^{(j)}$ is now replaced with $\\theta^{(j)} - \\psi$ (for every $j=1, \\ldots, k$). Our hypothesis now estimates the class label probabilities as.\n",
    "\\begin{align*}\n",
    "P(y^{(i)} = k | x^{(i)} ; \\theta)\n",
    "&= \\frac{\\exp((\\theta^{(k)}-\\psi)^\\top x^{(i)})}{\\sum_{j=1}^K \\exp( (\\theta^{(j)}-\\psi)^\\top x^{(i)})}  \\\\\n",
    "&= \\frac{\\exp(\\theta^{(k)\\top} x^{(i)}) \\exp(-\\psi^\\top x^{(i)})}{\\sum_{j=1}^K \\exp(\\theta^{(j)\\top} x^{(i)}) \\exp(-\\psi^\\top x^{(i)})} \\\\\n",
    "&= \\frac{\\exp(\\theta^{(k)\\top} x^{(i)})}{\\sum_{j=1}^K \\exp(\\theta^{(j)\\top} x^{(i)})}.\n",
    "\\end{align*}\n",
    "In other words, subtracting $\\psi$ from every $\\theta^{(j)}$ does not affect our hypothesis’ predictions at all! This shows that softmax regression’s parameters are “redundant.” More formally, we say that our softmax model is ”‘overparameterized,”’ meaning that for any hypothesis we might fit to the data, there are multiple parameter settings that give rise to exactly the same hypothesis function $h_\\theta$ mapping from inputs $x$ to the predictions.\n",
    "\n",
    "Further, if the cost function $J(\\theta)$ is minimized by some setting of the parameters $(\\theta^{(1)}, \\theta^{(2)},\\ldots, \\theta^{(k)})$, then it is also minimized by $(\\theta^{(1)} - \\psi, \\theta^{(2)} - \\psi,\\ldots,\n",
    "\\theta^{(k)} - \\psi)$ for any value of $\\psi$. Thus, the minimizer of $J(\\theta)$ is not unique. (Interestingly, $J(\\theta)$ is still convex, and thus gradient descent will not run into local optima problems. But the Hessian is singular/non-invertible, which causes a straightforward implementation of Newton’s method to run into numerical problems.)\n",
    "\n",
    "Notice also that by setting $\\psi = \\theta^{(K)}$, one can always replace $\\theta^{(K)}$ with $\\theta^{(K)} - \\psi = \\vec{0}$ (the vector of all 0’s), without affecting the hypothesis. Thus, one could “eliminate” the vector of parameters $\\theta^{(K)}$ (or any other $\\theta^{(k)}$, for any single value of $k$), without harming the representational power of our hypothesis. Indeed, rather than optimizing over the $K\\cdot n$ parameters $(\\theta^{(1)}, \\theta^{(2)},\\ldots, \\theta^{(K)})$ (where $\\theta^{(k)} \\in \\Re^{n}$), one can instead set $\\theta^{(K)} = \\vec{0}$ and optimize only with respect to the $K \\cdot n$ remaining parameters. In practice, however, it is often cleaner and simpler to implement the version which keeps\n",
    "all the parameters $(\\theta^{(1)}, \\theta^{(2)},\\ldots, \\theta^{(n)})$, without\n",
    "arbitrarily setting one of them to zero.  But we will\n",
    "make one change to the cost function: Adding weight decay.  This will take care of\n",
    "the numerical problems associated with softmax regression's overparameterized representation.\n",
    "\n",
    "### Weight Decay\n",
    "We will modify the cost function by adding a weight decay term \n",
    "$\\textstyle \\frac{\\lambda}{2} \\sum_{i=1}^k \\sum_{j=0}^{n} \\theta_{ij}^2$\n",
    "which penalizes large values of the parameters.  Our cost function is now\n",
    "\\begin{align*}\n",
    "J(\\theta) = - \\frac{1}{m} \\left[ \\sum_{i=1}^{m} \\sum_{j=1}^{k} 1\\left\\{y^{(i)} = j\\right\\} \\log \\frac{e^{\\theta^{(j)\\top} x^{(i)}}}{\\sum_{l=1}^k e^{ \\theta^{(l)\\top} x^{(i)} }}  \\right]\n",
    "              + \\frac{\\lambda}{2} \\sum_{i=1}^k \\sum_{j=0}^n \\theta_{ij}^2\n",
    "\\end{align*}\n",
    "\n",
    "With this weight decay term (for any $\\lambda > 0$), the cost function\n",
    "$J(\\theta)$ is now strictly convex, and is guaranteed to have a\n",
    "unique solution.  The Hessian is now invertible, and because $J(\\theta)$ is \n",
    "convex, algorithms such as gradient descent, L-BFGS, etc. are guaranteed\n",
    "to converge to the global minimum. To apply an optimization algorithm, we also need the derivative of this\n",
    "new definition of $J(\\theta)$.  One can show that the derivative is:\n",
    "\\begin{align*}\n",
    "\\nabla_{\\theta^{(j)}} J(\\theta) = - \\frac{1}{m} \\sum_{i=1}^{m}{ \\left[ x^{(i)} ( 1\\{ y^{(i)} = j\\}  - P(y^{(i)} = j | x^{(i)}; \\theta) ) \\right]  } + \\lambda \\theta^{(j)}\n",
    "\\end{align*}\n",
    "\n",
    "By minimizing $J(\\theta)$ with respect to $\\theta$, we will have a working implementation of softmax regression.\n",
    "\\subsection{Relationship to Logistic Regression}\n",
    "In the special case where $K = 2$, one can show that softmax regression reduces to logistic regression. This shows that softmax regression is a generalization of logistic regression. Concretely, when $K=2$, the softmax regression hypothesis outputs\n",
    "\\begin{align*}\n",
    "h_\\theta(x) &=\n",
    "\\frac{1}{ \\exp(\\theta^{(1)\\top}x)  + \\exp( \\theta^{(2)\\top} x^{(i)} ) }\n",
    "\\begin{bmatrix}\n",
    "\\exp( \\theta^{(1)\\top} x ) \\\\\n",
    "\\exp( \\theta^{(2)\\top} x )\n",
    "\\end{bmatrix}\n",
    "\\end{align*}\n",
    "Taking advantage of the fact that this hypothesis is overparameterized and setting $\\psi = \\theta^{(2)}$, we can subtract $\\theta^{(2)}$ from each of the two parameters, giving us\n",
    "\\begin{align*}\n",
    "h(x) &=\n",
    "\\frac{1}{ \\exp( (\\theta^{(1)}-\\theta^{(2)})^\\top x^{(i)} ) + \\exp(\\vec{0}^\\top x) }\n",
    "\\begin{bmatrix}\n",
    "\\exp( (\\theta^{(1)}-\\theta^{(2)})^\\top x )\n",
    "\\exp( \\vec{0}^\\top x ) \\\\\n",
    "\\end{bmatrix} \\\\\n",
    "&=\n",
    "\\begin{bmatrix}\n",
    "\\frac{1}{ 1 + \\exp( (\\theta^{(1)}-\\theta^{(2)})^\\top x^{(i)} ) } \\\\\n",
    "\\frac{\\exp( (\\theta^{(1)}-\\theta^{(2)})^\\top x )}{ 1 + \\exp( (\\theta^{(1)}-\\theta^{(2)})^\\top x^{(i)} ) }\n",
    "\\end{bmatrix} \\\\\n",
    "&=\n",
    "\\begin{bmatrix}\n",
    "\\frac{1}{ 1  + \\exp( (\\theta^{(1)}-\\theta^{(2)})^\\top x^{(i)} ) } \\\\\n",
    "1 - \\frac{1}{ 1  + \\exp( (\\theta^{(1)}-\\theta^{(2)})^\\top x^{(i)} ) } \\\\\n",
    "\\end{bmatrix}\n",
    "\\end{align*}\n",
    "Thus, replacing $\\theta^{(2)}-\\theta^{(1)}$ with a single parameter vector $\\theta'$, we find that softmax regression predicts the probability of one of the classes as $\\frac{1}{ 1  + \\exp(- (\\theta')^\\top x^{(i)} ) }$, and that of the other class as $1 - \\frac{1}{ 1 + \\exp(- (\\theta')^\\top x^{(i)} ) }$, same as logistic regression.\n",
    "\n",
    "### Relationship to Logistic Regression\n",
    "In the special case where k = 2, one can show that softmax regression reduces to logistic regression. This shows that softmax regression is a generalization of logistic regression. Concretely, when k = 2, the softmax regression hypothesis outputs\n",
    "\n",
    "\\begin{align*}\n",
    "h_\\theta(x) &= \\frac{1}{ e^{\\theta_1^Tx}  + e^{ \\theta_2^T x^{(i)} } }\n",
    "\\begin{bmatrix}\n",
    "&e^{ \\theta_1^T x } \\\\&e^{ \\theta_2^T x }\n",
    "\\end{bmatrix}\n",
    "\\end{align*}\n",
    "\n",
    "Taking advantage of the fact that this hypothesis is overparameterized and setting ψ = θ1, we can subtract θ1 from each of the two parameters, giving us\n",
    "\n",
    "\n",
    "Thus, replacing θ2 − θ1 with a single parameter vector θ', we find that softmax regression predicts the probability of one of the classes as $$\\frac{1}{ 1  + e^{ (\\theta')^T x^{(i)} } }$$, and that of the other class as $$1 - \\frac{1}{ 1 + e^{ (\\theta')^T x^{(i)} } }$$, same as logistic regression.\n",
    "\n",
    "\n",
    "### Softmax Regression vs. $k$ Binary Classifiers\n",
    "Suppose you are working on a music classification application, and there are\n",
    "$k$ types of music that you are trying to recognize.  Should you use a\n",
    "softmax classifier, or should you build $k$ separate binary classifiers using\n",
    "logistic regression?\n",
    "\n",
    "This will depend on whether the four classes are ''mutually exclusive.''  For example,\n",
    "if your four classes are classical, country, rock, and jazz, then assuming each\n",
    "of your training examples is labeled with exactly one of these four class labels,\n",
    "you should build a softmax classifier with $k=4$.\n",
    "(If there're also some examples that are none of the above four classes,\n",
    "then you can set $k=5$ in softmax regression, and also have a fifth, \"none of the above,\" class.)\n",
    "\n",
    "If however your categories are has\\_vocals, dance, soundtrack, pop, then the\n",
    "classes are not mutually exclusive; for example, there can be a piece of pop\n",
    "music that comes from a soundtrack and in addition has vocals.  In this case, it\n",
    "would be more appropriate to build 4 binary logistic regression classifiers. \n",
    "This way, for each new musical piece, your algorithm can separately decide whether\n",
    "it falls into each of the four categories.\n",
    "\n",
    "Now, consider a computer vision example, where you're trying to classify images into\n",
    "three different classes.  (i) Suppose that your classes are indoor\\_scene,\n",
    "outdoor\\_urban\\_scene, and outdoor\\_wilderness\\_scene.  Would you use softmax regression\n",
    "or three logistic regression classifiers?  (ii) Now suppose your classes are\n",
    "indoor\\_scene, black\\_and\\_white\\_image, and image\\_has\\_people.  Would you use softmax\n",
    "regression or multiple logistic regression classifiers?\n",
    "\n",
    "In the first case, the classes are mutually exclusive, so a softmax regression\n",
    "classifier would be appropriate.  In the second case, it would be more appropriate to build\n",
    "three separate logistic regression classifiers.\n"
   ]
  },
  {
   "cell_type": "code",
   "execution_count": null,
   "metadata": {
    "collapsed": true
   },
   "outputs": [],
   "source": []
  }
 ],
 "metadata": {
  "celltoolbar": "Raw Cell Format",
  "kernelspec": {
   "display_name": "Python 3",
   "language": "python",
   "name": "python3"
  },
  "language_info": {
   "codemirror_mode": {
    "name": "ipython",
    "version": 3
   },
   "file_extension": ".py",
   "mimetype": "text/x-python",
   "name": "python",
   "nbconvert_exporter": "python",
   "pygments_lexer": "ipython3",
   "version": "3.5.2"
  }
 },
 "nbformat": 4,
 "nbformat_minor": 0
}
